{
 "cells": [
  {
   "cell_type": "code",
   "execution_count": 1,
   "id": "1ba6a389",
   "metadata": {},
   "outputs": [],
   "source": [
    "import pandas as pd\n",
    "import numpy as np\n",
    "\n",
    "valencia_df = pd.read_csv('airbnb_valencia.csv')"
   ]
  },
  {
   "cell_type": "markdown",
   "id": "3492f19d",
   "metadata": {},
   "source": [
    "- escribir una funcion llamada `predict_price` que utilice los knn para calcular el valor sugerido para cualquier valor de capacidad\n"
   ]
  },
  {
   "cell_type": "code",
   "execution_count": 2,
   "id": "aff7cf5e",
   "metadata": {},
   "outputs": [],
   "source": [
    "# corregir los datos de la columna price\n",
    "valencia_df['price'] = valencia_df['price'].str.replace(',', '').str.replace('$', '', regex=False).astype('float')"
   ]
  },
  {
   "cell_type": "code",
   "execution_count": 3,
   "id": "d4919731",
   "metadata": {},
   "outputs": [],
   "source": [
    "# barajar los datos\n",
    "np.random.seed(2)\n",
    "valencia_df = valencia_df.loc[np.random.permutation(len(valencia_df))]"
   ]
  },
  {
   "cell_type": "code",
   "execution_count": 12,
   "id": "19597f9b",
   "metadata": {},
   "outputs": [],
   "source": [
    "def predict_price(mi_capacidad, df, k):\n",
    "    temp_df = df.copy()\n",
    "    temp_df['distance'] = temp_df['accommodates'].apply(lambda x: np.abs(mi_capacidad - x))\n",
    "    return temp_df.sort_values('distance').iloc[0:k]['price'].mean()"
   ]
  },
  {
   "cell_type": "code",
   "execution_count": 7,
   "id": "8a292ceb",
   "metadata": {},
   "outputs": [
    {
     "data": {
      "text/plain": [
       "72.4"
      ]
     },
     "execution_count": 7,
     "metadata": {},
     "output_type": "execute_result"
    }
   ],
   "source": [
    "predict_price(3, valencia_df, 5)"
   ]
  },
  {
   "cell_type": "code",
   "execution_count": 9,
   "id": "d1dc1132",
   "metadata": {},
   "outputs": [
    {
     "data": {
      "text/plain": [
       "244.4"
      ]
     },
     "execution_count": 9,
     "metadata": {},
     "output_type": "execute_result"
    }
   ],
   "source": [
    "predict_price(8, valencia_df, 5)"
   ]
  },
  {
   "cell_type": "code",
   "execution_count": 10,
   "id": "648d521e",
   "metadata": {},
   "outputs": [
    {
     "data": {
      "text/plain": [
       "423.2"
      ]
     },
     "execution_count": 10,
     "metadata": {},
     "output_type": "execute_result"
    }
   ],
   "source": [
    "predict_price(15, valencia_df, 5)"
   ]
  },
  {
   "cell_type": "code",
   "execution_count": 15,
   "id": "050a75b3",
   "metadata": {},
   "outputs": [
    {
     "data": {
      "text/plain": [
       "76.03111111111112"
      ]
     },
     "execution_count": 15,
     "metadata": {},
     "output_type": "execute_result"
    }
   ],
   "source": [
    "predict_price(3, valencia_df, 900)"
   ]
  },
  {
   "cell_type": "code",
   "execution_count": 17,
   "id": "bd1c30cf",
   "metadata": {},
   "outputs": [
    {
     "data": {
      "text/plain": [
       "77.0"
      ]
     },
     "execution_count": 17,
     "metadata": {},
     "output_type": "execute_result"
    }
   ],
   "source": [
    "predict_price(3, valencia_df, 1)"
   ]
  },
  {
   "cell_type": "code",
   "execution_count": 26,
   "id": "23b31b31",
   "metadata": {},
   "outputs": [
    {
     "name": "stdout",
     "output_type": "stream",
     "text": [
      "capacidad 1 25.4\n",
      "capacidad 2 62.0\n",
      "capacidad 3 80.2\n",
      "capacidad 4 161.0\n",
      "capacidad 5 179.13333333333333\n",
      "capacidad 6 95.8\n",
      "capacidad 7 119.73333333333333\n",
      "capacidad 8 250.33333333333334\n",
      "capacidad 9 208.73333333333332\n",
      "capacidad 10 223.0\n",
      "capacidad 11 251.2\n",
      "capacidad 12 280.06666666666666\n",
      "capacidad 13 367.06666666666666\n",
      "capacidad 14 379.1333333333333\n",
      "capacidad 15 633.0\n",
      "capacidad 16 633.0\n",
      "capacidad 17 633.0\n",
      "capacidad 18 633.0\n",
      "capacidad 19 633.0\n"
     ]
    }
   ],
   "source": [
    "for i in range(1,20):\n",
    "    print('capacidad', i, predict_price(i, valencia_df, 15))"
   ]
  },
  {
   "cell_type": "code",
   "execution_count": 25,
   "id": "04386011",
   "metadata": {},
   "outputs": [
    {
     "data": {
      "text/html": [
       "<div>\n",
       "<style scoped>\n",
       "    .dataframe tbody tr th:only-of-type {\n",
       "        vertical-align: middle;\n",
       "    }\n",
       "\n",
       "    .dataframe tbody tr th {\n",
       "        vertical-align: top;\n",
       "    }\n",
       "\n",
       "    .dataframe thead th {\n",
       "        text-align: right;\n",
       "    }\n",
       "</style>\n",
       "<table border=\"1\" class=\"dataframe\">\n",
       "  <thead>\n",
       "    <tr style=\"text-align: right;\">\n",
       "      <th></th>\n",
       "      <th>accommodates</th>\n",
       "      <th>price</th>\n",
       "    </tr>\n",
       "  </thead>\n",
       "  <tbody>\n",
       "    <tr>\n",
       "      <th>count</th>\n",
       "      <td>195.0</td>\n",
       "      <td>195.000000</td>\n",
       "    </tr>\n",
       "    <tr>\n",
       "      <th>mean</th>\n",
       "      <td>8.0</td>\n",
       "      <td>187.466667</td>\n",
       "    </tr>\n",
       "    <tr>\n",
       "      <th>std</th>\n",
       "      <td>0.0</td>\n",
       "      <td>136.170423</td>\n",
       "    </tr>\n",
       "    <tr>\n",
       "      <th>min</th>\n",
       "      <td>8.0</td>\n",
       "      <td>35.000000</td>\n",
       "    </tr>\n",
       "    <tr>\n",
       "      <th>25%</th>\n",
       "      <td>8.0</td>\n",
       "      <td>96.000000</td>\n",
       "    </tr>\n",
       "    <tr>\n",
       "      <th>50%</th>\n",
       "      <td>8.0</td>\n",
       "      <td>143.000000</td>\n",
       "    </tr>\n",
       "    <tr>\n",
       "      <th>75%</th>\n",
       "      <td>8.0</td>\n",
       "      <td>250.000000</td>\n",
       "    </tr>\n",
       "    <tr>\n",
       "      <th>max</th>\n",
       "      <td>8.0</td>\n",
       "      <td>800.000000</td>\n",
       "    </tr>\n",
       "  </tbody>\n",
       "</table>\n",
       "</div>"
      ],
      "text/plain": [
       "       accommodates       price\n",
       "count         195.0  195.000000\n",
       "mean            8.0  187.466667\n",
       "std             0.0  136.170423\n",
       "min             8.0   35.000000\n",
       "25%             8.0   96.000000\n",
       "50%             8.0  143.000000\n",
       "75%             8.0  250.000000\n",
       "max             8.0  800.000000"
      ]
     },
     "execution_count": 25,
     "metadata": {},
     "output_type": "execute_result"
    }
   ],
   "source": [
    "valencia_df[valencia_df['accommodates'] == 8][['accommodates', 'price']].describe()"
   ]
  },
  {
   "cell_type": "code",
   "execution_count": null,
   "id": "bb74ad7c",
   "metadata": {},
   "outputs": [],
   "source": []
  }
 ],
 "metadata": {
  "kernelspec": {
   "display_name": "Python 3 (ipykernel)",
   "language": "python",
   "name": "python3"
  },
  "language_info": {
   "codemirror_mode": {
    "name": "ipython",
    "version": 3
   },
   "file_extension": ".py",
   "mimetype": "text/x-python",
   "name": "python",
   "nbconvert_exporter": "python",
   "pygments_lexer": "ipython3",
   "version": "3.10.5"
  }
 },
 "nbformat": 4,
 "nbformat_minor": 5
}
