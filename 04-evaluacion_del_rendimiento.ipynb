{
 "cells": [
  {
   "cell_type": "markdown",
   "id": "6855d70c",
   "metadata": {},
   "source": [
    "# Comprobar la calidad de la predicción\n"
   ]
  },
  {
   "cell_type": "markdown",
   "id": "facd9d04",
   "metadata": {},
   "source": [
    "Dividir el dataframe en dos particiones:\n",
    " - El conjunto de entrenamiento: tiene que tener la mayoría de las filas (75-80%)\n",
    " - El conjunto de test: el resto de las filas (20-25%)\n",
    " \n",
    "Vamos a buscar los k vecinos más cercanos en el conjunto de entrenamiento (*train*), en ningún caso en el de test \n",
    "\n",
    "Luego, por cada fila del conjunto de *test*, vamos a calcular la predicción, y la vamos a comparar con el resultado real. En este conjunto, añadiremos una fila, que llamaremos *predicted_price* y la compararemos con los valores de *price* reales. "
   ]
  },
  {
   "cell_type": "code",
   "execution_count": 1,
   "id": "578746bc",
   "metadata": {},
   "outputs": [],
   "source": [
    "import pandas as pd\n",
    "import numpy as np\n",
    "import math\n",
    "\n",
    "valencia_df = pd.read_csv('airbnb_valencia.csv')\n",
    "# corregir los datos de la columna price\n",
    "valencia_df['price'] = valencia_df['price'].str.replace(',', '').str.replace('$', '', regex=False).astype('float')\n",
    "# barajar los datos - es importante hacerlo ANTES de crear los conjuntos de entrenamiento y test\n",
    "np.random.seed(2)\n",
    "valencia_df = valencia_df.loc[np.random.permutation(len(valencia_df))]"
   ]
  },
  {
   "cell_type": "code",
   "execution_count": 2,
   "id": "09de608c",
   "metadata": {},
   "outputs": [
    {
     "data": {
      "text/plain": [
       "4820"
      ]
     },
     "execution_count": 2,
     "metadata": {},
     "output_type": "execute_result"
    }
   ],
   "source": [
    "math.trunc(len(valencia_df)*0.8)"
   ]
  },
  {
   "cell_type": "code",
   "execution_count": 3,
   "id": "7f7a8966",
   "metadata": {},
   "outputs": [],
   "source": [
    "# generamos los dos conjuntos\n",
    "train_df = valencia_df.iloc[0:math.trunc(len(valencia_df)*0.8)].copy()\n",
    "test_df = valencia_df.iloc[math.trunc(len(valencia_df)*0.8):].copy()"
   ]
  },
  {
   "cell_type": "code",
   "execution_count": 4,
   "id": "19de4a8b",
   "metadata": {},
   "outputs": [
    {
     "data": {
      "text/plain": [
       "(4820, 74)"
      ]
     },
     "execution_count": 4,
     "metadata": {},
     "output_type": "execute_result"
    }
   ],
   "source": [
    "train_df.shape"
   ]
  },
  {
   "cell_type": "code",
   "execution_count": 5,
   "id": "622de1b0",
   "metadata": {},
   "outputs": [
    {
     "data": {
      "text/plain": [
       "(1205, 74)"
      ]
     },
     "execution_count": 5,
     "metadata": {},
     "output_type": "execute_result"
    }
   ],
   "source": [
    "test_df.shape"
   ]
  },
  {
   "cell_type": "code",
   "execution_count": 6,
   "id": "fdcb7dfb",
   "metadata": {},
   "outputs": [],
   "source": [
    "def predict_price(mi_capacidad):\n",
    "    temp_df = train_df.copy()\n",
    "    temp_df['distance'] = temp_df['accommodates'].apply(lambda x: np.abs(mi_capacidad - x))\n",
    "    return temp_df.sort_values('distance').iloc[0:5]['price'].mean()"
   ]
  },
  {
   "cell_type": "code",
   "execution_count": 7,
   "id": "43f7621c",
   "metadata": {},
   "outputs": [],
   "source": [
    "test_df['predicted_price'] = test_df['accommodates'].apply(predict_price)"
   ]
  },
  {
   "cell_type": "code",
   "execution_count": 8,
   "id": "6ef9b9dd",
   "metadata": {},
   "outputs": [
    {
     "data": {
      "text/html": [
       "<div>\n",
       "<style scoped>\n",
       "    .dataframe tbody tr th:only-of-type {\n",
       "        vertical-align: middle;\n",
       "    }\n",
       "\n",
       "    .dataframe tbody tr th {\n",
       "        vertical-align: top;\n",
       "    }\n",
       "\n",
       "    .dataframe thead th {\n",
       "        text-align: right;\n",
       "    }\n",
       "</style>\n",
       "<table border=\"1\" class=\"dataframe\">\n",
       "  <thead>\n",
       "    <tr style=\"text-align: right;\">\n",
       "      <th></th>\n",
       "      <th>name</th>\n",
       "      <th>price</th>\n",
       "      <th>predicted_price</th>\n",
       "    </tr>\n",
       "  </thead>\n",
       "  <tbody>\n",
       "    <tr>\n",
       "      <th>2469</th>\n",
       "      <td>BEACH AREA ★ COZY APARTMENT WITH PRIVATE TERRACE</td>\n",
       "      <td>61.0</td>\n",
       "      <td>96.2</td>\n",
       "    </tr>\n",
       "    <tr>\n",
       "      <th>3617</th>\n",
       "      <td>Habitación disponible para fallas!</td>\n",
       "      <td>31.0</td>\n",
       "      <td>90.4</td>\n",
       "    </tr>\n",
       "    <tr>\n",
       "      <th>859</th>\n",
       "      <td>Mercado Central X</td>\n",
       "      <td>131.0</td>\n",
       "      <td>96.2</td>\n",
       "    </tr>\n",
       "    <tr>\n",
       "      <th>12</th>\n",
       "      <td>Lovely Central Market Plaza Apt.</td>\n",
       "      <td>80.0</td>\n",
       "      <td>84.0</td>\n",
       "    </tr>\n",
       "    <tr>\n",
       "      <th>4852</th>\n",
       "      <td>Apartamento lujo con piscina, parque y cércala...</td>\n",
       "      <td>200.0</td>\n",
       "      <td>121.6</td>\n",
       "    </tr>\n",
       "    <tr>\n",
       "      <th>...</th>\n",
       "      <td>...</td>\n",
       "      <td>...</td>\n",
       "      <td>...</td>\n",
       "    </tr>\n",
       "    <tr>\n",
       "      <th>1099</th>\n",
       "      <td>PISO ACOGEDOR EN  EL CENTRO (Pl. Pilar)</td>\n",
       "      <td>89.0</td>\n",
       "      <td>121.6</td>\n",
       "    </tr>\n",
       "    <tr>\n",
       "      <th>2514</th>\n",
       "      <td>Loft 2 independiente Piscina Centro Valencia</td>\n",
       "      <td>64.0</td>\n",
       "      <td>96.2</td>\n",
       "    </tr>\n",
       "    <tr>\n",
       "      <th>3606</th>\n",
       "      <td>Habitación amplia y luminosa !</td>\n",
       "      <td>36.0</td>\n",
       "      <td>84.0</td>\n",
       "    </tr>\n",
       "    <tr>\n",
       "      <th>5704</th>\n",
       "      <td>FV-Nice Flat 2 rooms, good located,wifi high s...</td>\n",
       "      <td>73.0</td>\n",
       "      <td>92.2</td>\n",
       "    </tr>\n",
       "    <tr>\n",
       "      <th>2575</th>\n",
       "      <td>TYNE ARTIS HOUSE,  in city center ac + wifi</td>\n",
       "      <td>60.0</td>\n",
       "      <td>84.0</td>\n",
       "    </tr>\n",
       "  </tbody>\n",
       "</table>\n",
       "<p>1205 rows × 3 columns</p>\n",
       "</div>"
      ],
      "text/plain": [
       "                                                   name  price  \\\n",
       "2469   BEACH AREA ★ COZY APARTMENT WITH PRIVATE TERRACE   61.0   \n",
       "3617                 Habitación disponible para fallas!   31.0   \n",
       "859                                   Mercado Central X  131.0   \n",
       "12                     Lovely Central Market Plaza Apt.   80.0   \n",
       "4852  Apartamento lujo con piscina, parque y cércala...  200.0   \n",
       "...                                                 ...    ...   \n",
       "1099            PISO ACOGEDOR EN  EL CENTRO (Pl. Pilar)   89.0   \n",
       "2514       Loft 2 independiente Piscina Centro Valencia   64.0   \n",
       "3606                     Habitación amplia y luminosa !   36.0   \n",
       "5704  FV-Nice Flat 2 rooms, good located,wifi high s...   73.0   \n",
       "2575        TYNE ARTIS HOUSE,  in city center ac + wifi   60.0   \n",
       "\n",
       "      predicted_price  \n",
       "2469             96.2  \n",
       "3617             90.4  \n",
       "859              96.2  \n",
       "12               84.0  \n",
       "4852            121.6  \n",
       "...               ...  \n",
       "1099            121.6  \n",
       "2514             96.2  \n",
       "3606             84.0  \n",
       "5704             92.2  \n",
       "2575             84.0  \n",
       "\n",
       "[1205 rows x 3 columns]"
      ]
     },
     "execution_count": 8,
     "metadata": {},
     "output_type": "execute_result"
    }
   ],
   "source": [
    "test_df[['name', 'price', 'predicted_price']]"
   ]
  },
  {
   "cell_type": "code",
   "execution_count": 9,
   "id": "5e91d23d",
   "metadata": {},
   "outputs": [
    {
     "data": {
      "text/plain": [
       "-6.589709543568465"
      ]
     },
     "execution_count": 9,
     "metadata": {},
     "output_type": "execute_result"
    }
   ],
   "source": [
    "# esto no valdría porque los resultados negativos y positivos se anulan\n",
    "(test_df['price'] - test_df['predicted_price']).mean()"
   ]
  },
  {
   "cell_type": "code",
   "execution_count": 10,
   "id": "a7e38983",
   "metadata": {},
   "outputs": [
    {
     "data": {
      "text/plain": [
       "43.709377593361"
      ]
     },
     "execution_count": 10,
     "metadata": {},
     "output_type": "execute_result"
    }
   ],
   "source": [
    "# vamos a coger la media de las desviaciones pero en valor absoluto\n",
    "(np.abs(test_df['price'] - test_df['predicted_price'])).mean()"
   ]
  },
  {
   "cell_type": "markdown",
   "id": "2fe6b8b7",
   "metadata": {},
   "source": [
    "MAE = MEDIUM ABSOLUTE ERROR (ERROR MEDIO ABSOLUTO)"
   ]
  },
  {
   "cell_type": "code",
   "execution_count": 22,
   "id": "69d65744",
   "metadata": {},
   "outputs": [],
   "source": [
    "# A continuación, en aras de penalizar valores muy alejados, podemos hacer la media del cuadrado de las diferencias\n",
    "\n",
    "mse_accommodates = ((test_df['price'] - test_df['predicted_price'])**2).mean()\n"
   ]
  },
  {
   "cell_type": "markdown",
   "id": "7c2084ff",
   "metadata": {},
   "source": [
    "# Entrenamos otro modelo \n",
    "\n"
   ]
  },
  {
   "cell_type": "code",
   "execution_count": 12,
   "id": "b8ab727e",
   "metadata": {},
   "outputs": [
    {
     "name": "stdout",
     "output_type": "stream",
     "text": [
      "<class 'pandas.core.frame.DataFrame'>\n",
      "Int64Index: 6025 entries, 103 to 2575\n",
      "Data columns (total 74 columns):\n",
      " #   Column                                        Non-Null Count  Dtype  \n",
      "---  ------                                        --------------  -----  \n",
      " 0   id                                            6025 non-null   int64  \n",
      " 1   listing_url                                   6025 non-null   object \n",
      " 2   scrape_id                                     6025 non-null   int64  \n",
      " 3   last_scraped                                  6025 non-null   object \n",
      " 4   name                                          6025 non-null   object \n",
      " 5   description                                   5848 non-null   object \n",
      " 6   neighborhood_overview                         3458 non-null   object \n",
      " 7   picture_url                                   6025 non-null   object \n",
      " 8   host_id                                       6025 non-null   int64  \n",
      " 9   host_url                                      6025 non-null   object \n",
      " 10  host_name                                     6025 non-null   object \n",
      " 11  host_since                                    6025 non-null   object \n",
      " 12  host_location                                 6009 non-null   object \n",
      " 13  host_about                                    3230 non-null   object \n",
      " 14  host_response_time                            5467 non-null   object \n",
      " 15  host_response_rate                            5467 non-null   object \n",
      " 16  host_acceptance_rate                          5741 non-null   object \n",
      " 17  host_is_superhost                             6025 non-null   object \n",
      " 18  host_thumbnail_url                            6025 non-null   object \n",
      " 19  host_picture_url                              6025 non-null   object \n",
      " 20  host_neighbourhood                            2704 non-null   object \n",
      " 21  host_listings_count                           6025 non-null   int64  \n",
      " 22  host_total_listings_count                     6025 non-null   int64  \n",
      " 23  host_verifications                            6025 non-null   object \n",
      " 24  host_has_profile_pic                          6025 non-null   object \n",
      " 25  host_identity_verified                        6025 non-null   object \n",
      " 26  neighbourhood                                 3458 non-null   object \n",
      " 27  neighbourhood_cleansed                        6025 non-null   object \n",
      " 28  neighbourhood_group_cleansed                  6025 non-null   object \n",
      " 29  latitude                                      6025 non-null   float64\n",
      " 30  longitude                                     6025 non-null   float64\n",
      " 31  property_type                                 6025 non-null   object \n",
      " 32  room_type                                     6025 non-null   object \n",
      " 33  accommodates                                  6025 non-null   int64  \n",
      " 34  bathrooms                                     0 non-null      float64\n",
      " 35  bathrooms_text                                6020 non-null   object \n",
      " 36  bedrooms                                      5717 non-null   float64\n",
      " 37  beds                                          5917 non-null   float64\n",
      " 38  amenities                                     6025 non-null   object \n",
      " 39  price                                         6025 non-null   float64\n",
      " 40  minimum_nights                                6025 non-null   int64  \n",
      " 41  maximum_nights                                6025 non-null   int64  \n",
      " 42  minimum_minimum_nights                        6025 non-null   int64  \n",
      " 43  maximum_minimum_nights                        6025 non-null   int64  \n",
      " 44  minimum_maximum_nights                        6025 non-null   int64  \n",
      " 45  maximum_maximum_nights                        6025 non-null   int64  \n",
      " 46  minimum_nights_avg_ntm                        6025 non-null   float64\n",
      " 47  maximum_nights_avg_ntm                        6025 non-null   float64\n",
      " 48  calendar_updated                              0 non-null      float64\n",
      " 49  has_availability                              6025 non-null   object \n",
      " 50  availability_30                               6025 non-null   int64  \n",
      " 51  availability_60                               6025 non-null   int64  \n",
      " 52  availability_90                               6025 non-null   int64  \n",
      " 53  availability_365                              6025 non-null   int64  \n",
      " 54  calendar_last_scraped                         6025 non-null   object \n",
      " 55  number_of_reviews                             6025 non-null   int64  \n",
      " 56  number_of_reviews_ltm                         6025 non-null   int64  \n",
      " 57  number_of_reviews_l30d                        6025 non-null   int64  \n",
      " 58  first_review                                  5104 non-null   object \n",
      " 59  last_review                                   5104 non-null   object \n",
      " 60  review_scores_rating                          5104 non-null   float64\n",
      " 61  review_scores_accuracy                        5082 non-null   float64\n",
      " 62  review_scores_cleanliness                     5082 non-null   float64\n",
      " 63  review_scores_checkin                         5082 non-null   float64\n",
      " 64  review_scores_communication                   5082 non-null   float64\n",
      " 65  review_scores_location                        5082 non-null   float64\n",
      " 66  review_scores_value                           5082 non-null   float64\n",
      " 67  license                                       1864 non-null   object \n",
      " 68  instant_bookable                              6025 non-null   object \n",
      " 69  calculated_host_listings_count                6025 non-null   int64  \n",
      " 70  calculated_host_listings_count_entire_homes   6025 non-null   int64  \n",
      " 71  calculated_host_listings_count_private_rooms  6025 non-null   int64  \n",
      " 72  calculated_host_listings_count_shared_rooms   6025 non-null   int64  \n",
      " 73  reviews_per_month                             5104 non-null   float64\n",
      "dtypes: float64(17), int64(23), object(34)\n",
      "memory usage: 3.4+ MB\n"
     ]
    }
   ],
   "source": [
    "valencia_df.info()"
   ]
  },
  {
   "cell_type": "code",
   "execution_count": 13,
   "id": "8fd6f329",
   "metadata": {},
   "outputs": [],
   "source": [
    "def predict_price_bedrooms(n_bedrooms):\n",
    "    temp_df = train_df.copy()\n",
    "    temp_df['distance'] = temp_df['bedrooms'].apply(lambda x: np.abs(n_bedrooms - x))\n",
    "    return temp_df.sort_values('distance').iloc[0:5]['price'].mean()"
   ]
  },
  {
   "cell_type": "code",
   "execution_count": 14,
   "id": "744ed2d9",
   "metadata": {},
   "outputs": [],
   "source": [
    "test_df['predicted_price_bedrooms'] = test_df['bedrooms'].apply(predict_price_bedrooms)"
   ]
  },
  {
   "cell_type": "code",
   "execution_count": 15,
   "id": "f79add57",
   "metadata": {},
   "outputs": [
    {
     "data": {
      "text/html": [
       "<div>\n",
       "<style scoped>\n",
       "    .dataframe tbody tr th:only-of-type {\n",
       "        vertical-align: middle;\n",
       "    }\n",
       "\n",
       "    .dataframe tbody tr th {\n",
       "        vertical-align: top;\n",
       "    }\n",
       "\n",
       "    .dataframe thead th {\n",
       "        text-align: right;\n",
       "    }\n",
       "</style>\n",
       "<table border=\"1\" class=\"dataframe\">\n",
       "  <thead>\n",
       "    <tr style=\"text-align: right;\">\n",
       "      <th></th>\n",
       "      <th>name</th>\n",
       "      <th>price</th>\n",
       "      <th>predicted_price</th>\n",
       "      <th>predicted_price_bedrooms</th>\n",
       "    </tr>\n",
       "  </thead>\n",
       "  <tbody>\n",
       "    <tr>\n",
       "      <th>2469</th>\n",
       "      <td>BEACH AREA ★ COZY APARTMENT WITH PRIVATE TERRACE</td>\n",
       "      <td>61.0</td>\n",
       "      <td>96.2</td>\n",
       "      <td>99.8</td>\n",
       "    </tr>\n",
       "    <tr>\n",
       "      <th>3617</th>\n",
       "      <td>Habitación disponible para fallas!</td>\n",
       "      <td>31.0</td>\n",
       "      <td>90.4</td>\n",
       "      <td>70.0</td>\n",
       "    </tr>\n",
       "    <tr>\n",
       "      <th>859</th>\n",
       "      <td>Mercado Central X</td>\n",
       "      <td>131.0</td>\n",
       "      <td>96.2</td>\n",
       "      <td>68.2</td>\n",
       "    </tr>\n",
       "    <tr>\n",
       "      <th>12</th>\n",
       "      <td>Lovely Central Market Plaza Apt.</td>\n",
       "      <td>80.0</td>\n",
       "      <td>84.0</td>\n",
       "      <td>68.2</td>\n",
       "    </tr>\n",
       "    <tr>\n",
       "      <th>4852</th>\n",
       "      <td>Apartamento lujo con piscina, parque y cércala...</td>\n",
       "      <td>200.0</td>\n",
       "      <td>121.6</td>\n",
       "      <td>70.0</td>\n",
       "    </tr>\n",
       "    <tr>\n",
       "      <th>...</th>\n",
       "      <td>...</td>\n",
       "      <td>...</td>\n",
       "      <td>...</td>\n",
       "      <td>...</td>\n",
       "    </tr>\n",
       "    <tr>\n",
       "      <th>1099</th>\n",
       "      <td>PISO ACOGEDOR EN  EL CENTRO (Pl. Pilar)</td>\n",
       "      <td>89.0</td>\n",
       "      <td>121.6</td>\n",
       "      <td>99.8</td>\n",
       "    </tr>\n",
       "    <tr>\n",
       "      <th>2514</th>\n",
       "      <td>Loft 2 independiente Piscina Centro Valencia</td>\n",
       "      <td>64.0</td>\n",
       "      <td>96.2</td>\n",
       "      <td>68.2</td>\n",
       "    </tr>\n",
       "    <tr>\n",
       "      <th>3606</th>\n",
       "      <td>Habitación amplia y luminosa !</td>\n",
       "      <td>36.0</td>\n",
       "      <td>84.0</td>\n",
       "      <td>68.2</td>\n",
       "    </tr>\n",
       "    <tr>\n",
       "      <th>5704</th>\n",
       "      <td>FV-Nice Flat 2 rooms, good located,wifi high s...</td>\n",
       "      <td>73.0</td>\n",
       "      <td>92.2</td>\n",
       "      <td>99.8</td>\n",
       "    </tr>\n",
       "    <tr>\n",
       "      <th>2575</th>\n",
       "      <td>TYNE ARTIS HOUSE,  in city center ac + wifi</td>\n",
       "      <td>60.0</td>\n",
       "      <td>84.0</td>\n",
       "      <td>55.2</td>\n",
       "    </tr>\n",
       "  </tbody>\n",
       "</table>\n",
       "<p>1205 rows × 4 columns</p>\n",
       "</div>"
      ],
      "text/plain": [
       "                                                   name  price  \\\n",
       "2469   BEACH AREA ★ COZY APARTMENT WITH PRIVATE TERRACE   61.0   \n",
       "3617                 Habitación disponible para fallas!   31.0   \n",
       "859                                   Mercado Central X  131.0   \n",
       "12                     Lovely Central Market Plaza Apt.   80.0   \n",
       "4852  Apartamento lujo con piscina, parque y cércala...  200.0   \n",
       "...                                                 ...    ...   \n",
       "1099            PISO ACOGEDOR EN  EL CENTRO (Pl. Pilar)   89.0   \n",
       "2514       Loft 2 independiente Piscina Centro Valencia   64.0   \n",
       "3606                     Habitación amplia y luminosa !   36.0   \n",
       "5704  FV-Nice Flat 2 rooms, good located,wifi high s...   73.0   \n",
       "2575        TYNE ARTIS HOUSE,  in city center ac + wifi   60.0   \n",
       "\n",
       "      predicted_price  predicted_price_bedrooms  \n",
       "2469             96.2                      99.8  \n",
       "3617             90.4                      70.0  \n",
       "859              96.2                      68.2  \n",
       "12               84.0                      68.2  \n",
       "4852            121.6                      70.0  \n",
       "...               ...                       ...  \n",
       "1099            121.6                      99.8  \n",
       "2514             96.2                      68.2  \n",
       "3606             84.0                      68.2  \n",
       "5704             92.2                      99.8  \n",
       "2575             84.0                      55.2  \n",
       "\n",
       "[1205 rows x 4 columns]"
      ]
     },
     "execution_count": 15,
     "metadata": {},
     "output_type": "execute_result"
    }
   ],
   "source": [
    "test_df[['name', 'price', 'predicted_price', 'predicted_price_bedrooms']]"
   ]
  },
  {
   "cell_type": "code",
   "execution_count": 16,
   "id": "54e8a931",
   "metadata": {},
   "outputs": [],
   "source": [
    "mse_bedrooms = ((test_df['price']- test_df['predicted_price_bedrooms'])**2).mean()"
   ]
  },
  {
   "cell_type": "code",
   "execution_count": 18,
   "id": "16e9c5ac",
   "metadata": {},
   "outputs": [
    {
     "data": {
      "text/plain": [
       "7925.540946058091"
      ]
     },
     "execution_count": 18,
     "metadata": {},
     "output_type": "execute_result"
    }
   ],
   "source": [
    "mse_bedrooms"
   ]
  },
  {
   "cell_type": "markdown",
   "id": "c73cde64",
   "metadata": {},
   "source": [
    "## Raiz del error cuadrático medio\n",
    "\n",
    "- MSE - nos permite identificar qué modelo ha rendido mejor en términos relativos, pero nos nos ayuda a entender si es lo suficientemente bueno en general. \n",
    "\n",
    "- RMSE = √MSE - las unidaddes son nuestra unidad base (€)"
   ]
  },
  {
   "cell_type": "code",
   "execution_count": 20,
   "id": "6162e6fd",
   "metadata": {},
   "outputs": [],
   "source": [
    "rmse_bedrooms = mse_bedrooms**(1/2)"
   ]
  },
  {
   "cell_type": "code",
   "execution_count": 24,
   "id": "b735c2bb",
   "metadata": {},
   "outputs": [
    {
     "data": {
      "text/plain": [
       "89.02550727773524"
      ]
     },
     "execution_count": 24,
     "metadata": {},
     "output_type": "execute_result"
    }
   ],
   "source": [
    "rmse_bedrooms"
   ]
  },
  {
   "cell_type": "code",
   "execution_count": 26,
   "id": "fb447c4a",
   "metadata": {},
   "outputs": [],
   "source": [
    "rmse_accommodates = mse_accommodates**0.5"
   ]
  },
  {
   "cell_type": "code",
   "execution_count": 52,
   "id": "82f32624",
   "metadata": {},
   "outputs": [
    {
     "data": {
      "text/plain": [
       "81.00495328331185"
      ]
     },
     "execution_count": 52,
     "metadata": {},
     "output_type": "execute_result"
    }
   ],
   "source": [
    "rmse_accommodates"
   ]
  },
  {
   "cell_type": "code",
   "execution_count": 54,
   "id": "c10afd81",
   "metadata": {},
   "outputs": [],
   "source": [
    "def predict_price_k15(mi_capacidad):\n",
    "    temp_df = train_df.copy()\n",
    "    temp_df['distance'] = temp_df['accommodates'].apply(lambda x: np.abs(mi_capacidad - x))\n",
    "    return temp_df.sort_values('distance').iloc[0:15]['price'].mean()"
   ]
  },
  {
   "cell_type": "code",
   "execution_count": 55,
   "id": "d3e5f40f",
   "metadata": {},
   "outputs": [],
   "source": [
    "test_df['predicted_accommodates_k15'] = test_df['accommodates'].apply(predict_price_k15)"
   ]
  },
  {
   "cell_type": "code",
   "execution_count": 58,
   "id": "19af7348",
   "metadata": {},
   "outputs": [
    {
     "data": {
      "text/plain": [
       "79.2081679383004"
      ]
     },
     "execution_count": 58,
     "metadata": {},
     "output_type": "execute_result"
    }
   ],
   "source": [
    "((test_df['predicted_accommodates_k15'] - test_df['price'])**2).mean()**0.5 #RMSE"
   ]
  },
  {
   "cell_type": "code",
   "execution_count": null,
   "id": "9199bdb3",
   "metadata": {},
   "outputs": [],
   "source": []
  },
  {
   "cell_type": "code",
   "execution_count": null,
   "id": "e883a54d",
   "metadata": {},
   "outputs": [],
   "source": []
  },
  {
   "cell_type": "markdown",
   "id": "522e9fe6",
   "metadata": {},
   "source": [
    "# Comparar MAE y RMSE\n"
   ]
  },
  {
   "cell_type": "code",
   "execution_count": 47,
   "id": "23a9a635",
   "metadata": {},
   "outputs": [],
   "source": [
    "diferencias_one = pd.Series([5,10,5,10,5,10,5,10,5,10,5,10,5,10,5,10,5,10])\n",
    "diferencias_two = pd.Series([5,0,5,0,5,0,5,0,5,0,5,0,5,0,5,0,0,1000])"
   ]
  },
  {
   "cell_type": "code",
   "execution_count": 41,
   "id": "70d95b00",
   "metadata": {},
   "outputs": [],
   "source": [
    "mae_one = diferencias_one.sum()/len(diferencias_one)\n",
    "rmse_one = ((diferencias_one**2).sum()/len(diferencias_one))**0.5"
   ]
  },
  {
   "cell_type": "code",
   "execution_count": 36,
   "id": "1f66ce0d",
   "metadata": {},
   "outputs": [
    {
     "data": {
      "text/plain": [
       "7.5"
      ]
     },
     "execution_count": 36,
     "metadata": {},
     "output_type": "execute_result"
    }
   ],
   "source": [
    "mae_one"
   ]
  },
  {
   "cell_type": "code",
   "execution_count": 38,
   "id": "2e4832e5",
   "metadata": {},
   "outputs": [
    {
     "data": {
      "text/plain": [
       "7.905694150420948"
      ]
     },
     "execution_count": 38,
     "metadata": {},
     "output_type": "execute_result"
    }
   ],
   "source": [
    "rmse_one"
   ]
  },
  {
   "cell_type": "code",
   "execution_count": 48,
   "id": "85069b71",
   "metadata": {},
   "outputs": [],
   "source": [
    "mae_two = diferencias_two.sum()/len(diferencias_two)\n",
    "rmse_two = ((diferencias_two**2).sum()/len(diferencias_two))**0.5"
   ]
  },
  {
   "cell_type": "code",
   "execution_count": null,
   "id": "0a7fe199",
   "metadata": {},
   "outputs": [],
   "source": []
  },
  {
   "cell_type": "code",
   "execution_count": 49,
   "id": "4c0c9317",
   "metadata": {},
   "outputs": [
    {
     "data": {
      "text/plain": [
       "57.77777777777778"
      ]
     },
     "execution_count": 49,
     "metadata": {},
     "output_type": "execute_result"
    }
   ],
   "source": [
    "mae_two"
   ]
  },
  {
   "cell_type": "code",
   "execution_count": 50,
   "id": "cd8c0f7e",
   "metadata": {},
   "outputs": [
    {
     "data": {
      "text/plain": [
       "235.72582944316193"
      ]
     },
     "execution_count": 50,
     "metadata": {},
     "output_type": "execute_result"
    }
   ],
   "source": [
    "rmse_two"
   ]
  },
  {
   "cell_type": "code",
   "execution_count": null,
   "id": "72fbc57b",
   "metadata": {},
   "outputs": [],
   "source": []
  }
 ],
 "metadata": {
  "kernelspec": {
   "display_name": "Python 3 (ipykernel)",
   "language": "python",
   "name": "python3"
  },
  "language_info": {
   "codemirror_mode": {
    "name": "ipython",
    "version": 3
   },
   "file_extension": ".py",
   "mimetype": "text/x-python",
   "name": "python",
   "nbconvert_exporter": "python",
   "pygments_lexer": "ipython3",
   "version": "3.9.7"
  }
 },
 "nbformat": 4,
 "nbformat_minor": 5
}
