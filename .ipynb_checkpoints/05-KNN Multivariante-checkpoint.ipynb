{
 "cells": [
  {
   "cell_type": "markdown",
   "id": "7390ea44",
   "metadata": {},
   "source": [
    "Hasta ahora, hemos intentado predecir el precio con una sola variable: primero con `accommodates` y luego con  `bedrooms`\n",
    "\n",
    "Realmente hay muchas más variables que influyen en el precio.\n",
    "\n",
    "Hay dos formas de intentar mejorar la precisión:\n",
    "\n",
    "1- Cambiar k \n",
    "2- Incrementar el número de atributos (p.ej, usar la combinación de `accommodates`, `bathrooms`, `bedrooms`....)"
   ]
  },
  {
   "cell_type": "markdown",
   "id": "47a6ffb7",
   "metadata": {},
   "source": [
    "Nuestro objetivo ahora es añadir columnas al modelo. Tenemos que tener cuidado con las columnas que no funcionan bien con la ecuación de distancia.\n",
    "\n",
    "- Valores no numéricos (el barrio, por ejemplo), la ecuación de distancia euclidiana espera números\n",
    "- Valores nulos - nuestra ecuación de distancia no permite valores nulos.\n",
    "- Valores no ordinales - aquellos cuyo orden no significa que sea más o menos algo. Por ejemplo, la latitud y la longitud. "
   ]
  },
  {
   "cell_type": "code",
   "execution_count": 1,
   "id": "371250df",
   "metadata": {},
   "outputs": [],
   "source": [
    "import pandas as pd\n",
    "import numpy as np\n",
    "import math\n",
    "\n",
    "valencia_df = pd.read_csv('airbnb_valencia.csv')\n",
    "# corregir los datos de la columna price\n",
    "valencia_df['price'] = valencia_df['price'].str.replace(',', '').str.replace('$', '', regex=False).astype('float')\n",
    "# barajar los datos - es importante hacerlo ANTES de crear los conjuntos de entrenamiento y test\n",
    "np.random.seed(2)\n",
    "valencia_df = valencia_df.loc[np.random.permutation(len(valencia_df))]"
   ]
  },
  {
   "cell_type": "code",
   "execution_count": 2,
   "id": "0fcd08fb",
   "metadata": {},
   "outputs": [
    {
     "name": "stdout",
     "output_type": "stream",
     "text": [
      "<class 'pandas.core.frame.DataFrame'>\n",
      "Int64Index: 6025 entries, 103 to 2575\n",
      "Data columns (total 74 columns):\n",
      " #   Column                                        Non-Null Count  Dtype  \n",
      "---  ------                                        --------------  -----  \n",
      " 0   id                                            6025 non-null   int64  \n",
      " 1   listing_url                                   6025 non-null   object \n",
      " 2   scrape_id                                     6025 non-null   int64  \n",
      " 3   last_scraped                                  6025 non-null   object \n",
      " 4   name                                          6025 non-null   object \n",
      " 5   description                                   5848 non-null   object \n",
      " 6   neighborhood_overview                         3458 non-null   object \n",
      " 7   picture_url                                   6025 non-null   object \n",
      " 8   host_id                                       6025 non-null   int64  \n",
      " 9   host_url                                      6025 non-null   object \n",
      " 10  host_name                                     6025 non-null   object \n",
      " 11  host_since                                    6025 non-null   object \n",
      " 12  host_location                                 6009 non-null   object \n",
      " 13  host_about                                    3230 non-null   object \n",
      " 14  host_response_time                            5467 non-null   object \n",
      " 15  host_response_rate                            5467 non-null   object \n",
      " 16  host_acceptance_rate                          5741 non-null   object \n",
      " 17  host_is_superhost                             6025 non-null   object \n",
      " 18  host_thumbnail_url                            6025 non-null   object \n",
      " 19  host_picture_url                              6025 non-null   object \n",
      " 20  host_neighbourhood                            2704 non-null   object \n",
      " 21  host_listings_count                           6025 non-null   int64  \n",
      " 22  host_total_listings_count                     6025 non-null   int64  \n",
      " 23  host_verifications                            6025 non-null   object \n",
      " 24  host_has_profile_pic                          6025 non-null   object \n",
      " 25  host_identity_verified                        6025 non-null   object \n",
      " 26  neighbourhood                                 3458 non-null   object \n",
      " 27  neighbourhood_cleansed                        6025 non-null   object \n",
      " 28  neighbourhood_group_cleansed                  6025 non-null   object \n",
      " 29  latitude                                      6025 non-null   float64\n",
      " 30  longitude                                     6025 non-null   float64\n",
      " 31  property_type                                 6025 non-null   object \n",
      " 32  room_type                                     6025 non-null   object \n",
      " 33  accommodates                                  6025 non-null   int64  \n",
      " 34  bathrooms                                     0 non-null      float64\n",
      " 35  bathrooms_text                                6020 non-null   object \n",
      " 36  bedrooms                                      5717 non-null   float64\n",
      " 37  beds                                          5917 non-null   float64\n",
      " 38  amenities                                     6025 non-null   object \n",
      " 39  price                                         6025 non-null   float64\n",
      " 40  minimum_nights                                6025 non-null   int64  \n",
      " 41  maximum_nights                                6025 non-null   int64  \n",
      " 42  minimum_minimum_nights                        6025 non-null   int64  \n",
      " 43  maximum_minimum_nights                        6025 non-null   int64  \n",
      " 44  minimum_maximum_nights                        6025 non-null   int64  \n",
      " 45  maximum_maximum_nights                        6025 non-null   int64  \n",
      " 46  minimum_nights_avg_ntm                        6025 non-null   float64\n",
      " 47  maximum_nights_avg_ntm                        6025 non-null   float64\n",
      " 48  calendar_updated                              0 non-null      float64\n",
      " 49  has_availability                              6025 non-null   object \n",
      " 50  availability_30                               6025 non-null   int64  \n",
      " 51  availability_60                               6025 non-null   int64  \n",
      " 52  availability_90                               6025 non-null   int64  \n",
      " 53  availability_365                              6025 non-null   int64  \n",
      " 54  calendar_last_scraped                         6025 non-null   object \n",
      " 55  number_of_reviews                             6025 non-null   int64  \n",
      " 56  number_of_reviews_ltm                         6025 non-null   int64  \n",
      " 57  number_of_reviews_l30d                        6025 non-null   int64  \n",
      " 58  first_review                                  5104 non-null   object \n",
      " 59  last_review                                   5104 non-null   object \n",
      " 60  review_scores_rating                          5104 non-null   float64\n",
      " 61  review_scores_accuracy                        5082 non-null   float64\n",
      " 62  review_scores_cleanliness                     5082 non-null   float64\n",
      " 63  review_scores_checkin                         5082 non-null   float64\n",
      " 64  review_scores_communication                   5082 non-null   float64\n",
      " 65  review_scores_location                        5082 non-null   float64\n",
      " 66  review_scores_value                           5082 non-null   float64\n",
      " 67  license                                       1864 non-null   object \n",
      " 68  instant_bookable                              6025 non-null   object \n",
      " 69  calculated_host_listings_count                6025 non-null   int64  \n",
      " 70  calculated_host_listings_count_entire_homes   6025 non-null   int64  \n",
      " 71  calculated_host_listings_count_private_rooms  6025 non-null   int64  \n",
      " 72  calculated_host_listings_count_shared_rooms   6025 non-null   int64  \n",
      " 73  reviews_per_month                             5104 non-null   float64\n",
      "dtypes: float64(17), int64(23), object(34)\n",
      "memory usage: 3.4+ MB\n"
     ]
    }
   ],
   "source": [
    "valencia_df.info()"
   ]
  },
  {
   "cell_type": "markdown",
   "id": "8436c533",
   "metadata": {},
   "source": [
    "Columnas que contienen valores no numéricos:\n",
    "- neighbourhood\n",
    "- license\n",
    "- name\n",
    "- description\n",
    "\n",
    "Columnas que contienen valores numéricos pero no son ordinales:\n",
    "- latitude\n",
    "- longitude\n",
    "- id\n",
    "- codigo_postal (no está pero es un no-ordinal clásico)\n"
   ]
  },
  {
   "cell_type": "code",
   "execution_count": 3,
   "id": "1cbb3edb",
   "metadata": {},
   "outputs": [
    {
     "data": {
      "text/html": [
       "<div>\n",
       "<style scoped>\n",
       "    .dataframe tbody tr th:only-of-type {\n",
       "        vertical-align: middle;\n",
       "    }\n",
       "\n",
       "    .dataframe tbody tr th {\n",
       "        vertical-align: top;\n",
       "    }\n",
       "\n",
       "    .dataframe thead th {\n",
       "        text-align: right;\n",
       "    }\n",
       "</style>\n",
       "<table border=\"1\" class=\"dataframe\">\n",
       "  <thead>\n",
       "    <tr style=\"text-align: right;\">\n",
       "      <th></th>\n",
       "      <th>host_response_rate</th>\n",
       "      <th>host_acceptance_rate</th>\n",
       "      <th>host_listings_count</th>\n",
       "    </tr>\n",
       "  </thead>\n",
       "  <tbody>\n",
       "    <tr>\n",
       "      <th>103</th>\n",
       "      <td>100%</td>\n",
       "      <td>50%</td>\n",
       "      <td>1</td>\n",
       "    </tr>\n",
       "    <tr>\n",
       "      <th>257</th>\n",
       "      <td>NaN</td>\n",
       "      <td>0%</td>\n",
       "      <td>0</td>\n",
       "    </tr>\n",
       "    <tr>\n",
       "      <th>3299</th>\n",
       "      <td>93%</td>\n",
       "      <td>93%</td>\n",
       "      <td>5</td>\n",
       "    </tr>\n",
       "    <tr>\n",
       "      <th>3056</th>\n",
       "      <td>100%</td>\n",
       "      <td>98%</td>\n",
       "      <td>4</td>\n",
       "    </tr>\n",
       "    <tr>\n",
       "      <th>696</th>\n",
       "      <td>100%</td>\n",
       "      <td>100%</td>\n",
       "      <td>12</td>\n",
       "    </tr>\n",
       "    <tr>\n",
       "      <th>...</th>\n",
       "      <td>...</td>\n",
       "      <td>...</td>\n",
       "      <td>...</td>\n",
       "    </tr>\n",
       "    <tr>\n",
       "      <th>1099</th>\n",
       "      <td>100%</td>\n",
       "      <td>50%</td>\n",
       "      <td>7</td>\n",
       "    </tr>\n",
       "    <tr>\n",
       "      <th>2514</th>\n",
       "      <td>100%</td>\n",
       "      <td>94%</td>\n",
       "      <td>5</td>\n",
       "    </tr>\n",
       "    <tr>\n",
       "      <th>3606</th>\n",
       "      <td>94%</td>\n",
       "      <td>100%</td>\n",
       "      <td>1</td>\n",
       "    </tr>\n",
       "    <tr>\n",
       "      <th>5704</th>\n",
       "      <td>85%</td>\n",
       "      <td>69%</td>\n",
       "      <td>4</td>\n",
       "    </tr>\n",
       "    <tr>\n",
       "      <th>2575</th>\n",
       "      <td>100%</td>\n",
       "      <td>100%</td>\n",
       "      <td>4</td>\n",
       "    </tr>\n",
       "  </tbody>\n",
       "</table>\n",
       "<p>6025 rows × 3 columns</p>\n",
       "</div>"
      ],
      "text/plain": [
       "     host_response_rate host_acceptance_rate  host_listings_count\n",
       "103                100%                  50%                    1\n",
       "257                 NaN                   0%                    0\n",
       "3299                93%                  93%                    5\n",
       "3056               100%                  98%                    4\n",
       "696                100%                 100%                   12\n",
       "...                 ...                  ...                  ...\n",
       "1099               100%                  50%                    7\n",
       "2514               100%                  94%                    5\n",
       "3606                94%                 100%                    1\n",
       "5704                85%                  69%                    4\n",
       "2575               100%                 100%                    4\n",
       "\n",
       "[6025 rows x 3 columns]"
      ]
     },
     "execution_count": 3,
     "metadata": {},
     "output_type": "execute_result"
    }
   ],
   "source": [
    "valencia_df[['host_response_rate', 'host_acceptance_rate','host_listings_count']]"
   ]
  },
  {
   "cell_type": "code",
   "execution_count": 4,
   "id": "2a89173b",
   "metadata": {},
   "outputs": [
    {
     "data": {
      "text/plain": [
       "Index(['id', 'listing_url', 'scrape_id', 'last_scraped', 'name', 'description',\n",
       "       'neighborhood_overview', 'picture_url', 'host_id', 'host_url',\n",
       "       'host_name', 'host_since', 'host_location', 'host_about',\n",
       "       'host_response_time', 'host_response_rate', 'host_acceptance_rate',\n",
       "       'host_is_superhost', 'host_thumbnail_url', 'host_picture_url',\n",
       "       'host_neighbourhood', 'host_listings_count',\n",
       "       'host_total_listings_count', 'host_verifications',\n",
       "       'host_has_profile_pic', 'host_identity_verified', 'neighbourhood',\n",
       "       'neighbourhood_cleansed', 'neighbourhood_group_cleansed', 'latitude',\n",
       "       'longitude', 'property_type', 'room_type', 'accommodates', 'bathrooms',\n",
       "       'bathrooms_text', 'bedrooms', 'beds', 'amenities', 'price',\n",
       "       'minimum_nights', 'maximum_nights', 'minimum_minimum_nights',\n",
       "       'maximum_minimum_nights', 'minimum_maximum_nights',\n",
       "       'maximum_maximum_nights', 'minimum_nights_avg_ntm',\n",
       "       'maximum_nights_avg_ntm', 'calendar_updated', 'has_availability',\n",
       "       'availability_30', 'availability_60', 'availability_90',\n",
       "       'availability_365', 'calendar_last_scraped', 'number_of_reviews',\n",
       "       'number_of_reviews_ltm', 'number_of_reviews_l30d', 'first_review',\n",
       "       'last_review', 'review_scores_rating', 'review_scores_accuracy',\n",
       "       'review_scores_cleanliness', 'review_scores_checkin',\n",
       "       'review_scores_communication', 'review_scores_location',\n",
       "       'review_scores_value', 'license', 'instant_bookable',\n",
       "       'calculated_host_listings_count',\n",
       "       'calculated_host_listings_count_entire_homes',\n",
       "       'calculated_host_listings_count_private_rooms',\n",
       "       'calculated_host_listings_count_shared_rooms', 'reviews_per_month'],\n",
       "      dtype='object')"
      ]
     },
     "execution_count": 4,
     "metadata": {},
     "output_type": "execute_result"
    }
   ],
   "source": [
    "valencia_df.columns"
   ]
  },
  {
   "cell_type": "code",
   "execution_count": 5,
   "id": "1d86ac31",
   "metadata": {},
   "outputs": [],
   "source": [
    "dorp_dolumns = ['id', 'listing_url', 'scrape_id', 'last_scraped', 'description',\n",
    "       'neighborhood_overview', 'picture_url', 'host_id', 'host_url',\n",
    "       'host_name', 'host_since', 'host_location', 'host_about',\n",
    "       'host_response_time', 'host_response_rate', 'host_acceptance_rate',\n",
    "       'host_is_superhost', 'host_thumbnail_url', 'host_picture_url',\n",
    "       'host_neighbourhood', 'host_listings_count',\n",
    "       'host_total_listings_count', 'host_verifications',\n",
    "       'host_has_profile_pic', 'host_identity_verified', \n",
    "       'neighbourhood_cleansed', 'neighbourhood_group_cleansed', 'latitude',\n",
    "       'longitude', 'property_type', 'room_type',\n",
    "       'bathrooms_text',  'amenities', \n",
    "       'minimum_nights', 'maximum_nights', 'minimum_minimum_nights',\n",
    "       'maximum_minimum_nights', 'minimum_maximum_nights',\n",
    "       'maximum_maximum_nights', 'minimum_nights_avg_ntm',\n",
    "       'maximum_nights_avg_ntm', 'calendar_updated', 'has_availability',\n",
    "       'availability_30', 'availability_60', 'availability_90',\n",
    "       'availability_365', 'calendar_last_scraped', \n",
    "       'number_of_reviews_ltm', 'number_of_reviews_l30d', 'first_review',\n",
    "       'last_review', 'review_scores_rating', 'review_scores_accuracy',\n",
    "       'review_scores_cleanliness', 'review_scores_checkin',\n",
    "       'review_scores_communication', 'review_scores_location',\n",
    "       'review_scores_value', 'license',\n",
    "       'calculated_host_listings_count',\n",
    "       'calculated_host_listings_count_entire_homes',\n",
    "       'calculated_host_listings_count_private_rooms',\n",
    "       'calculated_host_listings_count_shared_rooms', ]"
   ]
  },
  {
   "cell_type": "code",
   "execution_count": 6,
   "id": "4654a122",
   "metadata": {},
   "outputs": [],
   "source": [
    "valencia_df = valencia_df.drop(dorp_dolumns, axis=1)"
   ]
  },
  {
   "cell_type": "code",
   "execution_count": 7,
   "id": "f0243e7d",
   "metadata": {},
   "outputs": [
    {
     "name": "stdout",
     "output_type": "stream",
     "text": [
      "<class 'pandas.core.frame.DataFrame'>\n",
      "Int64Index: 6025 entries, 103 to 2575\n",
      "Data columns (total 10 columns):\n",
      " #   Column             Non-Null Count  Dtype  \n",
      "---  ------             --------------  -----  \n",
      " 0   name               6025 non-null   object \n",
      " 1   neighbourhood      3458 non-null   object \n",
      " 2   accommodates       6025 non-null   int64  \n",
      " 3   bathrooms          0 non-null      float64\n",
      " 4   bedrooms           5717 non-null   float64\n",
      " 5   beds               5917 non-null   float64\n",
      " 6   price              6025 non-null   float64\n",
      " 7   number_of_reviews  6025 non-null   int64  \n",
      " 8   instant_bookable   6025 non-null   object \n",
      " 9   reviews_per_month  5104 non-null   float64\n",
      "dtypes: float64(5), int64(2), object(3)\n",
      "memory usage: 517.8+ KB\n"
     ]
    }
   ],
   "source": [
    "valencia_df.info()"
   ]
  },
  {
   "cell_type": "markdown",
   "id": "22a009e6",
   "metadata": {},
   "source": [
    "Tenemos bedrooms 5717 no nulos (tenemos nulos), de beds lo mismo"
   ]
  },
  {
   "cell_type": "code",
   "execution_count": 8,
   "id": "e6e7003b",
   "metadata": {},
   "outputs": [
    {
     "data": {
      "text/plain": [
       "count    0.0\n",
       "mean     NaN\n",
       "std      NaN\n",
       "min      NaN\n",
       "25%      NaN\n",
       "50%      NaN\n",
       "75%      NaN\n",
       "max      NaN\n",
       "Name: bathrooms, dtype: float64"
      ]
     },
     "execution_count": 8,
     "metadata": {},
     "output_type": "execute_result"
    }
   ],
   "source": [
    "valencia_df['bathrooms'].describe()"
   ]
  },
  {
   "cell_type": "code",
   "execution_count": 9,
   "id": "f3c527f1",
   "metadata": {},
   "outputs": [],
   "source": [
    "valencia_df = valencia_df.drop(['bathrooms'], axis=1)"
   ]
  },
  {
   "cell_type": "code",
   "execution_count": 10,
   "id": "9956a260",
   "metadata": {},
   "outputs": [],
   "source": [
    "#¿Qué hacemos con los valores perdidos (bedrooms y beds)"
   ]
  },
  {
   "cell_type": "code",
   "execution_count": 11,
   "id": "06da9d80",
   "metadata": {},
   "outputs": [
    {
     "data": {
      "text/html": [
       "<div>\n",
       "<style scoped>\n",
       "    .dataframe tbody tr th:only-of-type {\n",
       "        vertical-align: middle;\n",
       "    }\n",
       "\n",
       "    .dataframe tbody tr th {\n",
       "        vertical-align: top;\n",
       "    }\n",
       "\n",
       "    .dataframe thead th {\n",
       "        text-align: right;\n",
       "    }\n",
       "</style>\n",
       "<table border=\"1\" class=\"dataframe\">\n",
       "  <thead>\n",
       "    <tr style=\"text-align: right;\">\n",
       "      <th></th>\n",
       "      <th>name</th>\n",
       "      <th>neighbourhood</th>\n",
       "      <th>accommodates</th>\n",
       "      <th>bedrooms</th>\n",
       "      <th>beds</th>\n",
       "      <th>price</th>\n",
       "      <th>number_of_reviews</th>\n",
       "      <th>instant_bookable</th>\n",
       "      <th>reviews_per_month</th>\n",
       "    </tr>\n",
       "  </thead>\n",
       "  <tbody>\n",
       "    <tr>\n",
       "      <th>103</th>\n",
       "      <td>Habitación doble en Ruzafa con balcón</td>\n",
       "      <td>Valencia, Valencian Community, Spain</td>\n",
       "      <td>2</td>\n",
       "      <td>1.0</td>\n",
       "      <td>1.0</td>\n",
       "      <td>88.0</td>\n",
       "      <td>2</td>\n",
       "      <td>f</td>\n",
       "      <td>0.02</td>\n",
       "    </tr>\n",
       "    <tr>\n",
       "      <th>257</th>\n",
       "      <td>Two bedroom flat; centre of Russafa</td>\n",
       "      <td>Valencia, Valencian Community, Spain</td>\n",
       "      <td>6</td>\n",
       "      <td>2.0</td>\n",
       "      <td>4.0</td>\n",
       "      <td>95.0</td>\n",
       "      <td>6</td>\n",
       "      <td>f</td>\n",
       "      <td>0.06</td>\n",
       "    </tr>\n",
       "    <tr>\n",
       "      <th>3299</th>\n",
       "      <td>BIG AND CENTRAL PRIVATE ROOM</td>\n",
       "      <td>València, Comunidad Valenciana, Spain</td>\n",
       "      <td>2</td>\n",
       "      <td>1.0</td>\n",
       "      <td>1.0</td>\n",
       "      <td>21.0</td>\n",
       "      <td>91</td>\n",
       "      <td>t</td>\n",
       "      <td>2.99</td>\n",
       "    </tr>\n",
       "    <tr>\n",
       "      <th>3056</th>\n",
       "      <td>Baño privado *WiFi* |Desayuno| 5M Estadio/Metro.</td>\n",
       "      <td>València, Comunidad Valenciana, Spain</td>\n",
       "      <td>1</td>\n",
       "      <td>1.0</td>\n",
       "      <td>1.0</td>\n",
       "      <td>31.0</td>\n",
       "      <td>24</td>\n",
       "      <td>t</td>\n",
       "      <td>0.72</td>\n",
       "    </tr>\n",
       "    <tr>\n",
       "      <th>696</th>\n",
       "      <td>Apartment in Carmen</td>\n",
       "      <td>NaN</td>\n",
       "      <td>3</td>\n",
       "      <td>1.0</td>\n",
       "      <td>2.0</td>\n",
       "      <td>41.0</td>\n",
       "      <td>422</td>\n",
       "      <td>t</td>\n",
       "      <td>6.34</td>\n",
       "    </tr>\n",
       "    <tr>\n",
       "      <th>...</th>\n",
       "      <td>...</td>\n",
       "      <td>...</td>\n",
       "      <td>...</td>\n",
       "      <td>...</td>\n",
       "      <td>...</td>\n",
       "      <td>...</td>\n",
       "      <td>...</td>\n",
       "      <td>...</td>\n",
       "      <td>...</td>\n",
       "    </tr>\n",
       "    <tr>\n",
       "      <th>1099</th>\n",
       "      <td>PISO ACOGEDOR EN  EL CENTRO (Pl. Pilar)</td>\n",
       "      <td>NaN</td>\n",
       "      <td>6</td>\n",
       "      <td>2.0</td>\n",
       "      <td>3.0</td>\n",
       "      <td>89.0</td>\n",
       "      <td>45</td>\n",
       "      <td>f</td>\n",
       "      <td>0.73</td>\n",
       "    </tr>\n",
       "    <tr>\n",
       "      <th>2514</th>\n",
       "      <td>Loft 2 independiente Piscina Centro Valencia</td>\n",
       "      <td>València, Comunidad Valenciana, Spain</td>\n",
       "      <td>4</td>\n",
       "      <td>1.0</td>\n",
       "      <td>1.0</td>\n",
       "      <td>64.0</td>\n",
       "      <td>94</td>\n",
       "      <td>f</td>\n",
       "      <td>2.27</td>\n",
       "    </tr>\n",
       "    <tr>\n",
       "      <th>3606</th>\n",
       "      <td>Habitación amplia y luminosa !</td>\n",
       "      <td>NaN</td>\n",
       "      <td>2</td>\n",
       "      <td>1.0</td>\n",
       "      <td>1.0</td>\n",
       "      <td>36.0</td>\n",
       "      <td>3</td>\n",
       "      <td>f</td>\n",
       "      <td>2.81</td>\n",
       "    </tr>\n",
       "    <tr>\n",
       "      <th>5704</th>\n",
       "      <td>FV-Nice Flat 2 rooms, good located,wifi high s...</td>\n",
       "      <td>NaN</td>\n",
       "      <td>3</td>\n",
       "      <td>2.0</td>\n",
       "      <td>2.0</td>\n",
       "      <td>73.0</td>\n",
       "      <td>0</td>\n",
       "      <td>f</td>\n",
       "      <td>NaN</td>\n",
       "    </tr>\n",
       "    <tr>\n",
       "      <th>2575</th>\n",
       "      <td>TYNE ARTIS HOUSE,  in city center ac + wifi</td>\n",
       "      <td>València, Comunidad Valenciana, Spain</td>\n",
       "      <td>2</td>\n",
       "      <td>NaN</td>\n",
       "      <td>2.0</td>\n",
       "      <td>60.0</td>\n",
       "      <td>29</td>\n",
       "      <td>t</td>\n",
       "      <td>0.78</td>\n",
       "    </tr>\n",
       "  </tbody>\n",
       "</table>\n",
       "<p>5917 rows × 9 columns</p>\n",
       "</div>"
      ],
      "text/plain": [
       "                                                   name  \\\n",
       "103               Habitación doble en Ruzafa con balcón   \n",
       "257                 Two bedroom flat; centre of Russafa   \n",
       "3299                       BIG AND CENTRAL PRIVATE ROOM   \n",
       "3056   Baño privado *WiFi* |Desayuno| 5M Estadio/Metro.   \n",
       "696                                 Apartment in Carmen   \n",
       "...                                                 ...   \n",
       "1099            PISO ACOGEDOR EN  EL CENTRO (Pl. Pilar)   \n",
       "2514       Loft 2 independiente Piscina Centro Valencia   \n",
       "3606                     Habitación amplia y luminosa !   \n",
       "5704  FV-Nice Flat 2 rooms, good located,wifi high s...   \n",
       "2575        TYNE ARTIS HOUSE,  in city center ac + wifi   \n",
       "\n",
       "                              neighbourhood  accommodates  bedrooms  beds  \\\n",
       "103    Valencia, Valencian Community, Spain             2       1.0   1.0   \n",
       "257    Valencia, Valencian Community, Spain             6       2.0   4.0   \n",
       "3299  València, Comunidad Valenciana, Spain             2       1.0   1.0   \n",
       "3056  València, Comunidad Valenciana, Spain             1       1.0   1.0   \n",
       "696                                     NaN             3       1.0   2.0   \n",
       "...                                     ...           ...       ...   ...   \n",
       "1099                                    NaN             6       2.0   3.0   \n",
       "2514  València, Comunidad Valenciana, Spain             4       1.0   1.0   \n",
       "3606                                    NaN             2       1.0   1.0   \n",
       "5704                                    NaN             3       2.0   2.0   \n",
       "2575  València, Comunidad Valenciana, Spain             2       NaN   2.0   \n",
       "\n",
       "      price  number_of_reviews instant_bookable  reviews_per_month  \n",
       "103    88.0                  2                f               0.02  \n",
       "257    95.0                  6                f               0.06  \n",
       "3299   21.0                 91                t               2.99  \n",
       "3056   31.0                 24                t               0.72  \n",
       "696    41.0                422                t               6.34  \n",
       "...     ...                ...              ...                ...  \n",
       "1099   89.0                 45                f               0.73  \n",
       "2514   64.0                 94                f               2.27  \n",
       "3606   36.0                  3                f               2.81  \n",
       "5704   73.0                  0                f                NaN  \n",
       "2575   60.0                 29                t               0.78  \n",
       "\n",
       "[5917 rows x 9 columns]"
      ]
     },
     "execution_count": 11,
     "metadata": {},
     "output_type": "execute_result"
    }
   ],
   "source": [
    "valencia_df.dropna(subset=['beds'])"
   ]
  },
  {
   "cell_type": "code",
   "execution_count": 12,
   "id": "09928bb0",
   "metadata": {},
   "outputs": [],
   "source": [
    "valencia_df = valencia_df.dropna(subset=['beds'])"
   ]
  },
  {
   "cell_type": "code",
   "execution_count": 13,
   "id": "16696219",
   "metadata": {},
   "outputs": [
    {
     "data": {
      "text/plain": [
       "(5917, 9)"
      ]
     },
     "execution_count": 13,
     "metadata": {},
     "output_type": "execute_result"
    }
   ],
   "source": [
    "valencia_df.shape\n"
   ]
  },
  {
   "cell_type": "code",
   "execution_count": 14,
   "id": "af74cc37",
   "metadata": {},
   "outputs": [
    {
     "name": "stdout",
     "output_type": "stream",
     "text": [
      "<class 'pandas.core.frame.DataFrame'>\n",
      "Int64Index: 5917 entries, 103 to 2575\n",
      "Data columns (total 9 columns):\n",
      " #   Column             Non-Null Count  Dtype  \n",
      "---  ------             --------------  -----  \n",
      " 0   name               5917 non-null   object \n",
      " 1   neighbourhood      3411 non-null   object \n",
      " 2   accommodates       5917 non-null   int64  \n",
      " 3   bedrooms           5623 non-null   float64\n",
      " 4   beds               5917 non-null   float64\n",
      " 5   price              5917 non-null   float64\n",
      " 6   number_of_reviews  5917 non-null   int64  \n",
      " 7   instant_bookable   5917 non-null   object \n",
      " 8   reviews_per_month  5032 non-null   float64\n",
      "dtypes: float64(4), int64(2), object(3)\n",
      "memory usage: 462.3+ KB\n"
     ]
    }
   ],
   "source": [
    "valencia_df.info()"
   ]
  },
  {
   "cell_type": "code",
   "execution_count": 15,
   "id": "84471f22",
   "metadata": {},
   "outputs": [
    {
     "data": {
      "text/plain": [
       "2"
      ]
     },
     "execution_count": 15,
     "metadata": {},
     "output_type": "execute_result"
    }
   ],
   "source": [
    "math.ceil(valencia_df['bedrooms'].mean())"
   ]
  },
  {
   "cell_type": "code",
   "execution_count": 16,
   "id": "15a76bc4",
   "metadata": {},
   "outputs": [],
   "source": [
    "valencia_df['bedrooms'] = valencia_df['bedrooms'].fillna(2)"
   ]
  },
  {
   "cell_type": "code",
   "execution_count": 17,
   "id": "36db64e1",
   "metadata": {},
   "outputs": [
    {
     "name": "stdout",
     "output_type": "stream",
     "text": [
      "<class 'pandas.core.frame.DataFrame'>\n",
      "Int64Index: 5917 entries, 103 to 2575\n",
      "Data columns (total 9 columns):\n",
      " #   Column             Non-Null Count  Dtype  \n",
      "---  ------             --------------  -----  \n",
      " 0   name               5917 non-null   object \n",
      " 1   neighbourhood      3411 non-null   object \n",
      " 2   accommodates       5917 non-null   int64  \n",
      " 3   bedrooms           5917 non-null   float64\n",
      " 4   beds               5917 non-null   float64\n",
      " 5   price              5917 non-null   float64\n",
      " 6   number_of_reviews  5917 non-null   int64  \n",
      " 7   instant_bookable   5917 non-null   object \n",
      " 8   reviews_per_month  5032 non-null   float64\n",
      "dtypes: float64(4), int64(2), object(3)\n",
      "memory usage: 462.3+ KB\n"
     ]
    }
   ],
   "source": [
    "valencia_df.info()\n"
   ]
  },
  {
   "cell_type": "code",
   "execution_count": 18,
   "id": "01163c29",
   "metadata": {},
   "outputs": [],
   "source": [
    "valencia_df = valencia_df.drop(['name', 'neighbourhood','instant_bookable', 'reviews_per_month'], axis=1)"
   ]
  },
  {
   "cell_type": "code",
   "execution_count": 19,
   "id": "fd1b9366",
   "metadata": {},
   "outputs": [
    {
     "data": {
      "text/html": [
       "<div>\n",
       "<style scoped>\n",
       "    .dataframe tbody tr th:only-of-type {\n",
       "        vertical-align: middle;\n",
       "    }\n",
       "\n",
       "    .dataframe tbody tr th {\n",
       "        vertical-align: top;\n",
       "    }\n",
       "\n",
       "    .dataframe thead th {\n",
       "        text-align: right;\n",
       "    }\n",
       "</style>\n",
       "<table border=\"1\" class=\"dataframe\">\n",
       "  <thead>\n",
       "    <tr style=\"text-align: right;\">\n",
       "      <th></th>\n",
       "      <th>accommodates</th>\n",
       "      <th>bedrooms</th>\n",
       "      <th>beds</th>\n",
       "      <th>price</th>\n",
       "      <th>number_of_reviews</th>\n",
       "    </tr>\n",
       "  </thead>\n",
       "  <tbody>\n",
       "    <tr>\n",
       "      <th>103</th>\n",
       "      <td>2</td>\n",
       "      <td>1.0</td>\n",
       "      <td>1.0</td>\n",
       "      <td>88.0</td>\n",
       "      <td>2</td>\n",
       "    </tr>\n",
       "    <tr>\n",
       "      <th>257</th>\n",
       "      <td>6</td>\n",
       "      <td>2.0</td>\n",
       "      <td>4.0</td>\n",
       "      <td>95.0</td>\n",
       "      <td>6</td>\n",
       "    </tr>\n",
       "    <tr>\n",
       "      <th>3299</th>\n",
       "      <td>2</td>\n",
       "      <td>1.0</td>\n",
       "      <td>1.0</td>\n",
       "      <td>21.0</td>\n",
       "      <td>91</td>\n",
       "    </tr>\n",
       "    <tr>\n",
       "      <th>3056</th>\n",
       "      <td>1</td>\n",
       "      <td>1.0</td>\n",
       "      <td>1.0</td>\n",
       "      <td>31.0</td>\n",
       "      <td>24</td>\n",
       "    </tr>\n",
       "    <tr>\n",
       "      <th>696</th>\n",
       "      <td>3</td>\n",
       "      <td>1.0</td>\n",
       "      <td>2.0</td>\n",
       "      <td>41.0</td>\n",
       "      <td>422</td>\n",
       "    </tr>\n",
       "    <tr>\n",
       "      <th>...</th>\n",
       "      <td>...</td>\n",
       "      <td>...</td>\n",
       "      <td>...</td>\n",
       "      <td>...</td>\n",
       "      <td>...</td>\n",
       "    </tr>\n",
       "    <tr>\n",
       "      <th>1099</th>\n",
       "      <td>6</td>\n",
       "      <td>2.0</td>\n",
       "      <td>3.0</td>\n",
       "      <td>89.0</td>\n",
       "      <td>45</td>\n",
       "    </tr>\n",
       "    <tr>\n",
       "      <th>2514</th>\n",
       "      <td>4</td>\n",
       "      <td>1.0</td>\n",
       "      <td>1.0</td>\n",
       "      <td>64.0</td>\n",
       "      <td>94</td>\n",
       "    </tr>\n",
       "    <tr>\n",
       "      <th>3606</th>\n",
       "      <td>2</td>\n",
       "      <td>1.0</td>\n",
       "      <td>1.0</td>\n",
       "      <td>36.0</td>\n",
       "      <td>3</td>\n",
       "    </tr>\n",
       "    <tr>\n",
       "      <th>5704</th>\n",
       "      <td>3</td>\n",
       "      <td>2.0</td>\n",
       "      <td>2.0</td>\n",
       "      <td>73.0</td>\n",
       "      <td>0</td>\n",
       "    </tr>\n",
       "    <tr>\n",
       "      <th>2575</th>\n",
       "      <td>2</td>\n",
       "      <td>2.0</td>\n",
       "      <td>2.0</td>\n",
       "      <td>60.0</td>\n",
       "      <td>29</td>\n",
       "    </tr>\n",
       "  </tbody>\n",
       "</table>\n",
       "<p>5917 rows × 5 columns</p>\n",
       "</div>"
      ],
      "text/plain": [
       "      accommodates  bedrooms  beds  price  number_of_reviews\n",
       "103              2       1.0   1.0   88.0                  2\n",
       "257              6       2.0   4.0   95.0                  6\n",
       "3299             2       1.0   1.0   21.0                 91\n",
       "3056             1       1.0   1.0   31.0                 24\n",
       "696              3       1.0   2.0   41.0                422\n",
       "...            ...       ...   ...    ...                ...\n",
       "1099             6       2.0   3.0   89.0                 45\n",
       "2514             4       1.0   1.0   64.0                 94\n",
       "3606             2       1.0   1.0   36.0                  3\n",
       "5704             3       2.0   2.0   73.0                  0\n",
       "2575             2       2.0   2.0   60.0                 29\n",
       "\n",
       "[5917 rows x 5 columns]"
      ]
     },
     "execution_count": 19,
     "metadata": {},
     "output_type": "execute_result"
    }
   ],
   "source": [
    "valencia_df"
   ]
  },
  {
   "cell_type": "markdown",
   "id": "652ee981",
   "metadata": {},
   "source": [
    "# Normalización\n",
    "\n"
   ]
  },
  {
   "cell_type": "code",
   "execution_count": 20,
   "id": "8a762e38",
   "metadata": {},
   "outputs": [
    {
     "data": {
      "text/plain": [
       "count    5917.000000\n",
       "mean        1.810039\n",
       "std         0.979030\n",
       "min         1.000000\n",
       "25%         1.000000\n",
       "50%         2.000000\n",
       "75%         2.000000\n",
       "max        10.000000\n",
       "Name: bedrooms, dtype: float64"
      ]
     },
     "execution_count": 20,
     "metadata": {},
     "output_type": "execute_result"
    }
   ],
   "source": [
    "valencia_df['bedrooms'].describe()"
   ]
  },
  {
   "cell_type": "code",
   "execution_count": 21,
   "id": "4f1dca46",
   "metadata": {},
   "outputs": [
    {
     "data": {
      "text/plain": [
       "count    5917.000000\n",
       "mean       41.168836\n",
       "std        66.148646\n",
       "min         0.000000\n",
       "25%         2.000000\n",
       "50%        13.000000\n",
       "75%        50.000000\n",
       "max       689.000000\n",
       "Name: number_of_reviews, dtype: float64"
      ]
     },
     "execution_count": 21,
     "metadata": {},
     "output_type": "execute_result"
    }
   ],
   "source": [
    "valencia_df['number_of_reviews'].describe()"
   ]
  },
  {
   "cell_type": "markdown",
   "id": "934d3851",
   "metadata": {},
   "source": [
    "Distribución normal estándar: Media 0, desviación típica 1\n",
    "    \n",
    "Normalizar será: \n",
    "    - restamos a cada valor la media de la columna\n",
    "    - dividir cada valor por la desviación típica de la columna"
   ]
  },
  {
   "cell_type": "code",
   "execution_count": 22,
   "id": "e62dd383",
   "metadata": {},
   "outputs": [
    {
     "data": {
      "text/plain": [
       "3.663680919384823"
      ]
     },
     "execution_count": 22,
     "metadata": {},
     "output_type": "execute_result"
    }
   ],
   "source": [
    "valencia_df['accommodates'].mean()"
   ]
  },
  {
   "cell_type": "code",
   "execution_count": 23,
   "id": "64757aef",
   "metadata": {},
   "outputs": [
    {
     "data": {
      "text/plain": [
       "6.484588090425116e-17"
      ]
     },
     "execution_count": 23,
     "metadata": {},
     "output_type": "execute_result"
    }
   ],
   "source": [
    "(valencia_df['accommodates'] - valencia_df['accommodates'].mean()).mean()"
   ]
  },
  {
   "cell_type": "code",
   "execution_count": 24,
   "id": "69ad9486",
   "metadata": {},
   "outputs": [
    {
     "data": {
      "text/plain": [
       "2.0292288221988244"
      ]
     },
     "execution_count": 24,
     "metadata": {},
     "output_type": "execute_result"
    }
   ],
   "source": [
    "valencia_df['accommodates'].std()"
   ]
  },
  {
   "cell_type": "code",
   "execution_count": 25,
   "id": "ffc6a8c3",
   "metadata": {},
   "outputs": [
    {
     "data": {
      "text/plain": [
       "0.9999999999999998"
      ]
     },
     "execution_count": 25,
     "metadata": {},
     "output_type": "execute_result"
    }
   ],
   "source": [
    "(valencia_df['accommodates'] / valencia_df['accommodates'].std()).std()"
   ]
  },
  {
   "cell_type": "code",
   "execution_count": 26,
   "id": "9dba2631",
   "metadata": {},
   "outputs": [
    {
     "data": {
      "text/plain": [
       "103    -0.819859\n",
       "257     1.151333\n",
       "3299   -0.819859\n",
       "3056   -1.312657\n",
       "696    -0.327061\n",
       "          ...   \n",
       "1099    1.151333\n",
       "2514    0.165737\n",
       "3606   -0.819859\n",
       "5704   -0.327061\n",
       "2575   -0.819859\n",
       "Name: accommodates, Length: 5917, dtype: float64"
      ]
     },
     "execution_count": 26,
     "metadata": {},
     "output_type": "execute_result"
    }
   ],
   "source": [
    "(valencia_df['accommodates'] - valencia_df['accommodates'].mean())/valencia_df['accommodates'].std()"
   ]
  },
  {
   "cell_type": "code",
   "execution_count": 27,
   "id": "c81bbe98",
   "metadata": {},
   "outputs": [
    {
     "data": {
      "text/html": [
       "<div>\n",
       "<style scoped>\n",
       "    .dataframe tbody tr th:only-of-type {\n",
       "        vertical-align: middle;\n",
       "    }\n",
       "\n",
       "    .dataframe tbody tr th {\n",
       "        vertical-align: top;\n",
       "    }\n",
       "\n",
       "    .dataframe thead th {\n",
       "        text-align: right;\n",
       "    }\n",
       "</style>\n",
       "<table border=\"1\" class=\"dataframe\">\n",
       "  <thead>\n",
       "    <tr style=\"text-align: right;\">\n",
       "      <th></th>\n",
       "      <th>accommodates</th>\n",
       "      <th>bedrooms</th>\n",
       "      <th>beds</th>\n",
       "      <th>price</th>\n",
       "      <th>number_of_reviews</th>\n",
       "    </tr>\n",
       "  </thead>\n",
       "  <tbody>\n",
       "    <tr>\n",
       "      <th>103</th>\n",
       "      <td>2</td>\n",
       "      <td>1.0</td>\n",
       "      <td>1.0</td>\n",
       "      <td>88.0</td>\n",
       "      <td>2</td>\n",
       "    </tr>\n",
       "    <tr>\n",
       "      <th>257</th>\n",
       "      <td>6</td>\n",
       "      <td>2.0</td>\n",
       "      <td>4.0</td>\n",
       "      <td>95.0</td>\n",
       "      <td>6</td>\n",
       "    </tr>\n",
       "    <tr>\n",
       "      <th>3299</th>\n",
       "      <td>2</td>\n",
       "      <td>1.0</td>\n",
       "      <td>1.0</td>\n",
       "      <td>21.0</td>\n",
       "      <td>91</td>\n",
       "    </tr>\n",
       "    <tr>\n",
       "      <th>3056</th>\n",
       "      <td>1</td>\n",
       "      <td>1.0</td>\n",
       "      <td>1.0</td>\n",
       "      <td>31.0</td>\n",
       "      <td>24</td>\n",
       "    </tr>\n",
       "    <tr>\n",
       "      <th>696</th>\n",
       "      <td>3</td>\n",
       "      <td>1.0</td>\n",
       "      <td>2.0</td>\n",
       "      <td>41.0</td>\n",
       "      <td>422</td>\n",
       "    </tr>\n",
       "  </tbody>\n",
       "</table>\n",
       "</div>"
      ],
      "text/plain": [
       "      accommodates  bedrooms  beds  price  number_of_reviews\n",
       "103              2       1.0   1.0   88.0                  2\n",
       "257              6       2.0   4.0   95.0                  6\n",
       "3299             2       1.0   1.0   21.0                 91\n",
       "3056             1       1.0   1.0   31.0                 24\n",
       "696              3       1.0   2.0   41.0                422"
      ]
     },
     "execution_count": 27,
     "metadata": {},
     "output_type": "execute_result"
    }
   ],
   "source": [
    "valencia_df.head()"
   ]
  },
  {
   "cell_type": "code",
   "execution_count": 28,
   "id": "1c32ee49",
   "metadata": {},
   "outputs": [
    {
     "data": {
      "text/plain": [
       "accommodates          3.663681\n",
       "bedrooms              1.810039\n",
       "beds                  2.421159\n",
       "price                90.420145\n",
       "number_of_reviews    41.168836\n",
       "dtype: float64"
      ]
     },
     "execution_count": 28,
     "metadata": {},
     "output_type": "execute_result"
    }
   ],
   "source": [
    "valencia_df.mean()"
   ]
  },
  {
   "cell_type": "code",
   "execution_count": 29,
   "id": "0fd5a625",
   "metadata": {},
   "outputs": [],
   "source": [
    "normalized_valencia_df = (valencia_df - valencia_df.mean())/valencia_df.std()"
   ]
  },
  {
   "cell_type": "code",
   "execution_count": 30,
   "id": "80e6d48a",
   "metadata": {},
   "outputs": [
    {
     "data": {
      "text/html": [
       "<div>\n",
       "<style scoped>\n",
       "    .dataframe tbody tr th:only-of-type {\n",
       "        vertical-align: middle;\n",
       "    }\n",
       "\n",
       "    .dataframe tbody tr th {\n",
       "        vertical-align: top;\n",
       "    }\n",
       "\n",
       "    .dataframe thead th {\n",
       "        text-align: right;\n",
       "    }\n",
       "</style>\n",
       "<table border=\"1\" class=\"dataframe\">\n",
       "  <thead>\n",
       "    <tr style=\"text-align: right;\">\n",
       "      <th></th>\n",
       "      <th>accommodates</th>\n",
       "      <th>bedrooms</th>\n",
       "      <th>beds</th>\n",
       "      <th>price</th>\n",
       "      <th>number_of_reviews</th>\n",
       "    </tr>\n",
       "  </thead>\n",
       "  <tbody>\n",
       "    <tr>\n",
       "      <th>count</th>\n",
       "      <td>5.917000e+03</td>\n",
       "      <td>5.917000e+03</td>\n",
       "      <td>5.917000e+03</td>\n",
       "      <td>5.917000e+03</td>\n",
       "      <td>5.917000e+03</td>\n",
       "    </tr>\n",
       "    <tr>\n",
       "      <th>mean</th>\n",
       "      <td>6.964928e-17</td>\n",
       "      <td>-1.561105e-17</td>\n",
       "      <td>6.244418e-17</td>\n",
       "      <td>-3.122209e-17</td>\n",
       "      <td>-5.523908e-17</td>\n",
       "    </tr>\n",
       "    <tr>\n",
       "      <th>std</th>\n",
       "      <td>1.000000e+00</td>\n",
       "      <td>1.000000e+00</td>\n",
       "      <td>1.000000e+00</td>\n",
       "      <td>1.000000e+00</td>\n",
       "      <td>1.000000e+00</td>\n",
       "    </tr>\n",
       "    <tr>\n",
       "      <th>min</th>\n",
       "      <td>-1.312657e+00</td>\n",
       "      <td>-8.273893e-01</td>\n",
       "      <td>-8.504439e-01</td>\n",
       "      <td>-7.400600e-01</td>\n",
       "      <td>-6.223685e-01</td>\n",
       "    </tr>\n",
       "    <tr>\n",
       "      <th>25%</th>\n",
       "      <td>-8.198587e-01</td>\n",
       "      <td>-8.273893e-01</td>\n",
       "      <td>-8.504439e-01</td>\n",
       "      <td>-4.128417e-01</td>\n",
       "      <td>-5.921336e-01</td>\n",
       "    </tr>\n",
       "    <tr>\n",
       "      <th>50%</th>\n",
       "      <td>1.657374e-01</td>\n",
       "      <td>1.940300e-01</td>\n",
       "      <td>-2.520283e-01</td>\n",
       "      <td>-1.765174e-01</td>\n",
       "      <td>-4.258415e-01</td>\n",
       "    </tr>\n",
       "    <tr>\n",
       "      <th>75%</th>\n",
       "      <td>6.585354e-01</td>\n",
       "      <td>1.940300e-01</td>\n",
       "      <td>3.463872e-01</td>\n",
       "      <td>9.616450e-02</td>\n",
       "      <td>1.335048e-01</td>\n",
       "    </tr>\n",
       "    <tr>\n",
       "      <th>max</th>\n",
       "      <td>6.079314e+00</td>\n",
       "      <td>8.365384e+00</td>\n",
       "      <td>1.171628e+01</td>\n",
       "      <td>2.811878e+01</td>\n",
       "      <td>9.793566e+00</td>\n",
       "    </tr>\n",
       "  </tbody>\n",
       "</table>\n",
       "</div>"
      ],
      "text/plain": [
       "       accommodates      bedrooms          beds         price  \\\n",
       "count  5.917000e+03  5.917000e+03  5.917000e+03  5.917000e+03   \n",
       "mean   6.964928e-17 -1.561105e-17  6.244418e-17 -3.122209e-17   \n",
       "std    1.000000e+00  1.000000e+00  1.000000e+00  1.000000e+00   \n",
       "min   -1.312657e+00 -8.273893e-01 -8.504439e-01 -7.400600e-01   \n",
       "25%   -8.198587e-01 -8.273893e-01 -8.504439e-01 -4.128417e-01   \n",
       "50%    1.657374e-01  1.940300e-01 -2.520283e-01 -1.765174e-01   \n",
       "75%    6.585354e-01  1.940300e-01  3.463872e-01  9.616450e-02   \n",
       "max    6.079314e+00  8.365384e+00  1.171628e+01  2.811878e+01   \n",
       "\n",
       "       number_of_reviews  \n",
       "count       5.917000e+03  \n",
       "mean       -5.523908e-17  \n",
       "std         1.000000e+00  \n",
       "min        -6.223685e-01  \n",
       "25%        -5.921336e-01  \n",
       "50%        -4.258415e-01  \n",
       "75%         1.335048e-01  \n",
       "max         9.793566e+00  "
      ]
     },
     "execution_count": 30,
     "metadata": {},
     "output_type": "execute_result"
    }
   ],
   "source": [
    "normalized_valencia_df.describe()"
   ]
  },
  {
   "cell_type": "code",
   "execution_count": 31,
   "id": "36e9ddd8",
   "metadata": {},
   "outputs": [
    {
     "data": {
      "text/html": [
       "<div>\n",
       "<style scoped>\n",
       "    .dataframe tbody tr th:only-of-type {\n",
       "        vertical-align: middle;\n",
       "    }\n",
       "\n",
       "    .dataframe tbody tr th {\n",
       "        vertical-align: top;\n",
       "    }\n",
       "\n",
       "    .dataframe thead th {\n",
       "        text-align: right;\n",
       "    }\n",
       "</style>\n",
       "<table border=\"1\" class=\"dataframe\">\n",
       "  <thead>\n",
       "    <tr style=\"text-align: right;\">\n",
       "      <th></th>\n",
       "      <th>accommodates</th>\n",
       "      <th>bedrooms</th>\n",
       "      <th>beds</th>\n",
       "      <th>price</th>\n",
       "      <th>number_of_reviews</th>\n",
       "    </tr>\n",
       "  </thead>\n",
       "  <tbody>\n",
       "    <tr>\n",
       "      <th>103</th>\n",
       "      <td>-0.819859</td>\n",
       "      <td>-0.827389</td>\n",
       "      <td>-0.850444</td>\n",
       "      <td>-0.021998</td>\n",
       "      <td>-0.592134</td>\n",
       "    </tr>\n",
       "    <tr>\n",
       "      <th>257</th>\n",
       "      <td>1.151333</td>\n",
       "      <td>0.194030</td>\n",
       "      <td>0.944803</td>\n",
       "      <td>0.041628</td>\n",
       "      <td>-0.531664</td>\n",
       "    </tr>\n",
       "    <tr>\n",
       "      <th>3299</th>\n",
       "      <td>-0.819859</td>\n",
       "      <td>-0.827389</td>\n",
       "      <td>-0.850444</td>\n",
       "      <td>-0.630987</td>\n",
       "      <td>0.753321</td>\n",
       "    </tr>\n",
       "    <tr>\n",
       "      <th>3056</th>\n",
       "      <td>-1.312657</td>\n",
       "      <td>-0.827389</td>\n",
       "      <td>-0.850444</td>\n",
       "      <td>-0.540093</td>\n",
       "      <td>-0.259549</td>\n",
       "    </tr>\n",
       "    <tr>\n",
       "      <th>696</th>\n",
       "      <td>-0.327061</td>\n",
       "      <td>-0.827389</td>\n",
       "      <td>-0.252028</td>\n",
       "      <td>-0.449199</td>\n",
       "      <td>5.757203</td>\n",
       "    </tr>\n",
       "  </tbody>\n",
       "</table>\n",
       "</div>"
      ],
      "text/plain": [
       "      accommodates  bedrooms      beds     price  number_of_reviews\n",
       "103      -0.819859 -0.827389 -0.850444 -0.021998          -0.592134\n",
       "257       1.151333  0.194030  0.944803  0.041628          -0.531664\n",
       "3299     -0.819859 -0.827389 -0.850444 -0.630987           0.753321\n",
       "3056     -1.312657 -0.827389 -0.850444 -0.540093          -0.259549\n",
       "696      -0.327061 -0.827389 -0.252028 -0.449199           5.757203"
      ]
     },
     "execution_count": 31,
     "metadata": {},
     "output_type": "execute_result"
    }
   ],
   "source": [
    "normalized_valencia_df.head()"
   ]
  },
  {
   "cell_type": "code",
   "execution_count": 32,
   "id": "6f65cdc8",
   "metadata": {},
   "outputs": [],
   "source": [
    "normalized_valencia_df['price'] = valencia_df['price']"
   ]
  },
  {
   "cell_type": "code",
   "execution_count": 33,
   "id": "284cf844",
   "metadata": {},
   "outputs": [
    {
     "data": {
      "text/html": [
       "<div>\n",
       "<style scoped>\n",
       "    .dataframe tbody tr th:only-of-type {\n",
       "        vertical-align: middle;\n",
       "    }\n",
       "\n",
       "    .dataframe tbody tr th {\n",
       "        vertical-align: top;\n",
       "    }\n",
       "\n",
       "    .dataframe thead th {\n",
       "        text-align: right;\n",
       "    }\n",
       "</style>\n",
       "<table border=\"1\" class=\"dataframe\">\n",
       "  <thead>\n",
       "    <tr style=\"text-align: right;\">\n",
       "      <th></th>\n",
       "      <th>accommodates</th>\n",
       "      <th>bedrooms</th>\n",
       "      <th>beds</th>\n",
       "      <th>price</th>\n",
       "      <th>number_of_reviews</th>\n",
       "    </tr>\n",
       "  </thead>\n",
       "  <tbody>\n",
       "    <tr>\n",
       "      <th>103</th>\n",
       "      <td>-0.819859</td>\n",
       "      <td>-0.827389</td>\n",
       "      <td>-0.850444</td>\n",
       "      <td>88.0</td>\n",
       "      <td>-0.592134</td>\n",
       "    </tr>\n",
       "    <tr>\n",
       "      <th>257</th>\n",
       "      <td>1.151333</td>\n",
       "      <td>0.194030</td>\n",
       "      <td>0.944803</td>\n",
       "      <td>95.0</td>\n",
       "      <td>-0.531664</td>\n",
       "    </tr>\n",
       "    <tr>\n",
       "      <th>3299</th>\n",
       "      <td>-0.819859</td>\n",
       "      <td>-0.827389</td>\n",
       "      <td>-0.850444</td>\n",
       "      <td>21.0</td>\n",
       "      <td>0.753321</td>\n",
       "    </tr>\n",
       "    <tr>\n",
       "      <th>3056</th>\n",
       "      <td>-1.312657</td>\n",
       "      <td>-0.827389</td>\n",
       "      <td>-0.850444</td>\n",
       "      <td>31.0</td>\n",
       "      <td>-0.259549</td>\n",
       "    </tr>\n",
       "    <tr>\n",
       "      <th>696</th>\n",
       "      <td>-0.327061</td>\n",
       "      <td>-0.827389</td>\n",
       "      <td>-0.252028</td>\n",
       "      <td>41.0</td>\n",
       "      <td>5.757203</td>\n",
       "    </tr>\n",
       "  </tbody>\n",
       "</table>\n",
       "</div>"
      ],
      "text/plain": [
       "      accommodates  bedrooms      beds  price  number_of_reviews\n",
       "103      -0.819859 -0.827389 -0.850444   88.0          -0.592134\n",
       "257       1.151333  0.194030  0.944803   95.0          -0.531664\n",
       "3299     -0.819859 -0.827389 -0.850444   21.0           0.753321\n",
       "3056     -1.312657 -0.827389 -0.850444   31.0          -0.259549\n",
       "696      -0.327061 -0.827389 -0.252028   41.0           5.757203"
      ]
     },
     "execution_count": 33,
     "metadata": {},
     "output_type": "execute_result"
    }
   ],
   "source": [
    "normalized_valencia_df.head()"
   ]
  },
  {
   "cell_type": "code",
   "execution_count": 34,
   "id": "eac0432e",
   "metadata": {},
   "outputs": [
    {
     "data": {
      "text/html": [
       "<div>\n",
       "<style scoped>\n",
       "    .dataframe tbody tr th:only-of-type {\n",
       "        vertical-align: middle;\n",
       "    }\n",
       "\n",
       "    .dataframe tbody tr th {\n",
       "        vertical-align: top;\n",
       "    }\n",
       "\n",
       "    .dataframe thead th {\n",
       "        text-align: right;\n",
       "    }\n",
       "</style>\n",
       "<table border=\"1\" class=\"dataframe\">\n",
       "  <thead>\n",
       "    <tr style=\"text-align: right;\">\n",
       "      <th></th>\n",
       "      <th>accommodates</th>\n",
       "      <th>bedrooms</th>\n",
       "      <th>beds</th>\n",
       "      <th>price</th>\n",
       "      <th>number_of_reviews</th>\n",
       "    </tr>\n",
       "  </thead>\n",
       "  <tbody>\n",
       "    <tr>\n",
       "      <th>count</th>\n",
       "      <td>5.917000e+03</td>\n",
       "      <td>5.917000e+03</td>\n",
       "      <td>5.917000e+03</td>\n",
       "      <td>5917.000000</td>\n",
       "      <td>5.917000e+03</td>\n",
       "    </tr>\n",
       "    <tr>\n",
       "      <th>mean</th>\n",
       "      <td>6.964928e-17</td>\n",
       "      <td>-1.561105e-17</td>\n",
       "      <td>6.244418e-17</td>\n",
       "      <td>90.420145</td>\n",
       "      <td>-5.523908e-17</td>\n",
       "    </tr>\n",
       "    <tr>\n",
       "      <th>std</th>\n",
       "      <td>1.000000e+00</td>\n",
       "      <td>1.000000e+00</td>\n",
       "      <td>1.000000e+00</td>\n",
       "      <td>110.018298</td>\n",
       "      <td>1.000000e+00</td>\n",
       "    </tr>\n",
       "    <tr>\n",
       "      <th>min</th>\n",
       "      <td>-1.312657e+00</td>\n",
       "      <td>-8.273893e-01</td>\n",
       "      <td>-8.504439e-01</td>\n",
       "      <td>9.000000</td>\n",
       "      <td>-6.223685e-01</td>\n",
       "    </tr>\n",
       "    <tr>\n",
       "      <th>25%</th>\n",
       "      <td>-8.198587e-01</td>\n",
       "      <td>-8.273893e-01</td>\n",
       "      <td>-8.504439e-01</td>\n",
       "      <td>45.000000</td>\n",
       "      <td>-5.921336e-01</td>\n",
       "    </tr>\n",
       "    <tr>\n",
       "      <th>50%</th>\n",
       "      <td>1.657374e-01</td>\n",
       "      <td>1.940300e-01</td>\n",
       "      <td>-2.520283e-01</td>\n",
       "      <td>71.000000</td>\n",
       "      <td>-4.258415e-01</td>\n",
       "    </tr>\n",
       "    <tr>\n",
       "      <th>75%</th>\n",
       "      <td>6.585354e-01</td>\n",
       "      <td>1.940300e-01</td>\n",
       "      <td>3.463872e-01</td>\n",
       "      <td>101.000000</td>\n",
       "      <td>1.335048e-01</td>\n",
       "    </tr>\n",
       "    <tr>\n",
       "      <th>max</th>\n",
       "      <td>6.079314e+00</td>\n",
       "      <td>8.365384e+00</td>\n",
       "      <td>1.171628e+01</td>\n",
       "      <td>3184.000000</td>\n",
       "      <td>9.793566e+00</td>\n",
       "    </tr>\n",
       "  </tbody>\n",
       "</table>\n",
       "</div>"
      ],
      "text/plain": [
       "       accommodates      bedrooms          beds        price  \\\n",
       "count  5.917000e+03  5.917000e+03  5.917000e+03  5917.000000   \n",
       "mean   6.964928e-17 -1.561105e-17  6.244418e-17    90.420145   \n",
       "std    1.000000e+00  1.000000e+00  1.000000e+00   110.018298   \n",
       "min   -1.312657e+00 -8.273893e-01 -8.504439e-01     9.000000   \n",
       "25%   -8.198587e-01 -8.273893e-01 -8.504439e-01    45.000000   \n",
       "50%    1.657374e-01  1.940300e-01 -2.520283e-01    71.000000   \n",
       "75%    6.585354e-01  1.940300e-01  3.463872e-01   101.000000   \n",
       "max    6.079314e+00  8.365384e+00  1.171628e+01  3184.000000   \n",
       "\n",
       "       number_of_reviews  \n",
       "count       5.917000e+03  \n",
       "mean       -5.523908e-17  \n",
       "std         1.000000e+00  \n",
       "min        -6.223685e-01  \n",
       "25%        -5.921336e-01  \n",
       "50%        -4.258415e-01  \n",
       "75%         1.335048e-01  \n",
       "max         9.793566e+00  "
      ]
     },
     "execution_count": 34,
     "metadata": {},
     "output_type": "execute_result"
    }
   ],
   "source": [
    "normalized_valencia_df.describe()"
   ]
  },
  {
   "cell_type": "code",
   "execution_count": 35,
   "id": "5f16be05",
   "metadata": {},
   "outputs": [],
   "source": [
    "from scipy.spatial import distance "
   ]
  },
  {
   "cell_type": "code",
   "execution_count": 36,
   "id": "91f6067f",
   "metadata": {},
   "outputs": [
    {
     "data": {
      "text/plain": [
       "4.47213595499958"
      ]
     },
     "execution_count": 36,
     "metadata": {},
     "output_type": "execute_result"
    }
   ],
   "source": [
    "distance.euclidean([4,3], [6,7])"
   ]
  },
  {
   "cell_type": "code",
   "execution_count": 37,
   "id": "e5908bbd",
   "metadata": {},
   "outputs": [
    {
     "data": {
      "text/plain": [
       "4.47213595499958"
      ]
     },
     "execution_count": 37,
     "metadata": {},
     "output_type": "execute_result"
    }
   ],
   "source": [
    "20**0.5"
   ]
  },
  {
   "cell_type": "code",
   "execution_count": 38,
   "id": "4217d8b1",
   "metadata": {},
   "outputs": [
    {
     "data": {
      "text/plain": [
       "0.4927980467557245"
      ]
     },
     "execution_count": 38,
     "metadata": {},
     "output_type": "execute_result"
    }
   ],
   "source": [
    "# calcular la distancia euclidiana usando accommodates y bedrooms, entre la primera fila y la quinnta fila\n",
    "\n",
    "distance.euclidean(\n",
    "    normalized_valencia_df.iloc[0][['accommodates', 'bedrooms']],\n",
    "    normalized_valencia_df.iloc[4][['accommodates', 'bedrooms']],\n",
    ")"
   ]
  },
  {
   "cell_type": "code",
   "execution_count": 39,
   "id": "2fffbfe3",
   "metadata": {},
   "outputs": [
    {
     "data": {
      "text/html": [
       "<div>\n",
       "<style scoped>\n",
       "    .dataframe tbody tr th:only-of-type {\n",
       "        vertical-align: middle;\n",
       "    }\n",
       "\n",
       "    .dataframe tbody tr th {\n",
       "        vertical-align: top;\n",
       "    }\n",
       "\n",
       "    .dataframe thead th {\n",
       "        text-align: right;\n",
       "    }\n",
       "</style>\n",
       "<table border=\"1\" class=\"dataframe\">\n",
       "  <thead>\n",
       "    <tr style=\"text-align: right;\">\n",
       "      <th></th>\n",
       "      <th>accommodates</th>\n",
       "      <th>bedrooms</th>\n",
       "      <th>beds</th>\n",
       "      <th>price</th>\n",
       "      <th>number_of_reviews</th>\n",
       "    </tr>\n",
       "  </thead>\n",
       "  <tbody>\n",
       "    <tr>\n",
       "      <th>103</th>\n",
       "      <td>-0.819859</td>\n",
       "      <td>-0.827389</td>\n",
       "      <td>-0.850444</td>\n",
       "      <td>88.0</td>\n",
       "      <td>-0.592134</td>\n",
       "    </tr>\n",
       "    <tr>\n",
       "      <th>257</th>\n",
       "      <td>1.151333</td>\n",
       "      <td>0.194030</td>\n",
       "      <td>0.944803</td>\n",
       "      <td>95.0</td>\n",
       "      <td>-0.531664</td>\n",
       "    </tr>\n",
       "    <tr>\n",
       "      <th>3299</th>\n",
       "      <td>-0.819859</td>\n",
       "      <td>-0.827389</td>\n",
       "      <td>-0.850444</td>\n",
       "      <td>21.0</td>\n",
       "      <td>0.753321</td>\n",
       "    </tr>\n",
       "    <tr>\n",
       "      <th>3056</th>\n",
       "      <td>-1.312657</td>\n",
       "      <td>-0.827389</td>\n",
       "      <td>-0.850444</td>\n",
       "      <td>31.0</td>\n",
       "      <td>-0.259549</td>\n",
       "    </tr>\n",
       "    <tr>\n",
       "      <th>696</th>\n",
       "      <td>-0.327061</td>\n",
       "      <td>-0.827389</td>\n",
       "      <td>-0.252028</td>\n",
       "      <td>41.0</td>\n",
       "      <td>5.757203</td>\n",
       "    </tr>\n",
       "    <tr>\n",
       "      <th>...</th>\n",
       "      <td>...</td>\n",
       "      <td>...</td>\n",
       "      <td>...</td>\n",
       "      <td>...</td>\n",
       "      <td>...</td>\n",
       "    </tr>\n",
       "    <tr>\n",
       "      <th>1099</th>\n",
       "      <td>1.151333</td>\n",
       "      <td>0.194030</td>\n",
       "      <td>0.346387</td>\n",
       "      <td>89.0</td>\n",
       "      <td>0.057918</td>\n",
       "    </tr>\n",
       "    <tr>\n",
       "      <th>2514</th>\n",
       "      <td>0.165737</td>\n",
       "      <td>-0.827389</td>\n",
       "      <td>-0.850444</td>\n",
       "      <td>64.0</td>\n",
       "      <td>0.798673</td>\n",
       "    </tr>\n",
       "    <tr>\n",
       "      <th>3606</th>\n",
       "      <td>-0.819859</td>\n",
       "      <td>-0.827389</td>\n",
       "      <td>-0.850444</td>\n",
       "      <td>36.0</td>\n",
       "      <td>-0.577016</td>\n",
       "    </tr>\n",
       "    <tr>\n",
       "      <th>5704</th>\n",
       "      <td>-0.327061</td>\n",
       "      <td>0.194030</td>\n",
       "      <td>-0.252028</td>\n",
       "      <td>73.0</td>\n",
       "      <td>-0.622369</td>\n",
       "    </tr>\n",
       "    <tr>\n",
       "      <th>2575</th>\n",
       "      <td>-0.819859</td>\n",
       "      <td>0.194030</td>\n",
       "      <td>-0.252028</td>\n",
       "      <td>60.0</td>\n",
       "      <td>-0.183962</td>\n",
       "    </tr>\n",
       "  </tbody>\n",
       "</table>\n",
       "<p>5917 rows × 5 columns</p>\n",
       "</div>"
      ],
      "text/plain": [
       "      accommodates  bedrooms      beds  price  number_of_reviews\n",
       "103      -0.819859 -0.827389 -0.850444   88.0          -0.592134\n",
       "257       1.151333  0.194030  0.944803   95.0          -0.531664\n",
       "3299     -0.819859 -0.827389 -0.850444   21.0           0.753321\n",
       "3056     -1.312657 -0.827389 -0.850444   31.0          -0.259549\n",
       "696      -0.327061 -0.827389 -0.252028   41.0           5.757203\n",
       "...            ...       ...       ...    ...                ...\n",
       "1099      1.151333  0.194030  0.346387   89.0           0.057918\n",
       "2514      0.165737 -0.827389 -0.850444   64.0           0.798673\n",
       "3606     -0.819859 -0.827389 -0.850444   36.0          -0.577016\n",
       "5704     -0.327061  0.194030 -0.252028   73.0          -0.622369\n",
       "2575     -0.819859  0.194030 -0.252028   60.0          -0.183962\n",
       "\n",
       "[5917 rows x 5 columns]"
      ]
     },
     "execution_count": 39,
     "metadata": {},
     "output_type": "execute_result"
    }
   ],
   "source": [
    "normalized_valencia_df"
   ]
  },
  {
   "cell_type": "code",
   "execution_count": 40,
   "id": "5ecea570",
   "metadata": {},
   "outputs": [
    {
     "data": {
      "text/plain": [
       "6.396485161317652"
      ]
     },
     "execution_count": 40,
     "metadata": {},
     "output_type": "execute_result"
    }
   ],
   "source": [
    "distance.euclidean(\n",
    "    normalized_valencia_df.iloc[0][['accommodates', 'bedrooms', 'beds', 'number_of_reviews']],\n",
    "    normalized_valencia_df.iloc[4][['accommodates', 'bedrooms', 'beds', 'number_of_reviews']],\n",
    ")"
   ]
  },
  {
   "cell_type": "markdown",
   "id": "688e4888",
   "metadata": {},
   "source": [
    "# SCIKIT - Learn\n",
    "\n",
    "Tiene casi todos los principales algoritmos de aprendizaje automático\n",
    "\n",
    "Flujo de trabajo: \n",
    "\n",
    "- Instala del algoritmo de machine learning que se quiere usar - Cada uno es una clase de Python. Lo primero es identificar cuál queremos. Queremos el Regresor porque es una variable continua: https://scikit-learn.org/stable/modules/generated/sklearn.neighbors.KNeighborsRegressor.html \n",
    "- Ajustamos el modelo a los datos de entrenamiento (*fit*), crea la función 'predictora'\n",
    "- Hacemos predicciones con el modelo \n",
    "- Evaluamos la precisión"
   ]
  },
  {
   "cell_type": "code",
   "execution_count": 41,
   "id": "715bb881",
   "metadata": {},
   "outputs": [],
   "source": [
    "from sklearn.neighbors import KNeighborsRegressor"
   ]
  },
  {
   "cell_type": "code",
   "execution_count": 42,
   "id": "0236b404",
   "metadata": {},
   "outputs": [],
   "source": [
    "# creo una instancia de la clase que ejecuta el algoritmo\n",
    "knn = KNeighborsRegressor()"
   ]
  },
  {
   "cell_type": "code",
   "execution_count": 43,
   "id": "da7b6001",
   "metadata": {},
   "outputs": [
    {
     "data": {
      "text/html": [
       "<style>#sk-container-id-1 {color: black;background-color: white;}#sk-container-id-1 pre{padding: 0;}#sk-container-id-1 div.sk-toggleable {background-color: white;}#sk-container-id-1 label.sk-toggleable__label {cursor: pointer;display: block;width: 100%;margin-bottom: 0;padding: 0.3em;box-sizing: border-box;text-align: center;}#sk-container-id-1 label.sk-toggleable__label-arrow:before {content: \"▸\";float: left;margin-right: 0.25em;color: #696969;}#sk-container-id-1 label.sk-toggleable__label-arrow:hover:before {color: black;}#sk-container-id-1 div.sk-estimator:hover label.sk-toggleable__label-arrow:before {color: black;}#sk-container-id-1 div.sk-toggleable__content {max-height: 0;max-width: 0;overflow: hidden;text-align: left;background-color: #f0f8ff;}#sk-container-id-1 div.sk-toggleable__content pre {margin: 0.2em;color: black;border-radius: 0.25em;background-color: #f0f8ff;}#sk-container-id-1 input.sk-toggleable__control:checked~div.sk-toggleable__content {max-height: 200px;max-width: 100%;overflow: auto;}#sk-container-id-1 input.sk-toggleable__control:checked~label.sk-toggleable__label-arrow:before {content: \"▾\";}#sk-container-id-1 div.sk-estimator input.sk-toggleable__control:checked~label.sk-toggleable__label {background-color: #d4ebff;}#sk-container-id-1 div.sk-label input.sk-toggleable__control:checked~label.sk-toggleable__label {background-color: #d4ebff;}#sk-container-id-1 input.sk-hidden--visually {border: 0;clip: rect(1px 1px 1px 1px);clip: rect(1px, 1px, 1px, 1px);height: 1px;margin: -1px;overflow: hidden;padding: 0;position: absolute;width: 1px;}#sk-container-id-1 div.sk-estimator {font-family: monospace;background-color: #f0f8ff;border: 1px dotted black;border-radius: 0.25em;box-sizing: border-box;margin-bottom: 0.5em;}#sk-container-id-1 div.sk-estimator:hover {background-color: #d4ebff;}#sk-container-id-1 div.sk-parallel-item::after {content: \"\";width: 100%;border-bottom: 1px solid gray;flex-grow: 1;}#sk-container-id-1 div.sk-label:hover label.sk-toggleable__label {background-color: #d4ebff;}#sk-container-id-1 div.sk-serial::before {content: \"\";position: absolute;border-left: 1px solid gray;box-sizing: border-box;top: 0;bottom: 0;left: 50%;z-index: 0;}#sk-container-id-1 div.sk-serial {display: flex;flex-direction: column;align-items: center;background-color: white;padding-right: 0.2em;padding-left: 0.2em;position: relative;}#sk-container-id-1 div.sk-item {position: relative;z-index: 1;}#sk-container-id-1 div.sk-parallel {display: flex;align-items: stretch;justify-content: center;background-color: white;position: relative;}#sk-container-id-1 div.sk-item::before, #sk-container-id-1 div.sk-parallel-item::before {content: \"\";position: absolute;border-left: 1px solid gray;box-sizing: border-box;top: 0;bottom: 0;left: 50%;z-index: -1;}#sk-container-id-1 div.sk-parallel-item {display: flex;flex-direction: column;z-index: 1;position: relative;background-color: white;}#sk-container-id-1 div.sk-parallel-item:first-child::after {align-self: flex-end;width: 50%;}#sk-container-id-1 div.sk-parallel-item:last-child::after {align-self: flex-start;width: 50%;}#sk-container-id-1 div.sk-parallel-item:only-child::after {width: 0;}#sk-container-id-1 div.sk-dashed-wrapped {border: 1px dashed gray;margin: 0 0.4em 0.5em 0.4em;box-sizing: border-box;padding-bottom: 0.4em;background-color: white;}#sk-container-id-1 div.sk-label label {font-family: monospace;font-weight: bold;display: inline-block;line-height: 1.2em;}#sk-container-id-1 div.sk-label-container {text-align: center;}#sk-container-id-1 div.sk-container {/* jupyter's `normalize.less` sets `[hidden] { display: none; }` but bootstrap.min.css set `[hidden] { display: none !important; }` so we also need the `!important` here to be able to override the default hidden behavior on the sphinx rendered scikit-learn.org. See: https://github.com/scikit-learn/scikit-learn/issues/21755 */display: inline-block !important;position: relative;}#sk-container-id-1 div.sk-text-repr-fallback {display: none;}</style><div id=\"sk-container-id-1\" class=\"sk-top-container\"><div class=\"sk-text-repr-fallback\"><pre>KNeighborsRegressor()</pre><b>In a Jupyter environment, please rerun this cell to show the HTML representation or trust the notebook. <br />On GitHub, the HTML representation is unable to render, please try loading this page with nbviewer.org.</b></div><div class=\"sk-container\" hidden><div class=\"sk-item\"><div class=\"sk-estimator sk-toggleable\"><input class=\"sk-toggleable__control sk-hidden--visually\" id=\"sk-estimator-id-1\" type=\"checkbox\" checked><label for=\"sk-estimator-id-1\" class=\"sk-toggleable__label sk-toggleable__label-arrow\">KNeighborsRegressor</label><div class=\"sk-toggleable__content\"><pre>KNeighborsRegressor()</pre></div></div></div></div></div>"
      ],
      "text/plain": [
       "KNeighborsRegressor()"
      ]
     },
     "execution_count": 43,
     "metadata": {},
     "output_type": "execute_result"
    }
   ],
   "source": [
    "knn"
   ]
  },
  {
   "cell_type": "markdown",
   "id": "d86aa185",
   "metadata": {},
   "source": [
    "Según la documentación:\n",
    "```python\n",
    "class sklearn.neighbors.KNeighborsRegressor(n_neighbors=5, *, weights='uniform', algorithm='auto', leaf_size=30, p=2, metric='minkowski', metric_params=None, n_jobs=None)\n",
    "```\n",
    "\n",
    "- n_neighbors=5, el número de vecinos\n",
    "- algorithm - el algoritmo para comparar las distancias, brute son todas y otros optimizan y hay cálculos que no hacen\n",
    "- p, el algoritmos de distancia, 2 para distancia euclidea\n",
    "- weights: los pesos que cada vecino (de los más cercanos) van a tener en el resultado. 'uniform' es la media'\n",
    "\n",
    "Si queremos reproducir lo que habíamos hecho hasta ahora, sería algo como:\n",
    "\n",
    "```python\n",
    "knn = KNeighborsRegressor(n_neighbors=5, algorithm='brute')\n",
    "````\n",
    "\n",
    "\n",
    "\n"
   ]
  },
  {
   "cell_type": "code",
   "execution_count": 44,
   "id": "7a5f43e6",
   "metadata": {},
   "outputs": [],
   "source": [
    "knn = KNeighborsRegressor(n_neighbors=5, algorithm='brute')"
   ]
  },
  {
   "cell_type": "code",
   "execution_count": 45,
   "id": "9182a59e",
   "metadata": {},
   "outputs": [],
   "source": [
    "# ajustamos el modelo\n",
    "# para todos los modelos, el método fit tiene dos parámetros:\n",
    "# 1. Dataframe/matriz/matriz numpy con las columnas que nos van a predecir el resultado, no podemos usar el valor objetivo como predictor\n",
    "# 2. Serie/array/array numpy con los valores objetivo (etiquetas), en este caso el precio\n",
    "\n"
   ]
  },
  {
   "cell_type": "code",
   "execution_count": 46,
   "id": "30df6621",
   "metadata": {},
   "outputs": [],
   "source": [
    "# creamos los modelos de train y test\n",
    "split_value = math.trunc(len(valencia_df)*0.8)\n",
    "\n",
    "train_df = normalized_valencia_df[0:split_value].copy()\n",
    "test_df = normalized_valencia_df[split_value:].copy()"
   ]
  },
  {
   "cell_type": "code",
   "execution_count": 47,
   "id": "1a53b48d",
   "metadata": {},
   "outputs": [
    {
     "data": {
      "text/plain": [
       "(4733, 5)"
      ]
     },
     "execution_count": 47,
     "metadata": {},
     "output_type": "execute_result"
    }
   ],
   "source": [
    "train_df.shape"
   ]
  },
  {
   "cell_type": "code",
   "execution_count": 48,
   "id": "12df5d00",
   "metadata": {},
   "outputs": [
    {
     "data": {
      "text/plain": [
       "(1184, 5)"
      ]
     },
     "execution_count": 48,
     "metadata": {},
     "output_type": "execute_result"
    }
   ],
   "source": [
    "test_df.shape"
   ]
  },
  {
   "cell_type": "code",
   "execution_count": 49,
   "id": "faadfda7",
   "metadata": {},
   "outputs": [],
   "source": [
    "# vamos a estimar tan sólo con accommodates y bedrooms\n",
    "train_features = train_df[['accommodates', 'bedrooms']]\n",
    "train_target = train_df['price']"
   ]
  },
  {
   "cell_type": "code",
   "execution_count": 50,
   "id": "ba63ead7",
   "metadata": {},
   "outputs": [
    {
     "data": {
      "text/html": [
       "<style>#sk-container-id-2 {color: black;background-color: white;}#sk-container-id-2 pre{padding: 0;}#sk-container-id-2 div.sk-toggleable {background-color: white;}#sk-container-id-2 label.sk-toggleable__label {cursor: pointer;display: block;width: 100%;margin-bottom: 0;padding: 0.3em;box-sizing: border-box;text-align: center;}#sk-container-id-2 label.sk-toggleable__label-arrow:before {content: \"▸\";float: left;margin-right: 0.25em;color: #696969;}#sk-container-id-2 label.sk-toggleable__label-arrow:hover:before {color: black;}#sk-container-id-2 div.sk-estimator:hover label.sk-toggleable__label-arrow:before {color: black;}#sk-container-id-2 div.sk-toggleable__content {max-height: 0;max-width: 0;overflow: hidden;text-align: left;background-color: #f0f8ff;}#sk-container-id-2 div.sk-toggleable__content pre {margin: 0.2em;color: black;border-radius: 0.25em;background-color: #f0f8ff;}#sk-container-id-2 input.sk-toggleable__control:checked~div.sk-toggleable__content {max-height: 200px;max-width: 100%;overflow: auto;}#sk-container-id-2 input.sk-toggleable__control:checked~label.sk-toggleable__label-arrow:before {content: \"▾\";}#sk-container-id-2 div.sk-estimator input.sk-toggleable__control:checked~label.sk-toggleable__label {background-color: #d4ebff;}#sk-container-id-2 div.sk-label input.sk-toggleable__control:checked~label.sk-toggleable__label {background-color: #d4ebff;}#sk-container-id-2 input.sk-hidden--visually {border: 0;clip: rect(1px 1px 1px 1px);clip: rect(1px, 1px, 1px, 1px);height: 1px;margin: -1px;overflow: hidden;padding: 0;position: absolute;width: 1px;}#sk-container-id-2 div.sk-estimator {font-family: monospace;background-color: #f0f8ff;border: 1px dotted black;border-radius: 0.25em;box-sizing: border-box;margin-bottom: 0.5em;}#sk-container-id-2 div.sk-estimator:hover {background-color: #d4ebff;}#sk-container-id-2 div.sk-parallel-item::after {content: \"\";width: 100%;border-bottom: 1px solid gray;flex-grow: 1;}#sk-container-id-2 div.sk-label:hover label.sk-toggleable__label {background-color: #d4ebff;}#sk-container-id-2 div.sk-serial::before {content: \"\";position: absolute;border-left: 1px solid gray;box-sizing: border-box;top: 0;bottom: 0;left: 50%;z-index: 0;}#sk-container-id-2 div.sk-serial {display: flex;flex-direction: column;align-items: center;background-color: white;padding-right: 0.2em;padding-left: 0.2em;position: relative;}#sk-container-id-2 div.sk-item {position: relative;z-index: 1;}#sk-container-id-2 div.sk-parallel {display: flex;align-items: stretch;justify-content: center;background-color: white;position: relative;}#sk-container-id-2 div.sk-item::before, #sk-container-id-2 div.sk-parallel-item::before {content: \"\";position: absolute;border-left: 1px solid gray;box-sizing: border-box;top: 0;bottom: 0;left: 50%;z-index: -1;}#sk-container-id-2 div.sk-parallel-item {display: flex;flex-direction: column;z-index: 1;position: relative;background-color: white;}#sk-container-id-2 div.sk-parallel-item:first-child::after {align-self: flex-end;width: 50%;}#sk-container-id-2 div.sk-parallel-item:last-child::after {align-self: flex-start;width: 50%;}#sk-container-id-2 div.sk-parallel-item:only-child::after {width: 0;}#sk-container-id-2 div.sk-dashed-wrapped {border: 1px dashed gray;margin: 0 0.4em 0.5em 0.4em;box-sizing: border-box;padding-bottom: 0.4em;background-color: white;}#sk-container-id-2 div.sk-label label {font-family: monospace;font-weight: bold;display: inline-block;line-height: 1.2em;}#sk-container-id-2 div.sk-label-container {text-align: center;}#sk-container-id-2 div.sk-container {/* jupyter's `normalize.less` sets `[hidden] { display: none; }` but bootstrap.min.css set `[hidden] { display: none !important; }` so we also need the `!important` here to be able to override the default hidden behavior on the sphinx rendered scikit-learn.org. See: https://github.com/scikit-learn/scikit-learn/issues/21755 */display: inline-block !important;position: relative;}#sk-container-id-2 div.sk-text-repr-fallback {display: none;}</style><div id=\"sk-container-id-2\" class=\"sk-top-container\"><div class=\"sk-text-repr-fallback\"><pre>KNeighborsRegressor(algorithm=&#x27;brute&#x27;)</pre><b>In a Jupyter environment, please rerun this cell to show the HTML representation or trust the notebook. <br />On GitHub, the HTML representation is unable to render, please try loading this page with nbviewer.org.</b></div><div class=\"sk-container\" hidden><div class=\"sk-item\"><div class=\"sk-estimator sk-toggleable\"><input class=\"sk-toggleable__control sk-hidden--visually\" id=\"sk-estimator-id-2\" type=\"checkbox\" checked><label for=\"sk-estimator-id-2\" class=\"sk-toggleable__label sk-toggleable__label-arrow\">KNeighborsRegressor</label><div class=\"sk-toggleable__content\"><pre>KNeighborsRegressor(algorithm=&#x27;brute&#x27;)</pre></div></div></div></div></div>"
      ],
      "text/plain": [
       "KNeighborsRegressor(algorithm='brute')"
      ]
     },
     "execution_count": 50,
     "metadata": {},
     "output_type": "execute_result"
    }
   ],
   "source": [
    "knn.fit(train_features, train_target)"
   ]
  },
  {
   "cell_type": "markdown",
   "id": "74abcaca",
   "metadata": {},
   "source": [
    "Cuando he llamado a `fit()` sklearn almacena los datos de entrenamiento dentro de la instancia `knn`\n",
    "\n",
    "Si le pasamos datos con nulos o valores no numéricos, en este algoritmo el método `fit()` nos dará un error\n"
   ]
  },
  {
   "cell_type": "code",
   "execution_count": 51,
   "id": "3bc2caef",
   "metadata": {},
   "outputs": [],
   "source": [
    "predicciones = knn.predict( test_df[['accommodates', 'bedrooms']] )"
   ]
  },
  {
   "cell_type": "code",
   "execution_count": 52,
   "id": "864b9240",
   "metadata": {},
   "outputs": [
    {
     "data": {
      "text/html": [
       "<div>\n",
       "<style scoped>\n",
       "    .dataframe tbody tr th:only-of-type {\n",
       "        vertical-align: middle;\n",
       "    }\n",
       "\n",
       "    .dataframe tbody tr th {\n",
       "        vertical-align: top;\n",
       "    }\n",
       "\n",
       "    .dataframe thead th {\n",
       "        text-align: right;\n",
       "    }\n",
       "</style>\n",
       "<table border=\"1\" class=\"dataframe\">\n",
       "  <thead>\n",
       "    <tr style=\"text-align: right;\">\n",
       "      <th></th>\n",
       "      <th>accommodates</th>\n",
       "      <th>bedrooms</th>\n",
       "      <th>beds</th>\n",
       "      <th>price</th>\n",
       "      <th>number_of_reviews</th>\n",
       "    </tr>\n",
       "  </thead>\n",
       "  <tbody>\n",
       "    <tr>\n",
       "      <th>3617</th>\n",
       "      <td>0.658535</td>\n",
       "      <td>1.215449</td>\n",
       "      <td>0.944803</td>\n",
       "      <td>31.0</td>\n",
       "      <td>-0.607251</td>\n",
       "    </tr>\n",
       "    <tr>\n",
       "      <th>859</th>\n",
       "      <td>0.165737</td>\n",
       "      <td>-0.827389</td>\n",
       "      <td>-0.252028</td>\n",
       "      <td>131.0</td>\n",
       "      <td>-0.622369</td>\n",
       "    </tr>\n",
       "    <tr>\n",
       "      <th>12</th>\n",
       "      <td>-0.819859</td>\n",
       "      <td>-0.827389</td>\n",
       "      <td>-0.252028</td>\n",
       "      <td>80.0</td>\n",
       "      <td>0.027683</td>\n",
       "    </tr>\n",
       "    <tr>\n",
       "      <th>4852</th>\n",
       "      <td>1.151333</td>\n",
       "      <td>1.215449</td>\n",
       "      <td>2.141634</td>\n",
       "      <td>200.0</td>\n",
       "      <td>-0.531664</td>\n",
       "    </tr>\n",
       "    <tr>\n",
       "      <th>5894</th>\n",
       "      <td>1.151333</td>\n",
       "      <td>1.215449</td>\n",
       "      <td>0.346387</td>\n",
       "      <td>140.0</td>\n",
       "      <td>-0.607251</td>\n",
       "    </tr>\n",
       "    <tr>\n",
       "      <th>...</th>\n",
       "      <td>...</td>\n",
       "      <td>...</td>\n",
       "      <td>...</td>\n",
       "      <td>...</td>\n",
       "      <td>...</td>\n",
       "    </tr>\n",
       "    <tr>\n",
       "      <th>1099</th>\n",
       "      <td>1.151333</td>\n",
       "      <td>0.194030</td>\n",
       "      <td>0.346387</td>\n",
       "      <td>89.0</td>\n",
       "      <td>0.057918</td>\n",
       "    </tr>\n",
       "    <tr>\n",
       "      <th>2514</th>\n",
       "      <td>0.165737</td>\n",
       "      <td>-0.827389</td>\n",
       "      <td>-0.850444</td>\n",
       "      <td>64.0</td>\n",
       "      <td>0.798673</td>\n",
       "    </tr>\n",
       "    <tr>\n",
       "      <th>3606</th>\n",
       "      <td>-0.819859</td>\n",
       "      <td>-0.827389</td>\n",
       "      <td>-0.850444</td>\n",
       "      <td>36.0</td>\n",
       "      <td>-0.577016</td>\n",
       "    </tr>\n",
       "    <tr>\n",
       "      <th>5704</th>\n",
       "      <td>-0.327061</td>\n",
       "      <td>0.194030</td>\n",
       "      <td>-0.252028</td>\n",
       "      <td>73.0</td>\n",
       "      <td>-0.622369</td>\n",
       "    </tr>\n",
       "    <tr>\n",
       "      <th>2575</th>\n",
       "      <td>-0.819859</td>\n",
       "      <td>0.194030</td>\n",
       "      <td>-0.252028</td>\n",
       "      <td>60.0</td>\n",
       "      <td>-0.183962</td>\n",
       "    </tr>\n",
       "  </tbody>\n",
       "</table>\n",
       "<p>1184 rows × 5 columns</p>\n",
       "</div>"
      ],
      "text/plain": [
       "      accommodates  bedrooms      beds  price  number_of_reviews\n",
       "3617      0.658535  1.215449  0.944803   31.0          -0.607251\n",
       "859       0.165737 -0.827389 -0.252028  131.0          -0.622369\n",
       "12       -0.819859 -0.827389 -0.252028   80.0           0.027683\n",
       "4852      1.151333  1.215449  2.141634  200.0          -0.531664\n",
       "5894      1.151333  1.215449  0.346387  140.0          -0.607251\n",
       "...            ...       ...       ...    ...                ...\n",
       "1099      1.151333  0.194030  0.346387   89.0           0.057918\n",
       "2514      0.165737 -0.827389 -0.850444   64.0           0.798673\n",
       "3606     -0.819859 -0.827389 -0.850444   36.0          -0.577016\n",
       "5704     -0.327061  0.194030 -0.252028   73.0          -0.622369\n",
       "2575     -0.819859  0.194030 -0.252028   60.0          -0.183962\n",
       "\n",
       "[1184 rows x 5 columns]"
      ]
     },
     "execution_count": 52,
     "metadata": {},
     "output_type": "execute_result"
    }
   ],
   "source": [
    "test_df"
   ]
  },
  {
   "cell_type": "code",
   "execution_count": 53,
   "id": "772f9fec",
   "metadata": {},
   "outputs": [],
   "source": [
    "test_df['predicted_price'] = predicciones.copy()"
   ]
  },
  {
   "cell_type": "code",
   "execution_count": 54,
   "id": "058080e0",
   "metadata": {},
   "outputs": [
    {
     "data": {
      "text/html": [
       "<div>\n",
       "<style scoped>\n",
       "    .dataframe tbody tr th:only-of-type {\n",
       "        vertical-align: middle;\n",
       "    }\n",
       "\n",
       "    .dataframe tbody tr th {\n",
       "        vertical-align: top;\n",
       "    }\n",
       "\n",
       "    .dataframe thead th {\n",
       "        text-align: right;\n",
       "    }\n",
       "</style>\n",
       "<table border=\"1\" class=\"dataframe\">\n",
       "  <thead>\n",
       "    <tr style=\"text-align: right;\">\n",
       "      <th></th>\n",
       "      <th>accommodates</th>\n",
       "      <th>bedrooms</th>\n",
       "      <th>beds</th>\n",
       "      <th>price</th>\n",
       "      <th>number_of_reviews</th>\n",
       "      <th>predicted_price</th>\n",
       "    </tr>\n",
       "  </thead>\n",
       "  <tbody>\n",
       "    <tr>\n",
       "      <th>3617</th>\n",
       "      <td>0.658535</td>\n",
       "      <td>1.215449</td>\n",
       "      <td>0.944803</td>\n",
       "      <td>31.0</td>\n",
       "      <td>-0.607251</td>\n",
       "      <td>98.4</td>\n",
       "    </tr>\n",
       "    <tr>\n",
       "      <th>859</th>\n",
       "      <td>0.165737</td>\n",
       "      <td>-0.827389</td>\n",
       "      <td>-0.252028</td>\n",
       "      <td>131.0</td>\n",
       "      <td>-0.622369</td>\n",
       "      <td>174.2</td>\n",
       "    </tr>\n",
       "    <tr>\n",
       "      <th>12</th>\n",
       "      <td>-0.819859</td>\n",
       "      <td>-0.827389</td>\n",
       "      <td>-0.252028</td>\n",
       "      <td>80.0</td>\n",
       "      <td>0.027683</td>\n",
       "      <td>54.2</td>\n",
       "    </tr>\n",
       "    <tr>\n",
       "      <th>4852</th>\n",
       "      <td>1.151333</td>\n",
       "      <td>1.215449</td>\n",
       "      <td>2.141634</td>\n",
       "      <td>200.0</td>\n",
       "      <td>-0.531664</td>\n",
       "      <td>127.4</td>\n",
       "    </tr>\n",
       "    <tr>\n",
       "      <th>5894</th>\n",
       "      <td>1.151333</td>\n",
       "      <td>1.215449</td>\n",
       "      <td>0.346387</td>\n",
       "      <td>140.0</td>\n",
       "      <td>-0.607251</td>\n",
       "      <td>127.4</td>\n",
       "    </tr>\n",
       "    <tr>\n",
       "      <th>...</th>\n",
       "      <td>...</td>\n",
       "      <td>...</td>\n",
       "      <td>...</td>\n",
       "      <td>...</td>\n",
       "      <td>...</td>\n",
       "      <td>...</td>\n",
       "    </tr>\n",
       "    <tr>\n",
       "      <th>1099</th>\n",
       "      <td>1.151333</td>\n",
       "      <td>0.194030</td>\n",
       "      <td>0.346387</td>\n",
       "      <td>89.0</td>\n",
       "      <td>0.057918</td>\n",
       "      <td>95.6</td>\n",
       "    </tr>\n",
       "    <tr>\n",
       "      <th>2514</th>\n",
       "      <td>0.165737</td>\n",
       "      <td>-0.827389</td>\n",
       "      <td>-0.850444</td>\n",
       "      <td>64.0</td>\n",
       "      <td>0.798673</td>\n",
       "      <td>174.2</td>\n",
       "    </tr>\n",
       "    <tr>\n",
       "      <th>3606</th>\n",
       "      <td>-0.819859</td>\n",
       "      <td>-0.827389</td>\n",
       "      <td>-0.850444</td>\n",
       "      <td>36.0</td>\n",
       "      <td>-0.577016</td>\n",
       "      <td>54.2</td>\n",
       "    </tr>\n",
       "    <tr>\n",
       "      <th>5704</th>\n",
       "      <td>-0.327061</td>\n",
       "      <td>0.194030</td>\n",
       "      <td>-0.252028</td>\n",
       "      <td>73.0</td>\n",
       "      <td>-0.622369</td>\n",
       "      <td>83.8</td>\n",
       "    </tr>\n",
       "    <tr>\n",
       "      <th>2575</th>\n",
       "      <td>-0.819859</td>\n",
       "      <td>0.194030</td>\n",
       "      <td>-0.252028</td>\n",
       "      <td>60.0</td>\n",
       "      <td>-0.183962</td>\n",
       "      <td>55.2</td>\n",
       "    </tr>\n",
       "  </tbody>\n",
       "</table>\n",
       "<p>1184 rows × 6 columns</p>\n",
       "</div>"
      ],
      "text/plain": [
       "      accommodates  bedrooms      beds  price  number_of_reviews  \\\n",
       "3617      0.658535  1.215449  0.944803   31.0          -0.607251   \n",
       "859       0.165737 -0.827389 -0.252028  131.0          -0.622369   \n",
       "12       -0.819859 -0.827389 -0.252028   80.0           0.027683   \n",
       "4852      1.151333  1.215449  2.141634  200.0          -0.531664   \n",
       "5894      1.151333  1.215449  0.346387  140.0          -0.607251   \n",
       "...            ...       ...       ...    ...                ...   \n",
       "1099      1.151333  0.194030  0.346387   89.0           0.057918   \n",
       "2514      0.165737 -0.827389 -0.850444   64.0           0.798673   \n",
       "3606     -0.819859 -0.827389 -0.850444   36.0          -0.577016   \n",
       "5704     -0.327061  0.194030 -0.252028   73.0          -0.622369   \n",
       "2575     -0.819859  0.194030 -0.252028   60.0          -0.183962   \n",
       "\n",
       "      predicted_price  \n",
       "3617             98.4  \n",
       "859             174.2  \n",
       "12               54.2  \n",
       "4852            127.4  \n",
       "5894            127.4  \n",
       "...               ...  \n",
       "1099             95.6  \n",
       "2514            174.2  \n",
       "3606             54.2  \n",
       "5704             83.8  \n",
       "2575             55.2  \n",
       "\n",
       "[1184 rows x 6 columns]"
      ]
     },
     "execution_count": 54,
     "metadata": {},
     "output_type": "execute_result"
    }
   ],
   "source": [
    "test_df"
   ]
  },
  {
   "cell_type": "markdown",
   "id": "17acc4cf",
   "metadata": {},
   "source": [
    "Cálculo del MSE con sklearn: mean_squared_error (con este tenemos también el rmse)"
   ]
  },
  {
   "cell_type": "code",
   "execution_count": 55,
   "id": "da61b3a7",
   "metadata": {},
   "outputs": [],
   "source": [
    "from sklearn.metrics import mean_squared_error"
   ]
  },
  {
   "cell_type": "code",
   "execution_count": 56,
   "id": "20a9554f",
   "metadata": {},
   "outputs": [],
   "source": [
    "mse = mean_squared_error(test_df['price'], test_df['predicted_price'])"
   ]
  },
  {
   "cell_type": "code",
   "execution_count": 57,
   "id": "c97596f6",
   "metadata": {},
   "outputs": [],
   "source": [
    "rmse = mse**0.5"
   ]
  },
  {
   "cell_type": "code",
   "execution_count": 58,
   "id": "d6e79e3b",
   "metadata": {},
   "outputs": [
    {
     "data": {
      "text/plain": [
       "83.19114184263299"
      ]
     },
     "execution_count": 58,
     "metadata": {},
     "output_type": "execute_result"
    }
   ],
   "source": [
    "rmse"
   ]
  },
  {
   "cell_type": "markdown",
   "id": "d7c9d731",
   "metadata": {},
   "source": [
    "RMSE\n",
    "\n",
    "- accomodates: 81\n",
    "- bedrooms: 89\n",
    "- bedrooms + accommodates: 83\n",
    "\n",
    "#### Ahora vamos a hacer una predicción con los cuatro (bedrooms, beds, accommodates ,n_reviews)"
   ]
  },
  {
   "cell_type": "code",
   "execution_count": 59,
   "id": "327a58b4",
   "metadata": {},
   "outputs": [],
   "source": [
    "knn_4 = KNeighborsRegressor(n_neighbors=5, algorithm='brute')"
   ]
  },
  {
   "cell_type": "code",
   "execution_count": 60,
   "id": "2d8c7814",
   "metadata": {},
   "outputs": [
    {
     "data": {
      "text/html": [
       "<div>\n",
       "<style scoped>\n",
       "    .dataframe tbody tr th:only-of-type {\n",
       "        vertical-align: middle;\n",
       "    }\n",
       "\n",
       "    .dataframe tbody tr th {\n",
       "        vertical-align: top;\n",
       "    }\n",
       "\n",
       "    .dataframe thead th {\n",
       "        text-align: right;\n",
       "    }\n",
       "</style>\n",
       "<table border=\"1\" class=\"dataframe\">\n",
       "  <thead>\n",
       "    <tr style=\"text-align: right;\">\n",
       "      <th></th>\n",
       "      <th>accommodates</th>\n",
       "      <th>bedrooms</th>\n",
       "      <th>beds</th>\n",
       "      <th>price</th>\n",
       "      <th>number_of_reviews</th>\n",
       "    </tr>\n",
       "  </thead>\n",
       "  <tbody>\n",
       "    <tr>\n",
       "      <th>103</th>\n",
       "      <td>-0.819859</td>\n",
       "      <td>-0.827389</td>\n",
       "      <td>-0.850444</td>\n",
       "      <td>88.0</td>\n",
       "      <td>-0.592134</td>\n",
       "    </tr>\n",
       "    <tr>\n",
       "      <th>257</th>\n",
       "      <td>1.151333</td>\n",
       "      <td>0.194030</td>\n",
       "      <td>0.944803</td>\n",
       "      <td>95.0</td>\n",
       "      <td>-0.531664</td>\n",
       "    </tr>\n",
       "    <tr>\n",
       "      <th>3299</th>\n",
       "      <td>-0.819859</td>\n",
       "      <td>-0.827389</td>\n",
       "      <td>-0.850444</td>\n",
       "      <td>21.0</td>\n",
       "      <td>0.753321</td>\n",
       "    </tr>\n",
       "    <tr>\n",
       "      <th>3056</th>\n",
       "      <td>-1.312657</td>\n",
       "      <td>-0.827389</td>\n",
       "      <td>-0.850444</td>\n",
       "      <td>31.0</td>\n",
       "      <td>-0.259549</td>\n",
       "    </tr>\n",
       "    <tr>\n",
       "      <th>696</th>\n",
       "      <td>-0.327061</td>\n",
       "      <td>-0.827389</td>\n",
       "      <td>-0.252028</td>\n",
       "      <td>41.0</td>\n",
       "      <td>5.757203</td>\n",
       "    </tr>\n",
       "    <tr>\n",
       "      <th>...</th>\n",
       "      <td>...</td>\n",
       "      <td>...</td>\n",
       "      <td>...</td>\n",
       "      <td>...</td>\n",
       "      <td>...</td>\n",
       "    </tr>\n",
       "    <tr>\n",
       "      <th>4155</th>\n",
       "      <td>1.151333</td>\n",
       "      <td>0.194030</td>\n",
       "      <td>0.944803</td>\n",
       "      <td>83.0</td>\n",
       "      <td>-0.304902</td>\n",
       "    </tr>\n",
       "    <tr>\n",
       "      <th>4486</th>\n",
       "      <td>-0.327061</td>\n",
       "      <td>-0.827389</td>\n",
       "      <td>0.346387</td>\n",
       "      <td>63.0</td>\n",
       "      <td>-0.440959</td>\n",
       "    </tr>\n",
       "    <tr>\n",
       "      <th>1094</th>\n",
       "      <td>3.122526</td>\n",
       "      <td>2.236868</td>\n",
       "      <td>4.535296</td>\n",
       "      <td>130.0</td>\n",
       "      <td>-0.199079</td>\n",
       "    </tr>\n",
       "    <tr>\n",
       "      <th>5179</th>\n",
       "      <td>0.165737</td>\n",
       "      <td>0.194030</td>\n",
       "      <td>-0.252028</td>\n",
       "      <td>190.0</td>\n",
       "      <td>-0.592134</td>\n",
       "    </tr>\n",
       "    <tr>\n",
       "      <th>2469</th>\n",
       "      <td>0.165737</td>\n",
       "      <td>0.194030</td>\n",
       "      <td>-0.252028</td>\n",
       "      <td>61.0</td>\n",
       "      <td>1.252197</td>\n",
       "    </tr>\n",
       "  </tbody>\n",
       "</table>\n",
       "<p>4733 rows × 5 columns</p>\n",
       "</div>"
      ],
      "text/plain": [
       "      accommodates  bedrooms      beds  price  number_of_reviews\n",
       "103      -0.819859 -0.827389 -0.850444   88.0          -0.592134\n",
       "257       1.151333  0.194030  0.944803   95.0          -0.531664\n",
       "3299     -0.819859 -0.827389 -0.850444   21.0           0.753321\n",
       "3056     -1.312657 -0.827389 -0.850444   31.0          -0.259549\n",
       "696      -0.327061 -0.827389 -0.252028   41.0           5.757203\n",
       "...            ...       ...       ...    ...                ...\n",
       "4155      1.151333  0.194030  0.944803   83.0          -0.304902\n",
       "4486     -0.327061 -0.827389  0.346387   63.0          -0.440959\n",
       "1094      3.122526  2.236868  4.535296  130.0          -0.199079\n",
       "5179      0.165737  0.194030 -0.252028  190.0          -0.592134\n",
       "2469      0.165737  0.194030 -0.252028   61.0           1.252197\n",
       "\n",
       "[4733 rows x 5 columns]"
      ]
     },
     "execution_count": 60,
     "metadata": {},
     "output_type": "execute_result"
    }
   ],
   "source": [
    "train_df"
   ]
  },
  {
   "cell_type": "code",
   "execution_count": 61,
   "id": "923a358e",
   "metadata": {},
   "outputs": [
    {
     "data": {
      "text/html": [
       "<style>#sk-container-id-3 {color: black;background-color: white;}#sk-container-id-3 pre{padding: 0;}#sk-container-id-3 div.sk-toggleable {background-color: white;}#sk-container-id-3 label.sk-toggleable__label {cursor: pointer;display: block;width: 100%;margin-bottom: 0;padding: 0.3em;box-sizing: border-box;text-align: center;}#sk-container-id-3 label.sk-toggleable__label-arrow:before {content: \"▸\";float: left;margin-right: 0.25em;color: #696969;}#sk-container-id-3 label.sk-toggleable__label-arrow:hover:before {color: black;}#sk-container-id-3 div.sk-estimator:hover label.sk-toggleable__label-arrow:before {color: black;}#sk-container-id-3 div.sk-toggleable__content {max-height: 0;max-width: 0;overflow: hidden;text-align: left;background-color: #f0f8ff;}#sk-container-id-3 div.sk-toggleable__content pre {margin: 0.2em;color: black;border-radius: 0.25em;background-color: #f0f8ff;}#sk-container-id-3 input.sk-toggleable__control:checked~div.sk-toggleable__content {max-height: 200px;max-width: 100%;overflow: auto;}#sk-container-id-3 input.sk-toggleable__control:checked~label.sk-toggleable__label-arrow:before {content: \"▾\";}#sk-container-id-3 div.sk-estimator input.sk-toggleable__control:checked~label.sk-toggleable__label {background-color: #d4ebff;}#sk-container-id-3 div.sk-label input.sk-toggleable__control:checked~label.sk-toggleable__label {background-color: #d4ebff;}#sk-container-id-3 input.sk-hidden--visually {border: 0;clip: rect(1px 1px 1px 1px);clip: rect(1px, 1px, 1px, 1px);height: 1px;margin: -1px;overflow: hidden;padding: 0;position: absolute;width: 1px;}#sk-container-id-3 div.sk-estimator {font-family: monospace;background-color: #f0f8ff;border: 1px dotted black;border-radius: 0.25em;box-sizing: border-box;margin-bottom: 0.5em;}#sk-container-id-3 div.sk-estimator:hover {background-color: #d4ebff;}#sk-container-id-3 div.sk-parallel-item::after {content: \"\";width: 100%;border-bottom: 1px solid gray;flex-grow: 1;}#sk-container-id-3 div.sk-label:hover label.sk-toggleable__label {background-color: #d4ebff;}#sk-container-id-3 div.sk-serial::before {content: \"\";position: absolute;border-left: 1px solid gray;box-sizing: border-box;top: 0;bottom: 0;left: 50%;z-index: 0;}#sk-container-id-3 div.sk-serial {display: flex;flex-direction: column;align-items: center;background-color: white;padding-right: 0.2em;padding-left: 0.2em;position: relative;}#sk-container-id-3 div.sk-item {position: relative;z-index: 1;}#sk-container-id-3 div.sk-parallel {display: flex;align-items: stretch;justify-content: center;background-color: white;position: relative;}#sk-container-id-3 div.sk-item::before, #sk-container-id-3 div.sk-parallel-item::before {content: \"\";position: absolute;border-left: 1px solid gray;box-sizing: border-box;top: 0;bottom: 0;left: 50%;z-index: -1;}#sk-container-id-3 div.sk-parallel-item {display: flex;flex-direction: column;z-index: 1;position: relative;background-color: white;}#sk-container-id-3 div.sk-parallel-item:first-child::after {align-self: flex-end;width: 50%;}#sk-container-id-3 div.sk-parallel-item:last-child::after {align-self: flex-start;width: 50%;}#sk-container-id-3 div.sk-parallel-item:only-child::after {width: 0;}#sk-container-id-3 div.sk-dashed-wrapped {border: 1px dashed gray;margin: 0 0.4em 0.5em 0.4em;box-sizing: border-box;padding-bottom: 0.4em;background-color: white;}#sk-container-id-3 div.sk-label label {font-family: monospace;font-weight: bold;display: inline-block;line-height: 1.2em;}#sk-container-id-3 div.sk-label-container {text-align: center;}#sk-container-id-3 div.sk-container {/* jupyter's `normalize.less` sets `[hidden] { display: none; }` but bootstrap.min.css set `[hidden] { display: none !important; }` so we also need the `!important` here to be able to override the default hidden behavior on the sphinx rendered scikit-learn.org. See: https://github.com/scikit-learn/scikit-learn/issues/21755 */display: inline-block !important;position: relative;}#sk-container-id-3 div.sk-text-repr-fallback {display: none;}</style><div id=\"sk-container-id-3\" class=\"sk-top-container\"><div class=\"sk-text-repr-fallback\"><pre>KNeighborsRegressor(algorithm=&#x27;brute&#x27;)</pre><b>In a Jupyter environment, please rerun this cell to show the HTML representation or trust the notebook. <br />On GitHub, the HTML representation is unable to render, please try loading this page with nbviewer.org.</b></div><div class=\"sk-container\" hidden><div class=\"sk-item\"><div class=\"sk-estimator sk-toggleable\"><input class=\"sk-toggleable__control sk-hidden--visually\" id=\"sk-estimator-id-3\" type=\"checkbox\" checked><label for=\"sk-estimator-id-3\" class=\"sk-toggleable__label sk-toggleable__label-arrow\">KNeighborsRegressor</label><div class=\"sk-toggleable__content\"><pre>KNeighborsRegressor(algorithm=&#x27;brute&#x27;)</pre></div></div></div></div></div>"
      ],
      "text/plain": [
       "KNeighborsRegressor(algorithm='brute')"
      ]
     },
     "execution_count": 61,
     "metadata": {},
     "output_type": "execute_result"
    }
   ],
   "source": [
    "knn_4.fit(train_df[['accommodates', 'bedrooms', 'beds', 'number_of_reviews']], train_df['price'])"
   ]
  },
  {
   "cell_type": "code",
   "execution_count": 62,
   "id": "05506522",
   "metadata": {},
   "outputs": [],
   "source": [
    "test_df['predictions_4'] = knn_4.predict(test_df[['accommodates', 'bedrooms', 'beds', 'number_of_reviews']])"
   ]
  },
  {
   "cell_type": "code",
   "execution_count": 63,
   "id": "6b7f25f2",
   "metadata": {},
   "outputs": [
    {
     "data": {
      "text/html": [
       "<div>\n",
       "<style scoped>\n",
       "    .dataframe tbody tr th:only-of-type {\n",
       "        vertical-align: middle;\n",
       "    }\n",
       "\n",
       "    .dataframe tbody tr th {\n",
       "        vertical-align: top;\n",
       "    }\n",
       "\n",
       "    .dataframe thead th {\n",
       "        text-align: right;\n",
       "    }\n",
       "</style>\n",
       "<table border=\"1\" class=\"dataframe\">\n",
       "  <thead>\n",
       "    <tr style=\"text-align: right;\">\n",
       "      <th></th>\n",
       "      <th>accommodates</th>\n",
       "      <th>bedrooms</th>\n",
       "      <th>beds</th>\n",
       "      <th>price</th>\n",
       "      <th>number_of_reviews</th>\n",
       "      <th>predicted_price</th>\n",
       "      <th>predictions_4</th>\n",
       "    </tr>\n",
       "  </thead>\n",
       "  <tbody>\n",
       "    <tr>\n",
       "      <th>3617</th>\n",
       "      <td>0.658535</td>\n",
       "      <td>1.215449</td>\n",
       "      <td>0.944803</td>\n",
       "      <td>31.0</td>\n",
       "      <td>-0.607251</td>\n",
       "      <td>98.4</td>\n",
       "      <td>141.2</td>\n",
       "    </tr>\n",
       "    <tr>\n",
       "      <th>859</th>\n",
       "      <td>0.165737</td>\n",
       "      <td>-0.827389</td>\n",
       "      <td>-0.252028</td>\n",
       "      <td>131.0</td>\n",
       "      <td>-0.622369</td>\n",
       "      <td>174.2</td>\n",
       "      <td>106.0</td>\n",
       "    </tr>\n",
       "    <tr>\n",
       "      <th>12</th>\n",
       "      <td>-0.819859</td>\n",
       "      <td>-0.827389</td>\n",
       "      <td>-0.252028</td>\n",
       "      <td>80.0</td>\n",
       "      <td>0.027683</td>\n",
       "      <td>54.2</td>\n",
       "      <td>34.0</td>\n",
       "    </tr>\n",
       "    <tr>\n",
       "      <th>4852</th>\n",
       "      <td>1.151333</td>\n",
       "      <td>1.215449</td>\n",
       "      <td>2.141634</td>\n",
       "      <td>200.0</td>\n",
       "      <td>-0.531664</td>\n",
       "      <td>127.4</td>\n",
       "      <td>99.4</td>\n",
       "    </tr>\n",
       "    <tr>\n",
       "      <th>5894</th>\n",
       "      <td>1.151333</td>\n",
       "      <td>1.215449</td>\n",
       "      <td>0.346387</td>\n",
       "      <td>140.0</td>\n",
       "      <td>-0.607251</td>\n",
       "      <td>127.4</td>\n",
       "      <td>128.2</td>\n",
       "    </tr>\n",
       "    <tr>\n",
       "      <th>...</th>\n",
       "      <td>...</td>\n",
       "      <td>...</td>\n",
       "      <td>...</td>\n",
       "      <td>...</td>\n",
       "      <td>...</td>\n",
       "      <td>...</td>\n",
       "      <td>...</td>\n",
       "    </tr>\n",
       "    <tr>\n",
       "      <th>1099</th>\n",
       "      <td>1.151333</td>\n",
       "      <td>0.194030</td>\n",
       "      <td>0.346387</td>\n",
       "      <td>89.0</td>\n",
       "      <td>0.057918</td>\n",
       "      <td>95.6</td>\n",
       "      <td>89.2</td>\n",
       "    </tr>\n",
       "    <tr>\n",
       "      <th>2514</th>\n",
       "      <td>0.165737</td>\n",
       "      <td>-0.827389</td>\n",
       "      <td>-0.850444</td>\n",
       "      <td>64.0</td>\n",
       "      <td>0.798673</td>\n",
       "      <td>174.2</td>\n",
       "      <td>72.4</td>\n",
       "    </tr>\n",
       "    <tr>\n",
       "      <th>3606</th>\n",
       "      <td>-0.819859</td>\n",
       "      <td>-0.827389</td>\n",
       "      <td>-0.850444</td>\n",
       "      <td>36.0</td>\n",
       "      <td>-0.577016</td>\n",
       "      <td>54.2</td>\n",
       "      <td>85.6</td>\n",
       "    </tr>\n",
       "    <tr>\n",
       "      <th>5704</th>\n",
       "      <td>-0.327061</td>\n",
       "      <td>0.194030</td>\n",
       "      <td>-0.252028</td>\n",
       "      <td>73.0</td>\n",
       "      <td>-0.622369</td>\n",
       "      <td>83.8</td>\n",
       "      <td>104.6</td>\n",
       "    </tr>\n",
       "    <tr>\n",
       "      <th>2575</th>\n",
       "      <td>-0.819859</td>\n",
       "      <td>0.194030</td>\n",
       "      <td>-0.252028</td>\n",
       "      <td>60.0</td>\n",
       "      <td>-0.183962</td>\n",
       "      <td>55.2</td>\n",
       "      <td>60.0</td>\n",
       "    </tr>\n",
       "  </tbody>\n",
       "</table>\n",
       "<p>1184 rows × 7 columns</p>\n",
       "</div>"
      ],
      "text/plain": [
       "      accommodates  bedrooms      beds  price  number_of_reviews  \\\n",
       "3617      0.658535  1.215449  0.944803   31.0          -0.607251   \n",
       "859       0.165737 -0.827389 -0.252028  131.0          -0.622369   \n",
       "12       -0.819859 -0.827389 -0.252028   80.0           0.027683   \n",
       "4852      1.151333  1.215449  2.141634  200.0          -0.531664   \n",
       "5894      1.151333  1.215449  0.346387  140.0          -0.607251   \n",
       "...            ...       ...       ...    ...                ...   \n",
       "1099      1.151333  0.194030  0.346387   89.0           0.057918   \n",
       "2514      0.165737 -0.827389 -0.850444   64.0           0.798673   \n",
       "3606     -0.819859 -0.827389 -0.850444   36.0          -0.577016   \n",
       "5704     -0.327061  0.194030 -0.252028   73.0          -0.622369   \n",
       "2575     -0.819859  0.194030 -0.252028   60.0          -0.183962   \n",
       "\n",
       "      predicted_price  predictions_4  \n",
       "3617             98.4          141.2  \n",
       "859             174.2          106.0  \n",
       "12               54.2           34.0  \n",
       "4852            127.4           99.4  \n",
       "5894            127.4          128.2  \n",
       "...               ...            ...  \n",
       "1099             95.6           89.2  \n",
       "2514            174.2           72.4  \n",
       "3606             54.2           85.6  \n",
       "5704             83.8          104.6  \n",
       "2575             55.2           60.0  \n",
       "\n",
       "[1184 rows x 7 columns]"
      ]
     },
     "execution_count": 63,
     "metadata": {},
     "output_type": "execute_result"
    }
   ],
   "source": [
    "test_df"
   ]
  },
  {
   "cell_type": "code",
   "execution_count": 64,
   "id": "1c83bf00",
   "metadata": {},
   "outputs": [
    {
     "data": {
      "text/plain": [
       "83.75370322591148"
      ]
     },
     "execution_count": 64,
     "metadata": {},
     "output_type": "execute_result"
    }
   ],
   "source": [
    "mean_squared_error(test_df['price'], test_df['predictions_4'])**0.5"
   ]
  },
  {
   "cell_type": "markdown",
   "id": "f75a42e1",
   "metadata": {},
   "source": [
    "# Distancia al centro de la ciudad\n",
    "\n",
    "Centro de la ciudad: 39.470223, -0.376666"
   ]
  },
  {
   "cell_type": "code",
   "execution_count": 65,
   "id": "3e72841f",
   "metadata": {},
   "outputs": [
    {
     "data": {
      "text/html": [
       "<div>\n",
       "<style scoped>\n",
       "    .dataframe tbody tr th:only-of-type {\n",
       "        vertical-align: middle;\n",
       "    }\n",
       "\n",
       "    .dataframe tbody tr th {\n",
       "        vertical-align: top;\n",
       "    }\n",
       "\n",
       "    .dataframe thead th {\n",
       "        text-align: right;\n",
       "    }\n",
       "</style>\n",
       "<table border=\"1\" class=\"dataframe\">\n",
       "  <thead>\n",
       "    <tr style=\"text-align: right;\">\n",
       "      <th></th>\n",
       "      <th>accommodates</th>\n",
       "      <th>bedrooms</th>\n",
       "      <th>beds</th>\n",
       "      <th>price</th>\n",
       "      <th>number_of_reviews</th>\n",
       "    </tr>\n",
       "  </thead>\n",
       "  <tbody>\n",
       "    <tr>\n",
       "      <th>103</th>\n",
       "      <td>-0.819859</td>\n",
       "      <td>-0.827389</td>\n",
       "      <td>-0.850444</td>\n",
       "      <td>88.0</td>\n",
       "      <td>-0.592134</td>\n",
       "    </tr>\n",
       "    <tr>\n",
       "      <th>257</th>\n",
       "      <td>1.151333</td>\n",
       "      <td>0.194030</td>\n",
       "      <td>0.944803</td>\n",
       "      <td>95.0</td>\n",
       "      <td>-0.531664</td>\n",
       "    </tr>\n",
       "    <tr>\n",
       "      <th>3299</th>\n",
       "      <td>-0.819859</td>\n",
       "      <td>-0.827389</td>\n",
       "      <td>-0.850444</td>\n",
       "      <td>21.0</td>\n",
       "      <td>0.753321</td>\n",
       "    </tr>\n",
       "    <tr>\n",
       "      <th>3056</th>\n",
       "      <td>-1.312657</td>\n",
       "      <td>-0.827389</td>\n",
       "      <td>-0.850444</td>\n",
       "      <td>31.0</td>\n",
       "      <td>-0.259549</td>\n",
       "    </tr>\n",
       "    <tr>\n",
       "      <th>696</th>\n",
       "      <td>-0.327061</td>\n",
       "      <td>-0.827389</td>\n",
       "      <td>-0.252028</td>\n",
       "      <td>41.0</td>\n",
       "      <td>5.757203</td>\n",
       "    </tr>\n",
       "    <tr>\n",
       "      <th>...</th>\n",
       "      <td>...</td>\n",
       "      <td>...</td>\n",
       "      <td>...</td>\n",
       "      <td>...</td>\n",
       "      <td>...</td>\n",
       "    </tr>\n",
       "    <tr>\n",
       "      <th>4155</th>\n",
       "      <td>1.151333</td>\n",
       "      <td>0.194030</td>\n",
       "      <td>0.944803</td>\n",
       "      <td>83.0</td>\n",
       "      <td>-0.304902</td>\n",
       "    </tr>\n",
       "    <tr>\n",
       "      <th>4486</th>\n",
       "      <td>-0.327061</td>\n",
       "      <td>-0.827389</td>\n",
       "      <td>0.346387</td>\n",
       "      <td>63.0</td>\n",
       "      <td>-0.440959</td>\n",
       "    </tr>\n",
       "    <tr>\n",
       "      <th>1094</th>\n",
       "      <td>3.122526</td>\n",
       "      <td>2.236868</td>\n",
       "      <td>4.535296</td>\n",
       "      <td>130.0</td>\n",
       "      <td>-0.199079</td>\n",
       "    </tr>\n",
       "    <tr>\n",
       "      <th>5179</th>\n",
       "      <td>0.165737</td>\n",
       "      <td>0.194030</td>\n",
       "      <td>-0.252028</td>\n",
       "      <td>190.0</td>\n",
       "      <td>-0.592134</td>\n",
       "    </tr>\n",
       "    <tr>\n",
       "      <th>2469</th>\n",
       "      <td>0.165737</td>\n",
       "      <td>0.194030</td>\n",
       "      <td>-0.252028</td>\n",
       "      <td>61.0</td>\n",
       "      <td>1.252197</td>\n",
       "    </tr>\n",
       "  </tbody>\n",
       "</table>\n",
       "<p>4733 rows × 5 columns</p>\n",
       "</div>"
      ],
      "text/plain": [
       "      accommodates  bedrooms      beds  price  number_of_reviews\n",
       "103      -0.819859 -0.827389 -0.850444   88.0          -0.592134\n",
       "257       1.151333  0.194030  0.944803   95.0          -0.531664\n",
       "3299     -0.819859 -0.827389 -0.850444   21.0           0.753321\n",
       "3056     -1.312657 -0.827389 -0.850444   31.0          -0.259549\n",
       "696      -0.327061 -0.827389 -0.252028   41.0           5.757203\n",
       "...            ...       ...       ...    ...                ...\n",
       "4155      1.151333  0.194030  0.944803   83.0          -0.304902\n",
       "4486     -0.327061 -0.827389  0.346387   63.0          -0.440959\n",
       "1094      3.122526  2.236868  4.535296  130.0          -0.199079\n",
       "5179      0.165737  0.194030 -0.252028  190.0          -0.592134\n",
       "2469      0.165737  0.194030 -0.252028   61.0           1.252197\n",
       "\n",
       "[4733 rows x 5 columns]"
      ]
     },
     "execution_count": 65,
     "metadata": {},
     "output_type": "execute_result"
    }
   ],
   "source": [
    "train_df"
   ]
  },
  {
   "cell_type": "code",
   "execution_count": 66,
   "id": "5b853052",
   "metadata": {},
   "outputs": [
    {
     "data": {
      "text/html": [
       "<div>\n",
       "<style scoped>\n",
       "    .dataframe tbody tr th:only-of-type {\n",
       "        vertical-align: middle;\n",
       "    }\n",
       "\n",
       "    .dataframe tbody tr th {\n",
       "        vertical-align: top;\n",
       "    }\n",
       "\n",
       "    .dataframe thead th {\n",
       "        text-align: right;\n",
       "    }\n",
       "</style>\n",
       "<table border=\"1\" class=\"dataframe\">\n",
       "  <thead>\n",
       "    <tr style=\"text-align: right;\">\n",
       "      <th></th>\n",
       "      <th>accommodates</th>\n",
       "      <th>bedrooms</th>\n",
       "      <th>beds</th>\n",
       "      <th>price</th>\n",
       "      <th>number_of_reviews</th>\n",
       "    </tr>\n",
       "  </thead>\n",
       "  <tbody>\n",
       "    <tr>\n",
       "      <th>103</th>\n",
       "      <td>2</td>\n",
       "      <td>1.0</td>\n",
       "      <td>1.0</td>\n",
       "      <td>88.0</td>\n",
       "      <td>2</td>\n",
       "    </tr>\n",
       "    <tr>\n",
       "      <th>257</th>\n",
       "      <td>6</td>\n",
       "      <td>2.0</td>\n",
       "      <td>4.0</td>\n",
       "      <td>95.0</td>\n",
       "      <td>6</td>\n",
       "    </tr>\n",
       "    <tr>\n",
       "      <th>3299</th>\n",
       "      <td>2</td>\n",
       "      <td>1.0</td>\n",
       "      <td>1.0</td>\n",
       "      <td>21.0</td>\n",
       "      <td>91</td>\n",
       "    </tr>\n",
       "    <tr>\n",
       "      <th>3056</th>\n",
       "      <td>1</td>\n",
       "      <td>1.0</td>\n",
       "      <td>1.0</td>\n",
       "      <td>31.0</td>\n",
       "      <td>24</td>\n",
       "    </tr>\n",
       "    <tr>\n",
       "      <th>696</th>\n",
       "      <td>3</td>\n",
       "      <td>1.0</td>\n",
       "      <td>2.0</td>\n",
       "      <td>41.0</td>\n",
       "      <td>422</td>\n",
       "    </tr>\n",
       "    <tr>\n",
       "      <th>...</th>\n",
       "      <td>...</td>\n",
       "      <td>...</td>\n",
       "      <td>...</td>\n",
       "      <td>...</td>\n",
       "      <td>...</td>\n",
       "    </tr>\n",
       "    <tr>\n",
       "      <th>1099</th>\n",
       "      <td>6</td>\n",
       "      <td>2.0</td>\n",
       "      <td>3.0</td>\n",
       "      <td>89.0</td>\n",
       "      <td>45</td>\n",
       "    </tr>\n",
       "    <tr>\n",
       "      <th>2514</th>\n",
       "      <td>4</td>\n",
       "      <td>1.0</td>\n",
       "      <td>1.0</td>\n",
       "      <td>64.0</td>\n",
       "      <td>94</td>\n",
       "    </tr>\n",
       "    <tr>\n",
       "      <th>3606</th>\n",
       "      <td>2</td>\n",
       "      <td>1.0</td>\n",
       "      <td>1.0</td>\n",
       "      <td>36.0</td>\n",
       "      <td>3</td>\n",
       "    </tr>\n",
       "    <tr>\n",
       "      <th>5704</th>\n",
       "      <td>3</td>\n",
       "      <td>2.0</td>\n",
       "      <td>2.0</td>\n",
       "      <td>73.0</td>\n",
       "      <td>0</td>\n",
       "    </tr>\n",
       "    <tr>\n",
       "      <th>2575</th>\n",
       "      <td>2</td>\n",
       "      <td>2.0</td>\n",
       "      <td>2.0</td>\n",
       "      <td>60.0</td>\n",
       "      <td>29</td>\n",
       "    </tr>\n",
       "  </tbody>\n",
       "</table>\n",
       "<p>5917 rows × 5 columns</p>\n",
       "</div>"
      ],
      "text/plain": [
       "      accommodates  bedrooms  beds  price  number_of_reviews\n",
       "103              2       1.0   1.0   88.0                  2\n",
       "257              6       2.0   4.0   95.0                  6\n",
       "3299             2       1.0   1.0   21.0                 91\n",
       "3056             1       1.0   1.0   31.0                 24\n",
       "696              3       1.0   2.0   41.0                422\n",
       "...            ...       ...   ...    ...                ...\n",
       "1099             6       2.0   3.0   89.0                 45\n",
       "2514             4       1.0   1.0   64.0                 94\n",
       "3606             2       1.0   1.0   36.0                  3\n",
       "5704             3       2.0   2.0   73.0                  0\n",
       "2575             2       2.0   2.0   60.0                 29\n",
       "\n",
       "[5917 rows x 5 columns]"
      ]
     },
     "execution_count": 66,
     "metadata": {},
     "output_type": "execute_result"
    }
   ],
   "source": [
    "valencia_df"
   ]
  },
  {
   "cell_type": "code",
   "execution_count": 67,
   "id": "f332c83f",
   "metadata": {},
   "outputs": [],
   "source": [
    "import pandas as pd\n",
    "import numpy as np\n",
    "import math\n",
    "\n",
    "valencia_df = pd.read_csv('airbnb_valencia.csv')\n",
    "# corregir los datos de la columna price\n",
    "valencia_df['price'] = valencia_df['price'].str.replace(',', '').str.replace('$', '', regex=False).astype('float')\n",
    "# barajar los datos - es importante hacerlo ANTES de crear los conjuntos de entrenamiento y test\n",
    "np.random.seed(2)\n",
    "valencia_df = valencia_df.loc[np.random.permutation(len(valencia_df))]"
   ]
  },
  {
   "cell_type": "code",
   "execution_count": null,
   "id": "edd25f4c",
   "metadata": {},
   "outputs": [],
   "source": []
  },
  {
   "cell_type": "code",
   "execution_count": 68,
   "id": "78ccecbb",
   "metadata": {},
   "outputs": [
    {
     "name": "stdout",
     "output_type": "stream",
     "text": [
      "<class 'pandas.core.frame.DataFrame'>\n",
      "Int64Index: 6025 entries, 103 to 2575\n",
      "Data columns (total 74 columns):\n",
      " #   Column                                        Non-Null Count  Dtype  \n",
      "---  ------                                        --------------  -----  \n",
      " 0   id                                            6025 non-null   int64  \n",
      " 1   listing_url                                   6025 non-null   object \n",
      " 2   scrape_id                                     6025 non-null   int64  \n",
      " 3   last_scraped                                  6025 non-null   object \n",
      " 4   name                                          6025 non-null   object \n",
      " 5   description                                   5848 non-null   object \n",
      " 6   neighborhood_overview                         3458 non-null   object \n",
      " 7   picture_url                                   6025 non-null   object \n",
      " 8   host_id                                       6025 non-null   int64  \n",
      " 9   host_url                                      6025 non-null   object \n",
      " 10  host_name                                     6025 non-null   object \n",
      " 11  host_since                                    6025 non-null   object \n",
      " 12  host_location                                 6009 non-null   object \n",
      " 13  host_about                                    3230 non-null   object \n",
      " 14  host_response_time                            5467 non-null   object \n",
      " 15  host_response_rate                            5467 non-null   object \n",
      " 16  host_acceptance_rate                          5741 non-null   object \n",
      " 17  host_is_superhost                             6025 non-null   object \n",
      " 18  host_thumbnail_url                            6025 non-null   object \n",
      " 19  host_picture_url                              6025 non-null   object \n",
      " 20  host_neighbourhood                            2704 non-null   object \n",
      " 21  host_listings_count                           6025 non-null   int64  \n",
      " 22  host_total_listings_count                     6025 non-null   int64  \n",
      " 23  host_verifications                            6025 non-null   object \n",
      " 24  host_has_profile_pic                          6025 non-null   object \n",
      " 25  host_identity_verified                        6025 non-null   object \n",
      " 26  neighbourhood                                 3458 non-null   object \n",
      " 27  neighbourhood_cleansed                        6025 non-null   object \n",
      " 28  neighbourhood_group_cleansed                  6025 non-null   object \n",
      " 29  latitude                                      6025 non-null   float64\n",
      " 30  longitude                                     6025 non-null   float64\n",
      " 31  property_type                                 6025 non-null   object \n",
      " 32  room_type                                     6025 non-null   object \n",
      " 33  accommodates                                  6025 non-null   int64  \n",
      " 34  bathrooms                                     0 non-null      float64\n",
      " 35  bathrooms_text                                6020 non-null   object \n",
      " 36  bedrooms                                      5717 non-null   float64\n",
      " 37  beds                                          5917 non-null   float64\n",
      " 38  amenities                                     6025 non-null   object \n",
      " 39  price                                         6025 non-null   float64\n",
      " 40  minimum_nights                                6025 non-null   int64  \n",
      " 41  maximum_nights                                6025 non-null   int64  \n",
      " 42  minimum_minimum_nights                        6025 non-null   int64  \n",
      " 43  maximum_minimum_nights                        6025 non-null   int64  \n",
      " 44  minimum_maximum_nights                        6025 non-null   int64  \n",
      " 45  maximum_maximum_nights                        6025 non-null   int64  \n",
      " 46  minimum_nights_avg_ntm                        6025 non-null   float64\n",
      " 47  maximum_nights_avg_ntm                        6025 non-null   float64\n",
      " 48  calendar_updated                              0 non-null      float64\n",
      " 49  has_availability                              6025 non-null   object \n",
      " 50  availability_30                               6025 non-null   int64  \n",
      " 51  availability_60                               6025 non-null   int64  \n",
      " 52  availability_90                               6025 non-null   int64  \n",
      " 53  availability_365                              6025 non-null   int64  \n",
      " 54  calendar_last_scraped                         6025 non-null   object \n",
      " 55  number_of_reviews                             6025 non-null   int64  \n",
      " 56  number_of_reviews_ltm                         6025 non-null   int64  \n",
      " 57  number_of_reviews_l30d                        6025 non-null   int64  \n",
      " 58  first_review                                  5104 non-null   object \n",
      " 59  last_review                                   5104 non-null   object \n",
      " 60  review_scores_rating                          5104 non-null   float64\n",
      " 61  review_scores_accuracy                        5082 non-null   float64\n",
      " 62  review_scores_cleanliness                     5082 non-null   float64\n",
      " 63  review_scores_checkin                         5082 non-null   float64\n",
      " 64  review_scores_communication                   5082 non-null   float64\n",
      " 65  review_scores_location                        5082 non-null   float64\n",
      " 66  review_scores_value                           5082 non-null   float64\n",
      " 67  license                                       1864 non-null   object \n",
      " 68  instant_bookable                              6025 non-null   object \n",
      " 69  calculated_host_listings_count                6025 non-null   int64  \n",
      " 70  calculated_host_listings_count_entire_homes   6025 non-null   int64  \n",
      " 71  calculated_host_listings_count_private_rooms  6025 non-null   int64  \n",
      " 72  calculated_host_listings_count_shared_rooms   6025 non-null   int64  \n",
      " 73  reviews_per_month                             5104 non-null   float64\n",
      "dtypes: float64(17), int64(23), object(34)\n",
      "memory usage: 3.4+ MB\n"
     ]
    }
   ],
   "source": [
    "valencia_df.info()"
   ]
  },
  {
   "cell_type": "code",
   "execution_count": 69,
   "id": "2b7302f7",
   "metadata": {},
   "outputs": [],
   "source": [
    "centro = (39.470223, -0.376666)"
   ]
  },
  {
   "cell_type": "code",
   "execution_count": 70,
   "id": "85a90efa",
   "metadata": {},
   "outputs": [],
   "source": [
    "from haversine import haversine"
   ]
  },
  {
   "cell_type": "code",
   "execution_count": 71,
   "id": "8a7d981a",
   "metadata": {},
   "outputs": [
    {
     "data": {
      "text/html": [
       "<div>\n",
       "<style scoped>\n",
       "    .dataframe tbody tr th:only-of-type {\n",
       "        vertical-align: middle;\n",
       "    }\n",
       "\n",
       "    .dataframe tbody tr th {\n",
       "        vertical-align: top;\n",
       "    }\n",
       "\n",
       "    .dataframe thead th {\n",
       "        text-align: right;\n",
       "    }\n",
       "</style>\n",
       "<table border=\"1\" class=\"dataframe\">\n",
       "  <thead>\n",
       "    <tr style=\"text-align: right;\">\n",
       "      <th></th>\n",
       "      <th>latitude</th>\n",
       "      <th>longitude</th>\n",
       "    </tr>\n",
       "  </thead>\n",
       "  <tbody>\n",
       "    <tr>\n",
       "      <th>103</th>\n",
       "      <td>39.458468</td>\n",
       "      <td>-0.37205</td>\n",
       "    </tr>\n",
       "    <tr>\n",
       "      <th>257</th>\n",
       "      <td>39.461750</td>\n",
       "      <td>-0.37140</td>\n",
       "    </tr>\n",
       "    <tr>\n",
       "      <th>3299</th>\n",
       "      <td>39.468290</td>\n",
       "      <td>-0.39280</td>\n",
       "    </tr>\n",
       "    <tr>\n",
       "      <th>3056</th>\n",
       "      <td>39.481830</td>\n",
       "      <td>-0.36333</td>\n",
       "    </tr>\n",
       "    <tr>\n",
       "      <th>696</th>\n",
       "      <td>39.479470</td>\n",
       "      <td>-0.37757</td>\n",
       "    </tr>\n",
       "    <tr>\n",
       "      <th>...</th>\n",
       "      <td>...</td>\n",
       "      <td>...</td>\n",
       "    </tr>\n",
       "    <tr>\n",
       "      <th>1099</th>\n",
       "      <td>39.471860</td>\n",
       "      <td>-0.38231</td>\n",
       "    </tr>\n",
       "    <tr>\n",
       "      <th>2514</th>\n",
       "      <td>39.457120</td>\n",
       "      <td>-0.36859</td>\n",
       "    </tr>\n",
       "    <tr>\n",
       "      <th>3606</th>\n",
       "      <td>39.464290</td>\n",
       "      <td>-0.36240</td>\n",
       "    </tr>\n",
       "    <tr>\n",
       "      <th>5704</th>\n",
       "      <td>39.463840</td>\n",
       "      <td>-0.33938</td>\n",
       "    </tr>\n",
       "    <tr>\n",
       "      <th>2575</th>\n",
       "      <td>39.462940</td>\n",
       "      <td>-0.36812</td>\n",
       "    </tr>\n",
       "  </tbody>\n",
       "</table>\n",
       "<p>6025 rows × 2 columns</p>\n",
       "</div>"
      ],
      "text/plain": [
       "       latitude  longitude\n",
       "103   39.458468   -0.37205\n",
       "257   39.461750   -0.37140\n",
       "3299  39.468290   -0.39280\n",
       "3056  39.481830   -0.36333\n",
       "696   39.479470   -0.37757\n",
       "...         ...        ...\n",
       "1099  39.471860   -0.38231\n",
       "2514  39.457120   -0.36859\n",
       "3606  39.464290   -0.36240\n",
       "5704  39.463840   -0.33938\n",
       "2575  39.462940   -0.36812\n",
       "\n",
       "[6025 rows x 2 columns]"
      ]
     },
     "execution_count": 71,
     "metadata": {},
     "output_type": "execute_result"
    }
   ],
   "source": [
    "valencia_df[['latitude', 'longitude']]"
   ]
  },
  {
   "cell_type": "code",
   "execution_count": 72,
   "id": "2e8c2042",
   "metadata": {},
   "outputs": [],
   "source": [
    "def calcular_distancia_centro(punto):\n",
    "    return haversine(punto, centro)"
   ]
  },
  {
   "cell_type": "code",
   "execution_count": null,
   "id": "92249bd4",
   "metadata": {},
   "outputs": [],
   "source": []
  },
  {
   "cell_type": "code",
   "execution_count": 73,
   "id": "c605dae5",
   "metadata": {},
   "outputs": [],
   "source": [
    "valencia_df['distancia_centro'] = valencia_df[['latitude', 'longitude']].apply(calcular_distancia_centro, axis= 1)"
   ]
  },
  {
   "cell_type": "code",
   "execution_count": 74,
   "id": "28ee26e1",
   "metadata": {},
   "outputs": [],
   "source": [
    "dorp_dolumns = ['id', 'listing_url', 'scrape_id', 'last_scraped', 'description',\n",
    "       'neighborhood_overview', 'picture_url', 'host_id', 'host_url',\n",
    "       'host_name', 'host_since', 'host_location', 'host_about',\n",
    "       'host_response_time', 'host_response_rate', 'host_acceptance_rate',\n",
    "       'host_is_superhost', 'host_thumbnail_url', 'host_picture_url',\n",
    "       'host_neighbourhood', 'host_listings_count',\n",
    "       'host_total_listings_count', 'host_verifications',\n",
    "       'host_has_profile_pic', 'host_identity_verified', \n",
    "       'neighbourhood_cleansed', 'neighbourhood_group_cleansed', 'latitude',\n",
    "       'longitude', 'property_type', 'room_type',\n",
    "       'bathrooms_text',  'amenities', \n",
    "       'minimum_nights', 'maximum_nights', 'minimum_minimum_nights',\n",
    "       'maximum_minimum_nights', 'minimum_maximum_nights',\n",
    "       'maximum_maximum_nights', 'minimum_nights_avg_ntm',\n",
    "       'maximum_nights_avg_ntm', 'calendar_updated', 'has_availability',\n",
    "       'availability_30', 'availability_60', 'availability_90',\n",
    "       'availability_365', 'calendar_last_scraped', \n",
    "       'number_of_reviews_ltm', 'number_of_reviews_l30d', 'first_review',\n",
    "       'last_review', 'review_scores_rating', 'review_scores_accuracy',\n",
    "       'review_scores_cleanliness', 'review_scores_checkin',\n",
    "       'review_scores_communication', 'review_scores_location',\n",
    "       'review_scores_value', 'license',\n",
    "       'calculated_host_listings_count',\n",
    "       'calculated_host_listings_count_entire_homes',\n",
    "       'calculated_host_listings_count_private_rooms',\n",
    "       'calculated_host_listings_count_shared_rooms', ]"
   ]
  },
  {
   "cell_type": "code",
   "execution_count": 75,
   "id": "7c8e2ce1",
   "metadata": {},
   "outputs": [],
   "source": [
    "valencia_df = valencia_df.drop(dorp_dolumns, axis=1)"
   ]
  },
  {
   "cell_type": "code",
   "execution_count": 76,
   "id": "d36f390a",
   "metadata": {},
   "outputs": [
    {
     "name": "stdout",
     "output_type": "stream",
     "text": [
      "<class 'pandas.core.frame.DataFrame'>\n",
      "Int64Index: 6025 entries, 103 to 2575\n",
      "Data columns (total 11 columns):\n",
      " #   Column             Non-Null Count  Dtype  \n",
      "---  ------             --------------  -----  \n",
      " 0   name               6025 non-null   object \n",
      " 1   neighbourhood      3458 non-null   object \n",
      " 2   accommodates       6025 non-null   int64  \n",
      " 3   bathrooms          0 non-null      float64\n",
      " 4   bedrooms           5717 non-null   float64\n",
      " 5   beds               5917 non-null   float64\n",
      " 6   price              6025 non-null   float64\n",
      " 7   number_of_reviews  6025 non-null   int64  \n",
      " 8   instant_bookable   6025 non-null   object \n",
      " 9   reviews_per_month  5104 non-null   float64\n",
      " 10  distancia_centro   6025 non-null   float64\n",
      "dtypes: float64(6), int64(2), object(3)\n",
      "memory usage: 564.8+ KB\n"
     ]
    }
   ],
   "source": [
    "valencia_df.info()"
   ]
  },
  {
   "cell_type": "code",
   "execution_count": 77,
   "id": "27f71514",
   "metadata": {},
   "outputs": [],
   "source": [
    "valencia_df = valencia_df.drop(['name', 'neighbourhood', 'bathrooms', 'bedrooms', 'beds', 'number_of_reviews', 'instant_bookable', 'reviews_per_month'], axis=1)"
   ]
  },
  {
   "cell_type": "code",
   "execution_count": 78,
   "id": "6fd560bf",
   "metadata": {},
   "outputs": [],
   "source": [
    "normalized_valencia_df_distancia = (valencia_df - valencia_df.mean())/valencia_df.std()"
   ]
  },
  {
   "cell_type": "code",
   "execution_count": 79,
   "id": "22bca01b",
   "metadata": {},
   "outputs": [
    {
     "data": {
      "text/html": [
       "<div>\n",
       "<style scoped>\n",
       "    .dataframe tbody tr th:only-of-type {\n",
       "        vertical-align: middle;\n",
       "    }\n",
       "\n",
       "    .dataframe tbody tr th {\n",
       "        vertical-align: top;\n",
       "    }\n",
       "\n",
       "    .dataframe thead th {\n",
       "        text-align: right;\n",
       "    }\n",
       "</style>\n",
       "<table border=\"1\" class=\"dataframe\">\n",
       "  <thead>\n",
       "    <tr style=\"text-align: right;\">\n",
       "      <th></th>\n",
       "      <th>accommodates</th>\n",
       "      <th>price</th>\n",
       "      <th>distancia_centro</th>\n",
       "    </tr>\n",
       "  </thead>\n",
       "  <tbody>\n",
       "    <tr>\n",
       "      <th>103</th>\n",
       "      <td>-0.804854</td>\n",
       "      <td>-0.017261</td>\n",
       "      <td>-0.379824</td>\n",
       "    </tr>\n",
       "    <tr>\n",
       "      <th>257</th>\n",
       "      <td>1.163783</td>\n",
       "      <td>0.046071</td>\n",
       "      <td>-0.488556</td>\n",
       "    </tr>\n",
       "    <tr>\n",
       "      <th>3299</th>\n",
       "      <td>-0.804854</td>\n",
       "      <td>-0.623441</td>\n",
       "      <td>-0.367749</td>\n",
       "    </tr>\n",
       "    <tr>\n",
       "      <th>3056</th>\n",
       "      <td>-1.297013</td>\n",
       "      <td>-0.532967</td>\n",
       "      <td>-0.258099</td>\n",
       "    </tr>\n",
       "    <tr>\n",
       "      <th>696</th>\n",
       "      <td>-0.312695</td>\n",
       "      <td>-0.442492</td>\n",
       "      <td>-0.493248</td>\n",
       "    </tr>\n",
       "    <tr>\n",
       "      <th>...</th>\n",
       "      <td>...</td>\n",
       "      <td>...</td>\n",
       "      <td>...</td>\n",
       "    </tr>\n",
       "    <tr>\n",
       "      <th>1099</th>\n",
       "      <td>1.163783</td>\n",
       "      <td>-0.008214</td>\n",
       "      <td>-0.667289</td>\n",
       "    </tr>\n",
       "    <tr>\n",
       "      <th>2514</th>\n",
       "      <td>0.179465</td>\n",
       "      <td>-0.234401</td>\n",
       "      <td>-0.295904</td>\n",
       "    </tr>\n",
       "    <tr>\n",
       "      <th>3606</th>\n",
       "      <td>-0.804854</td>\n",
       "      <td>-0.487729</td>\n",
       "      <td>-0.371306</td>\n",
       "    </tr>\n",
       "    <tr>\n",
       "      <th>5704</th>\n",
       "      <td>-0.312695</td>\n",
       "      <td>-0.152973</td>\n",
       "      <td>0.268261</td>\n",
       "    </tr>\n",
       "    <tr>\n",
       "      <th>2575</th>\n",
       "      <td>-0.804854</td>\n",
       "      <td>-0.270590</td>\n",
       "      <td>-0.472387</td>\n",
       "    </tr>\n",
       "  </tbody>\n",
       "</table>\n",
       "<p>6025 rows × 3 columns</p>\n",
       "</div>"
      ],
      "text/plain": [
       "      accommodates     price  distancia_centro\n",
       "103      -0.804854 -0.017261         -0.379824\n",
       "257       1.163783  0.046071         -0.488556\n",
       "3299     -0.804854 -0.623441         -0.367749\n",
       "3056     -1.297013 -0.532967         -0.258099\n",
       "696      -0.312695 -0.442492         -0.493248\n",
       "...            ...       ...               ...\n",
       "1099      1.163783 -0.008214         -0.667289\n",
       "2514      0.179465 -0.234401         -0.295904\n",
       "3606     -0.804854 -0.487729         -0.371306\n",
       "5704     -0.312695 -0.152973          0.268261\n",
       "2575     -0.804854 -0.270590         -0.472387\n",
       "\n",
       "[6025 rows x 3 columns]"
      ]
     },
     "execution_count": 79,
     "metadata": {},
     "output_type": "execute_result"
    }
   ],
   "source": [
    "normalized_valencia_df_distancia"
   ]
  },
  {
   "cell_type": "code",
   "execution_count": 83,
   "id": "62b5ea03",
   "metadata": {},
   "outputs": [],
   "source": [
    "normalized_valencia_df_distancia['price'] = valencia_df['price']\n",
    "\n"
   ]
  },
  {
   "cell_type": "code",
   "execution_count": 81,
   "id": "d5f74d21",
   "metadata": {},
   "outputs": [],
   "source": [
    "knn_da = KNeighborsRegressor(n_neighbors=5, algorithm='brute')\n"
   ]
  },
  {
   "cell_type": "code",
   "execution_count": 82,
   "id": "89e8f800",
   "metadata": {},
   "outputs": [
    {
     "data": {
      "text/html": [
       "<style>#sk-container-id-4 {color: black;background-color: white;}#sk-container-id-4 pre{padding: 0;}#sk-container-id-4 div.sk-toggleable {background-color: white;}#sk-container-id-4 label.sk-toggleable__label {cursor: pointer;display: block;width: 100%;margin-bottom: 0;padding: 0.3em;box-sizing: border-box;text-align: center;}#sk-container-id-4 label.sk-toggleable__label-arrow:before {content: \"▸\";float: left;margin-right: 0.25em;color: #696969;}#sk-container-id-4 label.sk-toggleable__label-arrow:hover:before {color: black;}#sk-container-id-4 div.sk-estimator:hover label.sk-toggleable__label-arrow:before {color: black;}#sk-container-id-4 div.sk-toggleable__content {max-height: 0;max-width: 0;overflow: hidden;text-align: left;background-color: #f0f8ff;}#sk-container-id-4 div.sk-toggleable__content pre {margin: 0.2em;color: black;border-radius: 0.25em;background-color: #f0f8ff;}#sk-container-id-4 input.sk-toggleable__control:checked~div.sk-toggleable__content {max-height: 200px;max-width: 100%;overflow: auto;}#sk-container-id-4 input.sk-toggleable__control:checked~label.sk-toggleable__label-arrow:before {content: \"▾\";}#sk-container-id-4 div.sk-estimator input.sk-toggleable__control:checked~label.sk-toggleable__label {background-color: #d4ebff;}#sk-container-id-4 div.sk-label input.sk-toggleable__control:checked~label.sk-toggleable__label {background-color: #d4ebff;}#sk-container-id-4 input.sk-hidden--visually {border: 0;clip: rect(1px 1px 1px 1px);clip: rect(1px, 1px, 1px, 1px);height: 1px;margin: -1px;overflow: hidden;padding: 0;position: absolute;width: 1px;}#sk-container-id-4 div.sk-estimator {font-family: monospace;background-color: #f0f8ff;border: 1px dotted black;border-radius: 0.25em;box-sizing: border-box;margin-bottom: 0.5em;}#sk-container-id-4 div.sk-estimator:hover {background-color: #d4ebff;}#sk-container-id-4 div.sk-parallel-item::after {content: \"\";width: 100%;border-bottom: 1px solid gray;flex-grow: 1;}#sk-container-id-4 div.sk-label:hover label.sk-toggleable__label {background-color: #d4ebff;}#sk-container-id-4 div.sk-serial::before {content: \"\";position: absolute;border-left: 1px solid gray;box-sizing: border-box;top: 0;bottom: 0;left: 50%;z-index: 0;}#sk-container-id-4 div.sk-serial {display: flex;flex-direction: column;align-items: center;background-color: white;padding-right: 0.2em;padding-left: 0.2em;position: relative;}#sk-container-id-4 div.sk-item {position: relative;z-index: 1;}#sk-container-id-4 div.sk-parallel {display: flex;align-items: stretch;justify-content: center;background-color: white;position: relative;}#sk-container-id-4 div.sk-item::before, #sk-container-id-4 div.sk-parallel-item::before {content: \"\";position: absolute;border-left: 1px solid gray;box-sizing: border-box;top: 0;bottom: 0;left: 50%;z-index: -1;}#sk-container-id-4 div.sk-parallel-item {display: flex;flex-direction: column;z-index: 1;position: relative;background-color: white;}#sk-container-id-4 div.sk-parallel-item:first-child::after {align-self: flex-end;width: 50%;}#sk-container-id-4 div.sk-parallel-item:last-child::after {align-self: flex-start;width: 50%;}#sk-container-id-4 div.sk-parallel-item:only-child::after {width: 0;}#sk-container-id-4 div.sk-dashed-wrapped {border: 1px dashed gray;margin: 0 0.4em 0.5em 0.4em;box-sizing: border-box;padding-bottom: 0.4em;background-color: white;}#sk-container-id-4 div.sk-label label {font-family: monospace;font-weight: bold;display: inline-block;line-height: 1.2em;}#sk-container-id-4 div.sk-label-container {text-align: center;}#sk-container-id-4 div.sk-container {/* jupyter's `normalize.less` sets `[hidden] { display: none; }` but bootstrap.min.css set `[hidden] { display: none !important; }` so we also need the `!important` here to be able to override the default hidden behavior on the sphinx rendered scikit-learn.org. See: https://github.com/scikit-learn/scikit-learn/issues/21755 */display: inline-block !important;position: relative;}#sk-container-id-4 div.sk-text-repr-fallback {display: none;}</style><div id=\"sk-container-id-4\" class=\"sk-top-container\"><div class=\"sk-text-repr-fallback\"><pre>KNeighborsRegressor(algorithm=&#x27;brute&#x27;)</pre><b>In a Jupyter environment, please rerun this cell to show the HTML representation or trust the notebook. <br />On GitHub, the HTML representation is unable to render, please try loading this page with nbviewer.org.</b></div><div class=\"sk-container\" hidden><div class=\"sk-item\"><div class=\"sk-estimator sk-toggleable\"><input class=\"sk-toggleable__control sk-hidden--visually\" id=\"sk-estimator-id-4\" type=\"checkbox\" checked><label for=\"sk-estimator-id-4\" class=\"sk-toggleable__label sk-toggleable__label-arrow\">KNeighborsRegressor</label><div class=\"sk-toggleable__content\"><pre>KNeighborsRegressor(algorithm=&#x27;brute&#x27;)</pre></div></div></div></div></div>"
      ],
      "text/plain": [
       "KNeighborsRegressor(algorithm='brute')"
      ]
     },
     "execution_count": 82,
     "metadata": {},
     "output_type": "execute_result"
    }
   ],
   "source": [
    "knn_da.fit(normalized_valencia_df_distancia[['accommodates', 'distancia_centro']], normalized_valencia_df_distancia['price'])"
   ]
  },
  {
   "cell_type": "code",
   "execution_count": 85,
   "id": "04dc490b",
   "metadata": {},
   "outputs": [
    {
     "data": {
      "text/plain": [
       "4820.0"
      ]
     },
     "execution_count": 85,
     "metadata": {},
     "output_type": "execute_result"
    }
   ],
   "source": [
    "len(normalized_valencia_df_distancia)*0.8"
   ]
  },
  {
   "cell_type": "code",
   "execution_count": 87,
   "id": "8fa2411e",
   "metadata": {},
   "outputs": [],
   "source": [
    "nv_train = normalized_valencia_df_distancia[0:4820].copy()\n",
    "nv_test = normalized_valencia_df_distancia[4820:].copy()\n"
   ]
  },
  {
   "cell_type": "code",
   "execution_count": 89,
   "id": "688bf797",
   "metadata": {},
   "outputs": [
    {
     "data": {
      "text/html": [
       "<style>#sk-container-id-6 {color: black;background-color: white;}#sk-container-id-6 pre{padding: 0;}#sk-container-id-6 div.sk-toggleable {background-color: white;}#sk-container-id-6 label.sk-toggleable__label {cursor: pointer;display: block;width: 100%;margin-bottom: 0;padding: 0.3em;box-sizing: border-box;text-align: center;}#sk-container-id-6 label.sk-toggleable__label-arrow:before {content: \"▸\";float: left;margin-right: 0.25em;color: #696969;}#sk-container-id-6 label.sk-toggleable__label-arrow:hover:before {color: black;}#sk-container-id-6 div.sk-estimator:hover label.sk-toggleable__label-arrow:before {color: black;}#sk-container-id-6 div.sk-toggleable__content {max-height: 0;max-width: 0;overflow: hidden;text-align: left;background-color: #f0f8ff;}#sk-container-id-6 div.sk-toggleable__content pre {margin: 0.2em;color: black;border-radius: 0.25em;background-color: #f0f8ff;}#sk-container-id-6 input.sk-toggleable__control:checked~div.sk-toggleable__content {max-height: 200px;max-width: 100%;overflow: auto;}#sk-container-id-6 input.sk-toggleable__control:checked~label.sk-toggleable__label-arrow:before {content: \"▾\";}#sk-container-id-6 div.sk-estimator input.sk-toggleable__control:checked~label.sk-toggleable__label {background-color: #d4ebff;}#sk-container-id-6 div.sk-label input.sk-toggleable__control:checked~label.sk-toggleable__label {background-color: #d4ebff;}#sk-container-id-6 input.sk-hidden--visually {border: 0;clip: rect(1px 1px 1px 1px);clip: rect(1px, 1px, 1px, 1px);height: 1px;margin: -1px;overflow: hidden;padding: 0;position: absolute;width: 1px;}#sk-container-id-6 div.sk-estimator {font-family: monospace;background-color: #f0f8ff;border: 1px dotted black;border-radius: 0.25em;box-sizing: border-box;margin-bottom: 0.5em;}#sk-container-id-6 div.sk-estimator:hover {background-color: #d4ebff;}#sk-container-id-6 div.sk-parallel-item::after {content: \"\";width: 100%;border-bottom: 1px solid gray;flex-grow: 1;}#sk-container-id-6 div.sk-label:hover label.sk-toggleable__label {background-color: #d4ebff;}#sk-container-id-6 div.sk-serial::before {content: \"\";position: absolute;border-left: 1px solid gray;box-sizing: border-box;top: 0;bottom: 0;left: 50%;z-index: 0;}#sk-container-id-6 div.sk-serial {display: flex;flex-direction: column;align-items: center;background-color: white;padding-right: 0.2em;padding-left: 0.2em;position: relative;}#sk-container-id-6 div.sk-item {position: relative;z-index: 1;}#sk-container-id-6 div.sk-parallel {display: flex;align-items: stretch;justify-content: center;background-color: white;position: relative;}#sk-container-id-6 div.sk-item::before, #sk-container-id-6 div.sk-parallel-item::before {content: \"\";position: absolute;border-left: 1px solid gray;box-sizing: border-box;top: 0;bottom: 0;left: 50%;z-index: -1;}#sk-container-id-6 div.sk-parallel-item {display: flex;flex-direction: column;z-index: 1;position: relative;background-color: white;}#sk-container-id-6 div.sk-parallel-item:first-child::after {align-self: flex-end;width: 50%;}#sk-container-id-6 div.sk-parallel-item:last-child::after {align-self: flex-start;width: 50%;}#sk-container-id-6 div.sk-parallel-item:only-child::after {width: 0;}#sk-container-id-6 div.sk-dashed-wrapped {border: 1px dashed gray;margin: 0 0.4em 0.5em 0.4em;box-sizing: border-box;padding-bottom: 0.4em;background-color: white;}#sk-container-id-6 div.sk-label label {font-family: monospace;font-weight: bold;display: inline-block;line-height: 1.2em;}#sk-container-id-6 div.sk-label-container {text-align: center;}#sk-container-id-6 div.sk-container {/* jupyter's `normalize.less` sets `[hidden] { display: none; }` but bootstrap.min.css set `[hidden] { display: none !important; }` so we also need the `!important` here to be able to override the default hidden behavior on the sphinx rendered scikit-learn.org. See: https://github.com/scikit-learn/scikit-learn/issues/21755 */display: inline-block !important;position: relative;}#sk-container-id-6 div.sk-text-repr-fallback {display: none;}</style><div id=\"sk-container-id-6\" class=\"sk-top-container\"><div class=\"sk-text-repr-fallback\"><pre>KNeighborsRegressor(algorithm=&#x27;brute&#x27;)</pre><b>In a Jupyter environment, please rerun this cell to show the HTML representation or trust the notebook. <br />On GitHub, the HTML representation is unable to render, please try loading this page with nbviewer.org.</b></div><div class=\"sk-container\" hidden><div class=\"sk-item\"><div class=\"sk-estimator sk-toggleable\"><input class=\"sk-toggleable__control sk-hidden--visually\" id=\"sk-estimator-id-6\" type=\"checkbox\" checked><label for=\"sk-estimator-id-6\" class=\"sk-toggleable__label sk-toggleable__label-arrow\">KNeighborsRegressor</label><div class=\"sk-toggleable__content\"><pre>KNeighborsRegressor(algorithm=&#x27;brute&#x27;)</pre></div></div></div></div></div>"
      ],
      "text/plain": [
       "KNeighborsRegressor(algorithm='brute')"
      ]
     },
     "execution_count": 89,
     "metadata": {},
     "output_type": "execute_result"
    }
   ],
   "source": [
    "knn_da = KNeighborsRegressor(n_neighbors=5, algorithm='brute')\n",
    "knn_da.fit(nv_train[['accommodates', 'distancia_centro']], nv_train['price'])"
   ]
  },
  {
   "cell_type": "code",
   "execution_count": 91,
   "id": "b4c20202",
   "metadata": {},
   "outputs": [],
   "source": [
    "nv_test['predicted'] = knn_da.predict(nv_test[['accommodates', 'distancia_centro']])"
   ]
  },
  {
   "cell_type": "code",
   "execution_count": 92,
   "id": "ccc80442",
   "metadata": {},
   "outputs": [
    {
     "data": {
      "text/html": [
       "<div>\n",
       "<style scoped>\n",
       "    .dataframe tbody tr th:only-of-type {\n",
       "        vertical-align: middle;\n",
       "    }\n",
       "\n",
       "    .dataframe tbody tr th {\n",
       "        vertical-align: top;\n",
       "    }\n",
       "\n",
       "    .dataframe thead th {\n",
       "        text-align: right;\n",
       "    }\n",
       "</style>\n",
       "<table border=\"1\" class=\"dataframe\">\n",
       "  <thead>\n",
       "    <tr style=\"text-align: right;\">\n",
       "      <th></th>\n",
       "      <th>accommodates</th>\n",
       "      <th>price</th>\n",
       "      <th>distancia_centro</th>\n",
       "      <th>predicted</th>\n",
       "    </tr>\n",
       "  </thead>\n",
       "  <tbody>\n",
       "    <tr>\n",
       "      <th>2469</th>\n",
       "      <td>0.179465</td>\n",
       "      <td>61.0</td>\n",
       "      <td>0.424645</td>\n",
       "      <td>71.6</td>\n",
       "    </tr>\n",
       "    <tr>\n",
       "      <th>3617</th>\n",
       "      <td>0.671624</td>\n",
       "      <td>31.0</td>\n",
       "      <td>-0.098633</td>\n",
       "      <td>68.4</td>\n",
       "    </tr>\n",
       "    <tr>\n",
       "      <th>859</th>\n",
       "      <td>0.179465</td>\n",
       "      <td>131.0</td>\n",
       "      <td>-0.793968</td>\n",
       "      <td>80.8</td>\n",
       "    </tr>\n",
       "    <tr>\n",
       "      <th>12</th>\n",
       "      <td>-0.804854</td>\n",
       "      <td>80.0</td>\n",
       "      <td>-0.719579</td>\n",
       "      <td>84.6</td>\n",
       "    </tr>\n",
       "    <tr>\n",
       "      <th>4852</th>\n",
       "      <td>1.163783</td>\n",
       "      <td>200.0</td>\n",
       "      <td>0.697574</td>\n",
       "      <td>144.4</td>\n",
       "    </tr>\n",
       "    <tr>\n",
       "      <th>...</th>\n",
       "      <td>...</td>\n",
       "      <td>...</td>\n",
       "      <td>...</td>\n",
       "      <td>...</td>\n",
       "    </tr>\n",
       "    <tr>\n",
       "      <th>1099</th>\n",
       "      <td>1.163783</td>\n",
       "      <td>89.0</td>\n",
       "      <td>-0.667289</td>\n",
       "      <td>109.2</td>\n",
       "    </tr>\n",
       "    <tr>\n",
       "      <th>2514</th>\n",
       "      <td>0.179465</td>\n",
       "      <td>64.0</td>\n",
       "      <td>-0.295904</td>\n",
       "      <td>88.6</td>\n",
       "    </tr>\n",
       "    <tr>\n",
       "      <th>3606</th>\n",
       "      <td>-0.804854</td>\n",
       "      <td>36.0</td>\n",
       "      <td>-0.371306</td>\n",
       "      <td>33.6</td>\n",
       "    </tr>\n",
       "    <tr>\n",
       "      <th>5704</th>\n",
       "      <td>-0.312695</td>\n",
       "      <td>73.0</td>\n",
       "      <td>0.268261</td>\n",
       "      <td>103.0</td>\n",
       "    </tr>\n",
       "    <tr>\n",
       "      <th>2575</th>\n",
       "      <td>-0.804854</td>\n",
       "      <td>60.0</td>\n",
       "      <td>-0.472387</td>\n",
       "      <td>57.8</td>\n",
       "    </tr>\n",
       "  </tbody>\n",
       "</table>\n",
       "<p>1205 rows × 4 columns</p>\n",
       "</div>"
      ],
      "text/plain": [
       "      accommodates  price  distancia_centro  predicted\n",
       "2469      0.179465   61.0          0.424645       71.6\n",
       "3617      0.671624   31.0         -0.098633       68.4\n",
       "859       0.179465  131.0         -0.793968       80.8\n",
       "12       -0.804854   80.0         -0.719579       84.6\n",
       "4852      1.163783  200.0          0.697574      144.4\n",
       "...            ...    ...               ...        ...\n",
       "1099      1.163783   89.0         -0.667289      109.2\n",
       "2514      0.179465   64.0         -0.295904       88.6\n",
       "3606     -0.804854   36.0         -0.371306       33.6\n",
       "5704     -0.312695   73.0          0.268261      103.0\n",
       "2575     -0.804854   60.0         -0.472387       57.8\n",
       "\n",
       "[1205 rows x 4 columns]"
      ]
     },
     "execution_count": 92,
     "metadata": {},
     "output_type": "execute_result"
    }
   ],
   "source": [
    "nv_test"
   ]
  },
  {
   "cell_type": "code",
   "execution_count": 93,
   "id": "cdc9a952",
   "metadata": {},
   "outputs": [
    {
     "data": {
      "text/plain": [
       "89.54033931779145"
      ]
     },
     "execution_count": 93,
     "metadata": {},
     "output_type": "execute_result"
    }
   ],
   "source": [
    "mean_squared_error(nv_test['price'], nv_test['predicted'])**0.5"
   ]
  },
  {
   "cell_type": "code",
   "execution_count": null,
   "id": "11cd9b5b",
   "metadata": {},
   "outputs": [],
   "source": []
  }
 ],
 "metadata": {
  "kernelspec": {
   "display_name": "Python 3 (ipykernel)",
   "language": "python",
   "name": "python3"
  },
  "language_info": {
   "codemirror_mode": {
    "name": "ipython",
    "version": 3
   },
   "file_extension": ".py",
   "mimetype": "text/x-python",
   "name": "python",
   "nbconvert_exporter": "python",
   "pygments_lexer": "ipython3",
   "version": "3.10.5"
  }
 },
 "nbformat": 4,
 "nbformat_minor": 5
}
