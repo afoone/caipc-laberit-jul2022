{
 "cells": [
  {
   "cell_type": "code",
   "execution_count": 1,
   "id": "50f4a200",
   "metadata": {},
   "outputs": [],
   "source": [
    "import pandas as pd\n",
    "import numpy as np\n",
    "import math\n",
    "\n",
    "valencia_df = pd.read_csv('airbnb_valencia.csv')\n",
    "# corregir los datos de la columna price\n",
    "valencia_df['price'] = valencia_df['price'].str.replace(',', '').str.replace('$', '', regex=False).astype('float')\n",
    "# barajar los datos - es importante hacerlo ANTES de crear los conjuntos de entrenamiento y test\n",
    "np.random.seed(2)\n",
    "valencia_df = valencia_df.loc[np.random.permutation(len(valencia_df))]\n",
    "drop_columns = ['id', 'listing_url', 'scrape_id', 'last_scraped', 'description',\n",
    "       'neighborhood_overview', 'picture_url', 'host_id', 'host_url',\n",
    "       'host_name', 'host_since', 'host_location', 'host_about',\n",
    "       'host_response_time', 'host_response_rate', 'host_acceptance_rate',\n",
    "       'host_is_superhost', 'host_thumbnail_url', 'host_picture_url',\n",
    "       'host_neighbourhood', 'host_listings_count',\n",
    "       'host_total_listings_count', 'host_verifications',\n",
    "       'host_has_profile_pic', 'host_identity_verified', \n",
    "       'neighbourhood_cleansed', 'neighbourhood_group_cleansed', 'latitude',\n",
    "       'longitude', 'property_type', 'room_type',\n",
    "       'bathrooms_text',  'amenities', \n",
    "       'minimum_nights', 'maximum_nights', 'minimum_minimum_nights',\n",
    "       'maximum_minimum_nights', 'minimum_maximum_nights',\n",
    "       'maximum_maximum_nights', 'minimum_nights_avg_ntm',\n",
    "       'maximum_nights_avg_ntm', 'calendar_updated', 'has_availability',\n",
    "       'availability_30', 'availability_60', 'availability_90',\n",
    "       'availability_365', 'calendar_last_scraped', \n",
    "       'number_of_reviews_ltm', 'number_of_reviews_l30d', 'first_review',\n",
    "       'last_review', 'review_scores_rating', 'review_scores_accuracy',\n",
    "       'review_scores_cleanliness', 'review_scores_checkin',\n",
    "       'review_scores_communication', 'review_scores_location',\n",
    "       'review_scores_value', 'license',\n",
    "       'calculated_host_listings_count',\n",
    "       'calculated_host_listings_count_entire_homes',\n",
    "       'calculated_host_listings_count_private_rooms',\n",
    "       'calculated_host_listings_count_shared_rooms','bathrooms', 'name', 'neighbourhood', 'instant_bookable', 'reviews_per_month' ]\n",
    "\n",
    "dropped_df = valencia_df.drop(drop_columns, axis=1)\n",
    "\n",
    "normalized_df = (dropped_df - dropped_df.mean())/dropped_df.std()"
   ]
  },
  {
   "cell_type": "code",
   "execution_count": 2,
   "id": "0bd9a79c",
   "metadata": {},
   "outputs": [],
   "source": [
    "normalized_df['price'] = dropped_df['price']"
   ]
  },
  {
   "cell_type": "code",
   "execution_count": null,
   "id": "58d52efa",
   "metadata": {},
   "outputs": [],
   "source": []
  },
  {
   "cell_type": "code",
   "execution_count": 3,
   "id": "cfaa26e4",
   "metadata": {},
   "outputs": [],
   "source": [
    "# creamos los modelos de train y test\n",
    "split_value = math.trunc(len(valencia_df)*0.8)\n",
    "\n",
    "train_df = normalized_df[0:split_value].copy()\n",
    "test_df = normalized_df[split_value:].copy()"
   ]
  },
  {
   "cell_type": "code",
   "execution_count": 13,
   "id": "a2ca5664",
   "metadata": {},
   "outputs": [
    {
     "name": "stdout",
     "output_type": "stream",
     "text": [
      "<class 'pandas.core.frame.DataFrame'>\n",
      "Int64Index: 4820 entries, 103 to 5179\n",
      "Data columns (total 5 columns):\n",
      " #   Column             Non-Null Count  Dtype  \n",
      "---  ------             --------------  -----  \n",
      " 0   accommodates       4820 non-null   float64\n",
      " 1   bedrooms           4573 non-null   float64\n",
      " 2   beds               4732 non-null   float64\n",
      " 3   price              4820 non-null   float64\n",
      " 4   number_of_reviews  4820 non-null   float64\n",
      "dtypes: float64(5)\n",
      "memory usage: 225.9 KB\n"
     ]
    }
   ],
   "source": [
    "train_df.info()"
   ]
  },
  {
   "cell_type": "code",
   "execution_count": 4,
   "id": "3e8e5594",
   "metadata": {},
   "outputs": [],
   "source": [
    "from sklearn.neighbors import KNeighborsRegressor\n",
    "knn = KNeighborsRegressor(n_neighbors=5, algorithm='brute')"
   ]
  },
  {
   "cell_type": "code",
   "execution_count": 7,
   "id": "c3efe9bf",
   "metadata": {},
   "outputs": [
    {
     "name": "stdout",
     "output_type": "stream",
     "text": [
      "1 81.91860143710211\n",
      "2 95.32835153200294\n",
      "3 93.60270503592027\n",
      "4 88.02028776419267\n",
      "5 85.00556388917246\n",
      "6 82.65616483955885\n",
      "7 81.18838848376912\n",
      "8 81.0496123707969\n",
      "9 79.71446154453454\n",
      "10 78.97331573076043\n",
      "11 78.9058081042667\n",
      "12 80.40486795248427\n",
      "13 80.0399698513033\n",
      "14 79.49387222866314\n",
      "15 79.62187139721621\n",
      "16 81.20049387487651\n",
      "17 80.89127619359955\n",
      "18 80.62585179433842\n",
      "19 80.14440315567771\n"
     ]
    }
   ],
   "source": [
    "from sklearn.metrics import mean_squared_error\n",
    "\n",
    "for k in range(1,20):\n",
    "    knn = KNeighborsRegressor(n_neighbors=k, algorithm='brute')\n",
    "    knn.fit(train_df[['accommodates']], train_df['price'])\n",
    "    predictions = knn.predict(test_df[['accommodates']])\n",
    "    rmse = mean_squared_error(test_df['price'], predictions)**0.5\n",
    "    print(k, rmse)\n",
    "    "
   ]
  },
  {
   "cell_type": "code",
   "execution_count": 10,
   "id": "409c4f96",
   "metadata": {},
   "outputs": [
    {
     "data": {
      "text/plain": [
       "<matplotlib.collections.PathCollection at 0x1326d3bb0>"
      ]
     },
     "execution_count": 10,
     "metadata": {},
     "output_type": "execute_result"
    },
    {
     "data": {
      "image/png": "[encoded data removed]",
      "text/plain": [
       "<Figure size 432x288 with 1 Axes>"
      ]
     },
     "metadata": {
      "needs_background": "light"
     },
     "output_type": "display_data"
    }
   ],
   "source": [
    "rmse_values = list()\n",
    "\n",
    "for k in range(1,20):\n",
    "    knn = KNeighborsRegressor(n_neighbors=k, algorithm='brute')\n",
    "    knn.fit(train_df[['accommodates']], train_df['price'])\n",
    "    predictions = knn.predict(test_df[['accommodates']])\n",
    "    rmse = mean_squared_error(test_df['price'], predictions)**0.5\n",
    "    rmse_values.append(rmse)\n",
    "    \n",
    "import matplotlib.pyplot as plt\n",
    "\n",
    "plt.scatter(range(1,20), rmse_values)"
   ]
  },
  {
   "cell_type": "code",
   "execution_count": 19,
   "id": "6b313216",
   "metadata": {},
   "outputs": [
    {
     "name": "stdout",
     "output_type": "stream",
     "text": [
      "1 99.9920038296839\n",
      "2 90.21245900282344\n",
      "3 89.35399990092299\n",
      "4 97.60644790278545\n",
      "5 93.17531363263242\n",
      "6 87.94927770889255\n",
      "7 84.87934481099673\n",
      "8 81.94827412302676\n",
      "9 80.56908571449873\n",
      "10 80.19105350499308\n",
      "11 79.31038392319971\n",
      "12 79.1465433403719\n",
      "13 78.42160014432501\n",
      "14 78.20993545945926\n",
      "15 77.89626950126046\n",
      "16 77.61148881234715\n",
      "17 76.96447725098709\n",
      "18 76.86779830707407\n",
      "19 76.46671902018086\n",
      "20 76.90305079768748\n",
      "21 76.57768081676033\n",
      "22 76.54301203194716\n",
      "23 76.30143181620959\n",
      "24 75.71823914350243\n",
      "25 76.15611846345038\n",
      "26 75.58973972537125\n",
      "27 75.87057527325294\n",
      "28 75.84473891439316\n",
      "29 76.07770216198988\n"
     ]
    },
    {
     "data": {
      "text/plain": [
       "<matplotlib.collections.PathCollection at 0x133ebac50>"
      ]
     },
     "execution_count": 19,
     "metadata": {},
     "output_type": "execute_result"
    },
    {
     "data": {
      "image/png": "[encoded data removed]",
      "text/plain": [
       "<Figure size 432x288 with 1 Axes>"
      ]
     },
     "metadata": {
      "needs_background": "light"
     },
     "output_type": "display_data"
    }
   ],
   "source": [
    "rmse_values = list()\n",
    "\n",
    "for k in range(1,30):\n",
    "    knn = KNeighborsRegressor(n_neighbors=k, algorithm='brute')\n",
    "    knn.fit(train_df[['number_of_reviews', 'accommodates']], train_df['price'])\n",
    "    predictions = knn.predict(test_df[['number_of_reviews', 'accommodates']])\n",
    "    rmse = mean_squared_error(test_df['price'], predictions)**0.5\n",
    "    rmse_values.append(rmse)\n",
    "    print(k, rmse)\n",
    "    \n",
    "import matplotlib.pyplot as plt\n",
    "\n",
    "plt.scatter(range(1,30), rmse_values)"
   ]
  },
  {
   "cell_type": "markdown",
   "id": "61e71f72",
   "metadata": {},
   "source": [
    "**Holdout Validation**\n",
    "\n",
    "El objetivo es eliminar cualquier sesgo que pudiese haber en la selección de los conjuntos de entrenamiento y test\n",
    "\n",
    "- dividimos el conjunto de datos en dos particiones (A, B)\n",
    "- usamos A como train, B como test => hacemos el modelo, predecimos y calculamos el error\n",
    "- usamos B como train, A como test => hacemos el modelo, predecimos y calculamos el error\n",
    "- promediamos\n"
   ]
  },
  {
   "cell_type": "code",
   "execution_count": 21,
   "id": "e7b42da0",
   "metadata": {},
   "outputs": [
    {
     "data": {
      "text/html": [
       "<div>\n",
       "<style scoped>\n",
       "    .dataframe tbody tr th:only-of-type {\n",
       "        vertical-align: middle;\n",
       "    }\n",
       "\n",
       "    .dataframe tbody tr th {\n",
       "        vertical-align: top;\n",
       "    }\n",
       "\n",
       "    .dataframe thead th {\n",
       "        text-align: right;\n",
       "    }\n",
       "</style>\n",
       "<table border=\"1\" class=\"dataframe\">\n",
       "  <thead>\n",
       "    <tr style=\"text-align: right;\">\n",
       "      <th></th>\n",
       "      <th>id</th>\n",
       "      <th>listing_url</th>\n",
       "      <th>scrape_id</th>\n",
       "      <th>last_scraped</th>\n",
       "      <th>name</th>\n",
       "      <th>description</th>\n",
       "      <th>neighborhood_overview</th>\n",
       "      <th>picture_url</th>\n",
       "      <th>host_id</th>\n",
       "      <th>host_url</th>\n",
       "      <th>...</th>\n",
       "      <th>review_scores_communication</th>\n",
       "      <th>review_scores_location</th>\n",
       "      <th>review_scores_value</th>\n",
       "      <th>license</th>\n",
       "      <th>instant_bookable</th>\n",
       "      <th>calculated_host_listings_count</th>\n",
       "      <th>calculated_host_listings_count_entire_homes</th>\n",
       "      <th>calculated_host_listings_count_private_rooms</th>\n",
       "      <th>calculated_host_listings_count_shared_rooms</th>\n",
       "      <th>reviews_per_month</th>\n",
       "    </tr>\n",
       "  </thead>\n",
       "  <tbody>\n",
       "    <tr>\n",
       "      <th>103</th>\n",
       "      <td>922696</td>\n",
       "      <td>https://www.airbnb.com/rooms/922696</td>\n",
       "      <td>20220320051241</td>\n",
       "      <td>2022-03-21</td>\n",
       "      <td>Habitación doble en Ruzafa con balcón</td>\n",
       "      <td>Alojamiento en el corazón del barrio de Ruzafa...</td>\n",
       "      <td>Ruzafa es un barrio con mucha actividad comerc...</td>\n",
       "      <td>https://a0.muscache.com/pictures/15617331/7b42...</td>\n",
       "      <td>4961376</td>\n",
       "      <td>https://www.airbnb.com/users/show/4961376</td>\n",
       "      <td>...</td>\n",
       "      <td>4.50</td>\n",
       "      <td>5.00</td>\n",
       "      <td>4.50</td>\n",
       "      <td>NaN</td>\n",
       "      <td>f</td>\n",
       "      <td>1</td>\n",
       "      <td>0</td>\n",
       "      <td>1</td>\n",
       "      <td>0</td>\n",
       "      <td>0.02</td>\n",
       "    </tr>\n",
       "    <tr>\n",
       "      <th>257</th>\n",
       "      <td>3719698</td>\n",
       "      <td>https://www.airbnb.com/rooms/3719698</td>\n",
       "      <td>20220320051241</td>\n",
       "      <td>2022-03-20</td>\n",
       "      <td>Two bedroom flat; centre of Russafa</td>\n",
       "      <td>Bright and airy, spacious two bedroom apartmen...</td>\n",
       "      <td>Russafa is a very traditional, residential and...</td>\n",
       "      <td>https://a0.muscache.com/pictures/89377977/1a8a...</td>\n",
       "      <td>18995569</td>\n",
       "      <td>https://www.airbnb.com/users/show/18995569</td>\n",
       "      <td>...</td>\n",
       "      <td>4.83</td>\n",
       "      <td>4.83</td>\n",
       "      <td>4.83</td>\n",
       "      <td>NaN</td>\n",
       "      <td>f</td>\n",
       "      <td>1</td>\n",
       "      <td>1</td>\n",
       "      <td>0</td>\n",
       "      <td>0</td>\n",
       "      <td>0.06</td>\n",
       "    </tr>\n",
       "    <tr>\n",
       "      <th>3299</th>\n",
       "      <td>38604615</td>\n",
       "      <td>https://www.airbnb.com/rooms/38604615</td>\n",
       "      <td>20220320051241</td>\n",
       "      <td>2022-03-20</td>\n",
       "      <td>BIG AND CENTRAL PRIVATE ROOM</td>\n",
       "      <td>In the apartment we live a young couple, we ar...</td>\n",
       "      <td>The area in which the apartment is located is ...</td>\n",
       "      <td>https://a0.muscache.com/pictures/30822999-a921...</td>\n",
       "      <td>294754367</td>\n",
       "      <td>https://www.airbnb.com/users/show/294754367</td>\n",
       "      <td>...</td>\n",
       "      <td>4.84</td>\n",
       "      <td>4.73</td>\n",
       "      <td>4.68</td>\n",
       "      <td>NaN</td>\n",
       "      <td>t</td>\n",
       "      <td>3</td>\n",
       "      <td>0</td>\n",
       "      <td>3</td>\n",
       "      <td>0</td>\n",
       "      <td>2.99</td>\n",
       "    </tr>\n",
       "    <tr>\n",
       "      <th>3056</th>\n",
       "      <td>35677241</td>\n",
       "      <td>https://www.airbnb.com/rooms/35677241</td>\n",
       "      <td>20220320051241</td>\n",
       "      <td>2022-03-20</td>\n",
       "      <td>Baño privado *WiFi* |Desayuno| 5M Estadio/Metro.</td>\n",
       "      <td>Habitación cercana a metro Facultats, Benimacl...</td>\n",
       "      <td>El barrio es una zona tranquila con parques y ...</td>\n",
       "      <td>https://a0.muscache.com/pictures/66d240f4-cd40...</td>\n",
       "      <td>126957667</td>\n",
       "      <td>https://www.airbnb.com/users/show/126957667</td>\n",
       "      <td>...</td>\n",
       "      <td>4.38</td>\n",
       "      <td>4.63</td>\n",
       "      <td>4.08</td>\n",
       "      <td>NaN</td>\n",
       "      <td>t</td>\n",
       "      <td>1</td>\n",
       "      <td>0</td>\n",
       "      <td>1</td>\n",
       "      <td>0</td>\n",
       "      <td>0.72</td>\n",
       "    </tr>\n",
       "    <tr>\n",
       "      <th>696</th>\n",
       "      <td>12758773</td>\n",
       "      <td>https://www.airbnb.com/rooms/12758773</td>\n",
       "      <td>20220320051241</td>\n",
       "      <td>2022-03-20</td>\n",
       "      <td>Apartment in Carmen</td>\n",
       "      <td>Great apartment located in the historical cent...</td>\n",
       "      <td>NaN</td>\n",
       "      <td>https://a0.muscache.com/pictures/80378ab6-b5d1...</td>\n",
       "      <td>55363968</td>\n",
       "      <td>https://www.airbnb.com/users/show/55363968</td>\n",
       "      <td>...</td>\n",
       "      <td>4.89</td>\n",
       "      <td>4.91</td>\n",
       "      <td>4.62</td>\n",
       "      <td>VT-38387-V</td>\n",
       "      <td>t</td>\n",
       "      <td>12</td>\n",
       "      <td>1</td>\n",
       "      <td>11</td>\n",
       "      <td>0</td>\n",
       "      <td>6.34</td>\n",
       "    </tr>\n",
       "    <tr>\n",
       "      <th>...</th>\n",
       "      <td>...</td>\n",
       "      <td>...</td>\n",
       "      <td>...</td>\n",
       "      <td>...</td>\n",
       "      <td>...</td>\n",
       "      <td>...</td>\n",
       "      <td>...</td>\n",
       "      <td>...</td>\n",
       "      <td>...</td>\n",
       "      <td>...</td>\n",
       "      <td>...</td>\n",
       "      <td>...</td>\n",
       "      <td>...</td>\n",
       "      <td>...</td>\n",
       "      <td>...</td>\n",
       "      <td>...</td>\n",
       "      <td>...</td>\n",
       "      <td>...</td>\n",
       "      <td>...</td>\n",
       "      <td>...</td>\n",
       "      <td>...</td>\n",
       "    </tr>\n",
       "    <tr>\n",
       "      <th>1099</th>\n",
       "      <td>16778886</td>\n",
       "      <td>https://www.airbnb.com/rooms/16778886</td>\n",
       "      <td>20220320051241</td>\n",
       "      <td>2022-03-21</td>\n",
       "      <td>PISO ACOGEDOR EN  EL CENTRO (Pl. Pilar)</td>\n",
       "      <td>Piso en pleno centro, situado junto a la Bibli...</td>\n",
       "      <td>NaN</td>\n",
       "      <td>https://a0.muscache.com/pictures/2b97590c-2e24...</td>\n",
       "      <td>3437604</td>\n",
       "      <td>https://www.airbnb.com/users/show/3437604</td>\n",
       "      <td>...</td>\n",
       "      <td>4.84</td>\n",
       "      <td>4.89</td>\n",
       "      <td>4.44</td>\n",
       "      <td>NaN</td>\n",
       "      <td>f</td>\n",
       "      <td>3</td>\n",
       "      <td>3</td>\n",
       "      <td>0</td>\n",
       "      <td>0</td>\n",
       "      <td>0.73</td>\n",
       "    </tr>\n",
       "    <tr>\n",
       "      <th>2514</th>\n",
       "      <td>29009541</td>\n",
       "      <td>https://www.airbnb.com/rooms/29009541</td>\n",
       "      <td>20220320051241</td>\n",
       "      <td>2022-03-21</td>\n",
       "      <td>Loft 2 independiente Piscina Centro Valencia</td>\n",
       "      <td>Loft de diseño a estrenar en Ruzafa, Valencia ...</td>\n",
       "      <td>Situado en el centro de Valencia, en el barrio...</td>\n",
       "      <td>https://a0.muscache.com/pictures/b65b5cd9-79e8...</td>\n",
       "      <td>61615570</td>\n",
       "      <td>https://www.airbnb.com/users/show/61615570</td>\n",
       "      <td>...</td>\n",
       "      <td>4.76</td>\n",
       "      <td>4.56</td>\n",
       "      <td>4.51</td>\n",
       "      <td>VT-48055-V</td>\n",
       "      <td>f</td>\n",
       "      <td>5</td>\n",
       "      <td>5</td>\n",
       "      <td>0</td>\n",
       "      <td>0</td>\n",
       "      <td>2.27</td>\n",
       "    </tr>\n",
       "    <tr>\n",
       "      <th>3606</th>\n",
       "      <td>42289841</td>\n",
       "      <td>https://www.airbnb.com/rooms/42289841</td>\n",
       "      <td>20220320051241</td>\n",
       "      <td>2022-03-20</td>\n",
       "      <td>Habitación amplia y luminosa !</td>\n",
       "      <td>NaN</td>\n",
       "      <td>NaN</td>\n",
       "      <td>https://a0.muscache.com/pictures/44dbfa0c-f4ca...</td>\n",
       "      <td>10233131</td>\n",
       "      <td>https://www.airbnb.com/users/show/10233131</td>\n",
       "      <td>...</td>\n",
       "      <td>4.67</td>\n",
       "      <td>5.00</td>\n",
       "      <td>4.67</td>\n",
       "      <td>NaN</td>\n",
       "      <td>f</td>\n",
       "      <td>1</td>\n",
       "      <td>0</td>\n",
       "      <td>1</td>\n",
       "      <td>0</td>\n",
       "      <td>2.81</td>\n",
       "    </tr>\n",
       "    <tr>\n",
       "      <th>5704</th>\n",
       "      <td>561598182183268110</td>\n",
       "      <td>https://www.airbnb.com/rooms/561598182183268110</td>\n",
       "      <td>20220320051241</td>\n",
       "      <td>2022-03-20</td>\n",
       "      <td>FV-Nice Flat 2 rooms, good located,wifi high s...</td>\n",
       "      <td>A los Digital Nomad, trabajadores, estudiantes...</td>\n",
       "      <td>NaN</td>\n",
       "      <td>https://a0.muscache.com/pictures/miso/Hosting-...</td>\n",
       "      <td>306518264</td>\n",
       "      <td>https://www.airbnb.com/users/show/306518264</td>\n",
       "      <td>...</td>\n",
       "      <td>NaN</td>\n",
       "      <td>NaN</td>\n",
       "      <td>NaN</td>\n",
       "      <td>NaN</td>\n",
       "      <td>f</td>\n",
       "      <td>3</td>\n",
       "      <td>3</td>\n",
       "      <td>0</td>\n",
       "      <td>0</td>\n",
       "      <td>NaN</td>\n",
       "    </tr>\n",
       "    <tr>\n",
       "      <th>2575</th>\n",
       "      <td>30203752</td>\n",
       "      <td>https://www.airbnb.com/rooms/30203752</td>\n",
       "      <td>20220320051241</td>\n",
       "      <td>2022-03-20</td>\n",
       "      <td>TYNE ARTIS HOUSE,  in city center ac + wifi</td>\n",
       "      <td>Located in the back of a beautiful historical ...</td>\n",
       "      <td>Undoubtedly, Ruzafa is the fashionable Valenci...</td>\n",
       "      <td>https://a0.muscache.com/pictures/miso/Hosting-...</td>\n",
       "      <td>920336</td>\n",
       "      <td>https://www.airbnb.com/users/show/920336</td>\n",
       "      <td>...</td>\n",
       "      <td>4.97</td>\n",
       "      <td>4.90</td>\n",
       "      <td>4.45</td>\n",
       "      <td>VT-36442-V</td>\n",
       "      <td>t</td>\n",
       "      <td>5</td>\n",
       "      <td>5</td>\n",
       "      <td>0</td>\n",
       "      <td>0</td>\n",
       "      <td>0.78</td>\n",
       "    </tr>\n",
       "  </tbody>\n",
       "</table>\n",
       "<p>6025 rows × 74 columns</p>\n",
       "</div>"
      ],
      "text/plain": [
       "                      id                                      listing_url  \\\n",
       "103               922696              https://www.airbnb.com/rooms/922696   \n",
       "257              3719698             https://www.airbnb.com/rooms/3719698   \n",
       "3299            38604615            https://www.airbnb.com/rooms/38604615   \n",
       "3056            35677241            https://www.airbnb.com/rooms/35677241   \n",
       "696             12758773            https://www.airbnb.com/rooms/12758773   \n",
       "...                  ...                                              ...   \n",
       "1099            16778886            https://www.airbnb.com/rooms/16778886   \n",
       "2514            29009541            https://www.airbnb.com/rooms/29009541   \n",
       "3606            42289841            https://www.airbnb.com/rooms/42289841   \n",
       "5704  561598182183268110  https://www.airbnb.com/rooms/561598182183268110   \n",
       "2575            30203752            https://www.airbnb.com/rooms/30203752   \n",
       "\n",
       "           scrape_id last_scraped  \\\n",
       "103   20220320051241   2022-03-21   \n",
       "257   20220320051241   2022-03-20   \n",
       "3299  20220320051241   2022-03-20   \n",
       "3056  20220320051241   2022-03-20   \n",
       "696   20220320051241   2022-03-20   \n",
       "...              ...          ...   \n",
       "1099  20220320051241   2022-03-21   \n",
       "2514  20220320051241   2022-03-21   \n",
       "3606  20220320051241   2022-03-20   \n",
       "5704  20220320051241   2022-03-20   \n",
       "2575  20220320051241   2022-03-20   \n",
       "\n",
       "                                                   name  \\\n",
       "103               Habitación doble en Ruzafa con balcón   \n",
       "257                 Two bedroom flat; centre of Russafa   \n",
       "3299                       BIG AND CENTRAL PRIVATE ROOM   \n",
       "3056   Baño privado *WiFi* |Desayuno| 5M Estadio/Metro.   \n",
       "696                                 Apartment in Carmen   \n",
       "...                                                 ...   \n",
       "1099            PISO ACOGEDOR EN  EL CENTRO (Pl. Pilar)   \n",
       "2514       Loft 2 independiente Piscina Centro Valencia   \n",
       "3606                     Habitación amplia y luminosa !   \n",
       "5704  FV-Nice Flat 2 rooms, good located,wifi high s...   \n",
       "2575        TYNE ARTIS HOUSE,  in city center ac + wifi   \n",
       "\n",
       "                                            description  \\\n",
       "103   Alojamiento en el corazón del barrio de Ruzafa...   \n",
       "257   Bright and airy, spacious two bedroom apartmen...   \n",
       "3299  In the apartment we live a young couple, we ar...   \n",
       "3056  Habitación cercana a metro Facultats, Benimacl...   \n",
       "696   Great apartment located in the historical cent...   \n",
       "...                                                 ...   \n",
       "1099  Piso en pleno centro, situado junto a la Bibli...   \n",
       "2514  Loft de diseño a estrenar en Ruzafa, Valencia ...   \n",
       "3606                                                NaN   \n",
       "5704  A los Digital Nomad, trabajadores, estudiantes...   \n",
       "2575  Located in the back of a beautiful historical ...   \n",
       "\n",
       "                                  neighborhood_overview  \\\n",
       "103   Ruzafa es un barrio con mucha actividad comerc...   \n",
       "257   Russafa is a very traditional, residential and...   \n",
       "3299  The area in which the apartment is located is ...   \n",
       "3056  El barrio es una zona tranquila con parques y ...   \n",
       "696                                                 NaN   \n",
       "...                                                 ...   \n",
       "1099                                                NaN   \n",
       "2514  Situado en el centro de Valencia, en el barrio...   \n",
       "3606                                                NaN   \n",
       "5704                                                NaN   \n",
       "2575  Undoubtedly, Ruzafa is the fashionable Valenci...   \n",
       "\n",
       "                                            picture_url    host_id  \\\n",
       "103   https://a0.muscache.com/pictures/15617331/7b42...    4961376   \n",
       "257   https://a0.muscache.com/pictures/89377977/1a8a...   18995569   \n",
       "3299  https://a0.muscache.com/pictures/30822999-a921...  294754367   \n",
       "3056  https://a0.muscache.com/pictures/66d240f4-cd40...  126957667   \n",
       "696   https://a0.muscache.com/pictures/80378ab6-b5d1...   55363968   \n",
       "...                                                 ...        ...   \n",
       "1099  https://a0.muscache.com/pictures/2b97590c-2e24...    3437604   \n",
       "2514  https://a0.muscache.com/pictures/b65b5cd9-79e8...   61615570   \n",
       "3606  https://a0.muscache.com/pictures/44dbfa0c-f4ca...   10233131   \n",
       "5704  https://a0.muscache.com/pictures/miso/Hosting-...  306518264   \n",
       "2575  https://a0.muscache.com/pictures/miso/Hosting-...     920336   \n",
       "\n",
       "                                         host_url  ...  \\\n",
       "103     https://www.airbnb.com/users/show/4961376  ...   \n",
       "257    https://www.airbnb.com/users/show/18995569  ...   \n",
       "3299  https://www.airbnb.com/users/show/294754367  ...   \n",
       "3056  https://www.airbnb.com/users/show/126957667  ...   \n",
       "696    https://www.airbnb.com/users/show/55363968  ...   \n",
       "...                                           ...  ...   \n",
       "1099    https://www.airbnb.com/users/show/3437604  ...   \n",
       "2514   https://www.airbnb.com/users/show/61615570  ...   \n",
       "3606   https://www.airbnb.com/users/show/10233131  ...   \n",
       "5704  https://www.airbnb.com/users/show/306518264  ...   \n",
       "2575     https://www.airbnb.com/users/show/920336  ...   \n",
       "\n",
       "     review_scores_communication review_scores_location review_scores_value  \\\n",
       "103                         4.50                   5.00                4.50   \n",
       "257                         4.83                   4.83                4.83   \n",
       "3299                        4.84                   4.73                4.68   \n",
       "3056                        4.38                   4.63                4.08   \n",
       "696                         4.89                   4.91                4.62   \n",
       "...                          ...                    ...                 ...   \n",
       "1099                        4.84                   4.89                4.44   \n",
       "2514                        4.76                   4.56                4.51   \n",
       "3606                        4.67                   5.00                4.67   \n",
       "5704                         NaN                    NaN                 NaN   \n",
       "2575                        4.97                   4.90                4.45   \n",
       "\n",
       "         license instant_bookable calculated_host_listings_count  \\\n",
       "103          NaN                f                              1   \n",
       "257          NaN                f                              1   \n",
       "3299         NaN                t                              3   \n",
       "3056         NaN                t                              1   \n",
       "696   VT-38387-V                t                             12   \n",
       "...          ...              ...                            ...   \n",
       "1099         NaN                f                              3   \n",
       "2514  VT-48055-V                f                              5   \n",
       "3606         NaN                f                              1   \n",
       "5704         NaN                f                              3   \n",
       "2575  VT-36442-V                t                              5   \n",
       "\n",
       "     calculated_host_listings_count_entire_homes  \\\n",
       "103                                            0   \n",
       "257                                            1   \n",
       "3299                                           0   \n",
       "3056                                           0   \n",
       "696                                            1   \n",
       "...                                          ...   \n",
       "1099                                           3   \n",
       "2514                                           5   \n",
       "3606                                           0   \n",
       "5704                                           3   \n",
       "2575                                           5   \n",
       "\n",
       "     calculated_host_listings_count_private_rooms  \\\n",
       "103                                             1   \n",
       "257                                             0   \n",
       "3299                                            3   \n",
       "3056                                            1   \n",
       "696                                            11   \n",
       "...                                           ...   \n",
       "1099                                            0   \n",
       "2514                                            0   \n",
       "3606                                            1   \n",
       "5704                                            0   \n",
       "2575                                            0   \n",
       "\n",
       "     calculated_host_listings_count_shared_rooms reviews_per_month  \n",
       "103                                            0              0.02  \n",
       "257                                            0              0.06  \n",
       "3299                                           0              2.99  \n",
       "3056                                           0              0.72  \n",
       "696                                            0              6.34  \n",
       "...                                          ...               ...  \n",
       "1099                                           0              0.73  \n",
       "2514                                           0              2.27  \n",
       "3606                                           0              2.81  \n",
       "5704                                           0               NaN  \n",
       "2575                                           0              0.78  \n",
       "\n",
       "[6025 rows x 74 columns]"
      ]
     },
     "execution_count": 21,
     "metadata": {},
     "output_type": "execute_result"
    }
   ],
   "source": [
    "valencia_df"
   ]
  },
  {
   "cell_type": "code",
   "execution_count": 24,
   "id": "e7da9ae1",
   "metadata": {},
   "outputs": [
    {
     "data": {
      "text/plain": [
       "6025"
      ]
     },
     "execution_count": 24,
     "metadata": {},
     "output_type": "execute_result"
    }
   ],
   "source": [
    "len(normalized_df)"
   ]
  },
  {
   "cell_type": "code",
   "execution_count": 28,
   "id": "c13adbce",
   "metadata": {},
   "outputs": [],
   "source": [
    "A_df = normalized_df[0:math.trunc(len(normalized_df)/2)].copy()\n",
    "B_df = normalized_df[math.trunc(len(normalized_df)/2):].copy()"
   ]
  },
  {
   "cell_type": "code",
   "execution_count": 29,
   "id": "fb3dbb61",
   "metadata": {},
   "outputs": [
    {
     "data": {
      "text/plain": [
       "(3012, 5)"
      ]
     },
     "execution_count": 29,
     "metadata": {},
     "output_type": "execute_result"
    }
   ],
   "source": [
    "A_df.shape"
   ]
  },
  {
   "cell_type": "code",
   "execution_count": 31,
   "id": "df4bf132",
   "metadata": {},
   "outputs": [
    {
     "data": {
      "text/plain": [
       "(3013, 5)"
      ]
     },
     "execution_count": 31,
     "metadata": {},
     "output_type": "execute_result"
    }
   ],
   "source": [
    "B_df.shape"
   ]
  },
  {
   "cell_type": "code",
   "execution_count": 49,
   "id": "8ebf4bdb",
   "metadata": {},
   "outputs": [
    {
     "data": {
      "text/plain": [
       "105.74045870567278"
      ]
     },
     "execution_count": 49,
     "metadata": {},
     "output_type": "execute_result"
    }
   ],
   "source": [
    "# primera parte\n",
    "knn1 = KNeighborsRegressor()\n",
    "knn1.fit(A_df[['accommodates']], A_df['price'])\n",
    "pred1 = knn1.predict(B_df[['accommodates']])\n",
    "ms1 = mean_squared_error(B_df['price'], pred1)\n",
    "\n",
    "# segunda parte \n",
    "knn1 = KNeighborsRegressor()\n",
    "knn1.fit(B_df[['accommodates']], B_df['price'])\n",
    "pred1 = knn1.predict(A_df[['accommodates']])\n",
    "ms2 = mean_squared_error(A_df['price'], pred1)\n",
    "\n",
    "((ms1+ms2)/2)**0.5\n"
   ]
  },
  {
   "cell_type": "markdown",
   "id": "67e5efe5",
   "metadata": {},
   "source": [
    "## K-Fold Validation (validación cruzada k-fold)\n",
    "\n"
   ]
  },
  {
   "cell_type": "code",
   "execution_count": 53,
   "id": "9ed372a5",
   "metadata": {},
   "outputs": [],
   "source": [
    "split_index = math.trunc(len(normalized_df)/5)"
   ]
  },
  {
   "cell_type": "code",
   "execution_count": 57,
   "id": "b353594a",
   "metadata": {},
   "outputs": [],
   "source": [
    "normalized_df.loc[normalized_df.index[0:split_index], 'fold'] = 1"
   ]
  },
  {
   "cell_type": "code",
   "execution_count": 58,
   "id": "f5fd03e9",
   "metadata": {},
   "outputs": [],
   "source": [
    "normalized_df.loc[normalized_df.index[split_index:split_index*2], 'fold'] = 2\n",
    "normalized_df.loc[normalized_df.index[split_index*2: split_index*3], 'fold'] = 3\n",
    "normalized_df.loc[normalized_df.index[split_index*3: split_index*4], 'fold'] = 4\n",
    "normalized_df.loc[normalized_df.index[split_index*4:], 'fold'] = 5\n"
   ]
  },
  {
   "cell_type": "code",
   "execution_count": 59,
   "id": "cd2bca44",
   "metadata": {},
   "outputs": [
    {
     "data": {
      "text/html": [
       "<div>\n",
       "<style scoped>\n",
       "    .dataframe tbody tr th:only-of-type {\n",
       "        vertical-align: middle;\n",
       "    }\n",
       "\n",
       "    .dataframe tbody tr th {\n",
       "        vertical-align: top;\n",
       "    }\n",
       "\n",
       "    .dataframe thead th {\n",
       "        text-align: right;\n",
       "    }\n",
       "</style>\n",
       "<table border=\"1\" class=\"dataframe\">\n",
       "  <thead>\n",
       "    <tr style=\"text-align: right;\">\n",
       "      <th></th>\n",
       "      <th>accommodates</th>\n",
       "      <th>bedrooms</th>\n",
       "      <th>beds</th>\n",
       "      <th>price</th>\n",
       "      <th>number_of_reviews</th>\n",
       "      <th>fold</th>\n",
       "    </tr>\n",
       "  </thead>\n",
       "  <tbody>\n",
       "    <tr>\n",
       "      <th>103</th>\n",
       "      <td>-0.804854</td>\n",
       "      <td>-0.789021</td>\n",
       "      <td>-0.850444</td>\n",
       "      <td>88.0</td>\n",
       "      <td>-0.587185</td>\n",
       "      <td>1.0</td>\n",
       "    </tr>\n",
       "    <tr>\n",
       "      <th>257</th>\n",
       "      <td>1.163783</td>\n",
       "      <td>0.208730</td>\n",
       "      <td>0.944803</td>\n",
       "      <td>95.0</td>\n",
       "      <td>-0.526391</td>\n",
       "      <td>1.0</td>\n",
       "    </tr>\n",
       "    <tr>\n",
       "      <th>3299</th>\n",
       "      <td>-0.804854</td>\n",
       "      <td>-0.789021</td>\n",
       "      <td>-0.850444</td>\n",
       "      <td>21.0</td>\n",
       "      <td>0.765489</td>\n",
       "      <td>1.0</td>\n",
       "    </tr>\n",
       "    <tr>\n",
       "      <th>3056</th>\n",
       "      <td>-1.297013</td>\n",
       "      <td>-0.789021</td>\n",
       "      <td>-0.850444</td>\n",
       "      <td>31.0</td>\n",
       "      <td>-0.252816</td>\n",
       "      <td>1.0</td>\n",
       "    </tr>\n",
       "    <tr>\n",
       "      <th>696</th>\n",
       "      <td>-0.312695</td>\n",
       "      <td>-0.789021</td>\n",
       "      <td>-0.252028</td>\n",
       "      <td>41.0</td>\n",
       "      <td>5.796221</td>\n",
       "      <td>1.0</td>\n",
       "    </tr>\n",
       "    <tr>\n",
       "      <th>...</th>\n",
       "      <td>...</td>\n",
       "      <td>...</td>\n",
       "      <td>...</td>\n",
       "      <td>...</td>\n",
       "      <td>...</td>\n",
       "      <td>...</td>\n",
       "    </tr>\n",
       "    <tr>\n",
       "      <th>1099</th>\n",
       "      <td>1.163783</td>\n",
       "      <td>0.208730</td>\n",
       "      <td>0.346387</td>\n",
       "      <td>89.0</td>\n",
       "      <td>0.066354</td>\n",
       "      <td>5.0</td>\n",
       "    </tr>\n",
       "    <tr>\n",
       "      <th>2514</th>\n",
       "      <td>0.179465</td>\n",
       "      <td>-0.789021</td>\n",
       "      <td>-0.850444</td>\n",
       "      <td>64.0</td>\n",
       "      <td>0.811085</td>\n",
       "      <td>5.0</td>\n",
       "    </tr>\n",
       "    <tr>\n",
       "      <th>3606</th>\n",
       "      <td>-0.804854</td>\n",
       "      <td>-0.789021</td>\n",
       "      <td>-0.850444</td>\n",
       "      <td>36.0</td>\n",
       "      <td>-0.571986</td>\n",
       "      <td>5.0</td>\n",
       "    </tr>\n",
       "    <tr>\n",
       "      <th>5704</th>\n",
       "      <td>-0.312695</td>\n",
       "      <td>0.208730</td>\n",
       "      <td>-0.252028</td>\n",
       "      <td>73.0</td>\n",
       "      <td>-0.617582</td>\n",
       "      <td>5.0</td>\n",
       "    </tr>\n",
       "    <tr>\n",
       "      <th>2575</th>\n",
       "      <td>-0.804854</td>\n",
       "      <td>NaN</td>\n",
       "      <td>-0.252028</td>\n",
       "      <td>60.0</td>\n",
       "      <td>-0.176823</td>\n",
       "      <td>5.0</td>\n",
       "    </tr>\n",
       "  </tbody>\n",
       "</table>\n",
       "<p>6025 rows × 6 columns</p>\n",
       "</div>"
      ],
      "text/plain": [
       "      accommodates  bedrooms      beds  price  number_of_reviews  fold\n",
       "103      -0.804854 -0.789021 -0.850444   88.0          -0.587185   1.0\n",
       "257       1.163783  0.208730  0.944803   95.0          -0.526391   1.0\n",
       "3299     -0.804854 -0.789021 -0.850444   21.0           0.765489   1.0\n",
       "3056     -1.297013 -0.789021 -0.850444   31.0          -0.252816   1.0\n",
       "696      -0.312695 -0.789021 -0.252028   41.0           5.796221   1.0\n",
       "...            ...       ...       ...    ...                ...   ...\n",
       "1099      1.163783  0.208730  0.346387   89.0           0.066354   5.0\n",
       "2514      0.179465 -0.789021 -0.850444   64.0           0.811085   5.0\n",
       "3606     -0.804854 -0.789021 -0.850444   36.0          -0.571986   5.0\n",
       "5704     -0.312695  0.208730 -0.252028   73.0          -0.617582   5.0\n",
       "2575     -0.804854       NaN -0.252028   60.0          -0.176823   5.0\n",
       "\n",
       "[6025 rows x 6 columns]"
      ]
     },
     "execution_count": 59,
     "metadata": {},
     "output_type": "execute_result"
    }
   ],
   "source": [
    "normalized_df"
   ]
  },
  {
   "cell_type": "code",
   "execution_count": 63,
   "id": "f654b0d2",
   "metadata": {},
   "outputs": [
    {
     "data": {
      "text/plain": [
       "1.0    1205\n",
       "2.0    1205\n",
       "3.0    1205\n",
       "4.0    1205\n",
       "5.0    1205\n",
       "Name: fold, dtype: int64"
      ]
     },
     "execution_count": 63,
     "metadata": {},
     "output_type": "execute_result"
    }
   ],
   "source": [
    "normalized_df['fold'].value_counts()"
   ]
  },
  {
   "cell_type": "code",
   "execution_count": 64,
   "id": "05359c67",
   "metadata": {},
   "outputs": [
    {
     "data": {
      "text/plain": [
       "0"
      ]
     },
     "execution_count": 64,
     "metadata": {},
     "output_type": "execute_result"
    }
   ],
   "source": [
    "normalized_df['fold'].isnull().sum()"
   ]
  },
  {
   "cell_type": "markdown",
   "id": "f51620bd",
   "metadata": {},
   "source": [
    "Un modelo tiene dos fuentes de error:\n",
    "\n",
    "- Sesgo\n",
    "- Varianza\n",
    "\n",
    "El sesgo (*bias*) resulta de las malas suposiciones sobre el algoritmo de aprendizaje. O hemos tomado mal los datos o hemos elegido mal las variables\n",
    "\n",
    "La varianza describe el error que se produce debido a la variabilidad de los valores predichos de un modelo. \n",
    "\n",
    "Cuando hacemos un k-fold, la desviación estándar del RMSE puede ser un indicador de valiata del modelo, mientras que la media del RMSE es un indicador del sesgo. \n",
    "\n"
   ]
  },
  {
   "cell_type": "code",
   "execution_count": 69,
   "id": "13082b50",
   "metadata": {},
   "outputs": [
    {
     "data": {
      "text/html": [
       "<div>\n",
       "<style scoped>\n",
       "    .dataframe tbody tr th:only-of-type {\n",
       "        vertical-align: middle;\n",
       "    }\n",
       "\n",
       "    .dataframe tbody tr th {\n",
       "        vertical-align: top;\n",
       "    }\n",
       "\n",
       "    .dataframe thead th {\n",
       "        text-align: right;\n",
       "    }\n",
       "</style>\n",
       "<table border=\"1\" class=\"dataframe\">\n",
       "  <thead>\n",
       "    <tr style=\"text-align: right;\">\n",
       "      <th></th>\n",
       "      <th>accommodates</th>\n",
       "    </tr>\n",
       "  </thead>\n",
       "  <tbody>\n",
       "    <tr>\n",
       "      <th>2049</th>\n",
       "      <td>1.163783</td>\n",
       "    </tr>\n",
       "    <tr>\n",
       "      <th>2735</th>\n",
       "      <td>-0.804854</td>\n",
       "    </tr>\n",
       "    <tr>\n",
       "      <th>5341</th>\n",
       "      <td>0.179465</td>\n",
       "    </tr>\n",
       "    <tr>\n",
       "      <th>707</th>\n",
       "      <td>-0.312695</td>\n",
       "    </tr>\n",
       "    <tr>\n",
       "      <th>5218</th>\n",
       "      <td>1.655943</td>\n",
       "    </tr>\n",
       "    <tr>\n",
       "      <th>...</th>\n",
       "      <td>...</td>\n",
       "    </tr>\n",
       "    <tr>\n",
       "      <th>1099</th>\n",
       "      <td>1.163783</td>\n",
       "    </tr>\n",
       "    <tr>\n",
       "      <th>2514</th>\n",
       "      <td>0.179465</td>\n",
       "    </tr>\n",
       "    <tr>\n",
       "      <th>3606</th>\n",
       "      <td>-0.804854</td>\n",
       "    </tr>\n",
       "    <tr>\n",
       "      <th>5704</th>\n",
       "      <td>-0.312695</td>\n",
       "    </tr>\n",
       "    <tr>\n",
       "      <th>2575</th>\n",
       "      <td>-0.804854</td>\n",
       "    </tr>\n",
       "  </tbody>\n",
       "</table>\n",
       "<p>4820 rows × 1 columns</p>\n",
       "</div>"
      ],
      "text/plain": [
       "      accommodates\n",
       "2049      1.163783\n",
       "2735     -0.804854\n",
       "5341      0.179465\n",
       "707      -0.312695\n",
       "5218      1.655943\n",
       "...            ...\n",
       "1099      1.163783\n",
       "2514      0.179465\n",
       "3606     -0.804854\n",
       "5704     -0.312695\n",
       "2575     -0.804854\n",
       "\n",
       "[4820 rows x 1 columns]"
      ]
     },
     "execution_count": 69,
     "metadata": {},
     "output_type": "execute_result"
    }
   ],
   "source": [
    "normalized_df[normalized_df['fold']!=1][['accommodates']]"
   ]
  },
  {
   "cell_type": "code",
   "execution_count": 81,
   "id": "46c57cfa",
   "metadata": {},
   "outputs": [],
   "source": [
    "mse = list()\n",
    "\n",
    "for i in range(1,6):\n",
    "    knn = KNeighborsRegressor()\n",
    "    knn.fit(normalized_df[normalized_df['fold']!=i][['accommodates']], normalized_df[normalized_df['fold']!=i][['price']])\n",
    "    pred1 = knn1.predict(normalized_df[normalized_df['fold']==i][['accommodates']])\n",
    "    ms1 = mean_squared_error(normalized_df[normalized_df['fold']==i][['accommodates']], pred1)\n",
    "    mse.append(ms1**0.5)\n",
    "    "
   ]
  },
  {
   "cell_type": "code",
   "execution_count": 82,
   "id": "78e76dd7",
   "metadata": {},
   "outputs": [
    {
     "data": {
      "text/plain": [
       "[101.20870237704966,\n",
       " 99.06285808103874,\n",
       " 103.39086365282935,\n",
       " 105.35342754963739,\n",
       " 100.6129090953458]"
      ]
     },
     "execution_count": 82,
     "metadata": {},
     "output_type": "execute_result"
    }
   ],
   "source": [
    "mse"
   ]
  },
  {
   "cell_type": "code",
   "execution_count": 83,
   "id": "4849bf96",
   "metadata": {},
   "outputs": [],
   "source": [
    "import numpy as np"
   ]
  },
  {
   "cell_type": "code",
   "execution_count": 84,
   "id": "612494aa",
   "metadata": {},
   "outputs": [
    {
     "data": {
      "text/plain": [
       "101.92575215118019"
      ]
     },
     "execution_count": 84,
     "metadata": {},
     "output_type": "execute_result"
    }
   ],
   "source": [
    "np.mean(mse)"
   ]
  },
  {
   "cell_type": "code",
   "execution_count": 85,
   "id": "7a8508a7",
   "metadata": {},
   "outputs": [
    {
     "data": {
      "text/plain": [
       "2.205873526480504"
      ]
     },
     "execution_count": 85,
     "metadata": {},
     "output_type": "execute_result"
    }
   ],
   "source": [
    "np.std(mse) # poca"
   ]
  }
 ],
 "metadata": {
  "kernelspec": {
   "display_name": "Python 3 (ipykernel)",
   "language": "python",
   "name": "python3"
  },
  "language_info": {
   "codemirror_mode": {
    "name": "ipython",
    "version": 3
   },
   "file_extension": ".py",
   "mimetype": "text/x-python",
   "name": "python",
   "nbconvert_exporter": "python",
   "pygments_lexer": "ipython3",
   "version": "3.10.5"
  }
 },
 "nbformat": 4,
 "nbformat_minor": 5
}
