{
 "cells": [
  {
   "cell_type": "code",
   "execution_count": 2,
   "id": "73a768ce",
   "metadata": {},
   "outputs": [],
   "source": [
    "import pandas as pd"
   ]
  },
  {
   "cell_type": "code",
   "execution_count": 3,
   "id": "946c08a3",
   "metadata": {},
   "outputs": [],
   "source": [
    "valencia = pd.read_csv('airbnb_valencia.csv')"
   ]
  },
  {
   "cell_type": "code",
   "execution_count": 5,
   "id": "246c5284",
   "metadata": {},
   "outputs": [
    {
     "data": {
      "text/html": [
       "<div>\n",
       "<style scoped>\n",
       "    .dataframe tbody tr th:only-of-type {\n",
       "        vertical-align: middle;\n",
       "    }\n",
       "\n",
       "    .dataframe tbody tr th {\n",
       "        vertical-align: top;\n",
       "    }\n",
       "\n",
       "    .dataframe thead th {\n",
       "        text-align: right;\n",
       "    }\n",
       "</style>\n",
       "<table border=\"1\" class=\"dataframe\">\n",
       "  <thead>\n",
       "    <tr style=\"text-align: right;\">\n",
       "      <th></th>\n",
       "      <th>id</th>\n",
       "      <th>listing_url</th>\n",
       "      <th>scrape_id</th>\n",
       "      <th>last_scraped</th>\n",
       "      <th>name</th>\n",
       "      <th>description</th>\n",
       "      <th>neighborhood_overview</th>\n",
       "      <th>picture_url</th>\n",
       "      <th>host_id</th>\n",
       "      <th>host_url</th>\n",
       "      <th>...</th>\n",
       "      <th>review_scores_communication</th>\n",
       "      <th>review_scores_location</th>\n",
       "      <th>review_scores_value</th>\n",
       "      <th>license</th>\n",
       "      <th>instant_bookable</th>\n",
       "      <th>calculated_host_listings_count</th>\n",
       "      <th>calculated_host_listings_count_entire_homes</th>\n",
       "      <th>calculated_host_listings_count_private_rooms</th>\n",
       "      <th>calculated_host_listings_count_shared_rooms</th>\n",
       "      <th>reviews_per_month</th>\n",
       "    </tr>\n",
       "  </thead>\n",
       "  <tbody>\n",
       "    <tr>\n",
       "      <th>0</th>\n",
       "      <td>48154</td>\n",
       "      <td>https://www.airbnb.com/rooms/48154</td>\n",
       "      <td>20220320051241</td>\n",
       "      <td>2022-03-21</td>\n",
       "      <td>beautiful apartment wifi</td>\n",
       "      <td>&lt;b&gt;The space&lt;/b&gt;&lt;br /&gt;Hello everybody and than...</td>\n",
       "      <td>NaN</td>\n",
       "      <td>https://a0.muscache.com/pictures/1109085/9c0d4...</td>\n",
       "      <td>219476</td>\n",
       "      <td>https://www.airbnb.com/users/show/219476</td>\n",
       "      <td>...</td>\n",
       "      <td>4.73</td>\n",
       "      <td>4.42</td>\n",
       "      <td>4.50</td>\n",
       "      <td>VT-41540-V</td>\n",
       "      <td>f</td>\n",
       "      <td>2</td>\n",
       "      <td>2</td>\n",
       "      <td>0</td>\n",
       "      <td>0</td>\n",
       "      <td>0.86</td>\n",
       "    </tr>\n",
       "    <tr>\n",
       "      <th>1</th>\n",
       "      <td>55692</td>\n",
       "      <td>https://www.airbnb.com/rooms/55692</td>\n",
       "      <td>20220320051241</td>\n",
       "      <td>2022-03-21</td>\n",
       "      <td>Delight in city center</td>\n",
       "      <td>A great place to stay and visit Valencia.&lt;br /...</td>\n",
       "      <td>NaN</td>\n",
       "      <td>https://a0.muscache.com/pictures/329316/a5d6a7...</td>\n",
       "      <td>120649</td>\n",
       "      <td>https://www.airbnb.com/users/show/120649</td>\n",
       "      <td>...</td>\n",
       "      <td>5.00</td>\n",
       "      <td>5.00</td>\n",
       "      <td>5.00</td>\n",
       "      <td>NaN</td>\n",
       "      <td>f</td>\n",
       "      <td>1</td>\n",
       "      <td>1</td>\n",
       "      <td>0</td>\n",
       "      <td>0</td>\n",
       "      <td>0.01</td>\n",
       "    </tr>\n",
       "    <tr>\n",
       "      <th>2</th>\n",
       "      <td>95393</td>\n",
       "      <td>https://www.airbnb.com/rooms/95393</td>\n",
       "      <td>20220320051241</td>\n",
       "      <td>2022-03-21</td>\n",
       "      <td>Modern and bright Duplex 3 Bedrooms Center Wi-Fi</td>\n",
       "      <td>This is \"Edificio Palomar Apartments\", I will ...</td>\n",
       "      <td>It is just 10 min walking distance to the Cath...</td>\n",
       "      <td>https://a0.muscache.com/pictures/931683/64aebc...</td>\n",
       "      <td>508042</td>\n",
       "      <td>https://www.airbnb.com/users/show/508042</td>\n",
       "      <td>...</td>\n",
       "      <td>4.75</td>\n",
       "      <td>4.75</td>\n",
       "      <td>4.67</td>\n",
       "      <td>31815</td>\n",
       "      <td>f</td>\n",
       "      <td>5</td>\n",
       "      <td>5</td>\n",
       "      <td>0</td>\n",
       "      <td>0</td>\n",
       "      <td>0.79</td>\n",
       "    </tr>\n",
       "    <tr>\n",
       "      <th>3</th>\n",
       "      <td>100347</td>\n",
       "      <td>https://www.airbnb.com/rooms/100347</td>\n",
       "      <td>20220320051241</td>\n",
       "      <td>2022-03-20</td>\n",
       "      <td>3BDR full Home at Sorolla station and Metro Jesús</td>\n",
       "      <td>Te va a encantar mi espacio por la ubicación y...</td>\n",
       "      <td>Barrio de Jesús, cercano al centro, zona conso...</td>\n",
       "      <td>https://a0.muscache.com/pictures/b0bb18e8-1f24...</td>\n",
       "      <td>1451371</td>\n",
       "      <td>https://www.airbnb.com/users/show/1451371</td>\n",
       "      <td>...</td>\n",
       "      <td>4.89</td>\n",
       "      <td>4.80</td>\n",
       "      <td>4.65</td>\n",
       "      <td>NaN</td>\n",
       "      <td>f</td>\n",
       "      <td>1</td>\n",
       "      <td>1</td>\n",
       "      <td>0</td>\n",
       "      <td>0</td>\n",
       "      <td>2.55</td>\n",
       "    </tr>\n",
       "    <tr>\n",
       "      <th>4</th>\n",
       "      <td>102524</td>\n",
       "      <td>https://www.airbnb.com/rooms/102524</td>\n",
       "      <td>20220320051241</td>\n",
       "      <td>2022-03-20</td>\n",
       "      <td>EXCLUSIVE VILLA WITH POOL &amp; 5 SUITES ON THE BEACH</td>\n",
       "      <td>DO NOT PARTY OR STAG/HEN PARTIES! THE RESERVAT...</td>\n",
       "      <td>Best restaurantes bars and clubs and chill out...</td>\n",
       "      <td>https://a0.muscache.com/pictures/d2019707-1596...</td>\n",
       "      <td>535881</td>\n",
       "      <td>https://www.airbnb.com/users/show/535881</td>\n",
       "      <td>...</td>\n",
       "      <td>4.63</td>\n",
       "      <td>4.79</td>\n",
       "      <td>4.35</td>\n",
       "      <td>VT-36438-V</td>\n",
       "      <td>f</td>\n",
       "      <td>7</td>\n",
       "      <td>6</td>\n",
       "      <td>1</td>\n",
       "      <td>0</td>\n",
       "      <td>1.25</td>\n",
       "    </tr>\n",
       "  </tbody>\n",
       "</table>\n",
       "<p>5 rows × 74 columns</p>\n",
       "</div>"
      ],
      "text/plain": [
       "       id                          listing_url       scrape_id last_scraped  \\\n",
       "0   48154   https://www.airbnb.com/rooms/48154  20220320051241   2022-03-21   \n",
       "1   55692   https://www.airbnb.com/rooms/55692  20220320051241   2022-03-21   \n",
       "2   95393   https://www.airbnb.com/rooms/95393  20220320051241   2022-03-21   \n",
       "3  100347  https://www.airbnb.com/rooms/100347  20220320051241   2022-03-20   \n",
       "4  102524  https://www.airbnb.com/rooms/102524  20220320051241   2022-03-20   \n",
       "\n",
       "                                                name  \\\n",
       "0                           beautiful apartment wifi   \n",
       "1                             Delight in city center   \n",
       "2   Modern and bright Duplex 3 Bedrooms Center Wi-Fi   \n",
       "3  3BDR full Home at Sorolla station and Metro Jesús   \n",
       "4  EXCLUSIVE VILLA WITH POOL & 5 SUITES ON THE BEACH   \n",
       "\n",
       "                                         description  \\\n",
       "0  <b>The space</b><br />Hello everybody and than...   \n",
       "1  A great place to stay and visit Valencia.<br /...   \n",
       "2  This is \"Edificio Palomar Apartments\", I will ...   \n",
       "3  Te va a encantar mi espacio por la ubicación y...   \n",
       "4  DO NOT PARTY OR STAG/HEN PARTIES! THE RESERVAT...   \n",
       "\n",
       "                               neighborhood_overview  \\\n",
       "0                                                NaN   \n",
       "1                                                NaN   \n",
       "2  It is just 10 min walking distance to the Cath...   \n",
       "3  Barrio de Jesús, cercano al centro, zona conso...   \n",
       "4  Best restaurantes bars and clubs and chill out...   \n",
       "\n",
       "                                         picture_url  host_id  \\\n",
       "0  https://a0.muscache.com/pictures/1109085/9c0d4...   219476   \n",
       "1  https://a0.muscache.com/pictures/329316/a5d6a7...   120649   \n",
       "2  https://a0.muscache.com/pictures/931683/64aebc...   508042   \n",
       "3  https://a0.muscache.com/pictures/b0bb18e8-1f24...  1451371   \n",
       "4  https://a0.muscache.com/pictures/d2019707-1596...   535881   \n",
       "\n",
       "                                    host_url  ... review_scores_communication  \\\n",
       "0   https://www.airbnb.com/users/show/219476  ...                        4.73   \n",
       "1   https://www.airbnb.com/users/show/120649  ...                        5.00   \n",
       "2   https://www.airbnb.com/users/show/508042  ...                        4.75   \n",
       "3  https://www.airbnb.com/users/show/1451371  ...                        4.89   \n",
       "4   https://www.airbnb.com/users/show/535881  ...                        4.63   \n",
       "\n",
       "  review_scores_location review_scores_value     license instant_bookable  \\\n",
       "0                   4.42                4.50  VT-41540-V                f   \n",
       "1                   5.00                5.00         NaN                f   \n",
       "2                   4.75                4.67       31815                f   \n",
       "3                   4.80                4.65         NaN                f   \n",
       "4                   4.79                4.35  VT-36438-V                f   \n",
       "\n",
       "  calculated_host_listings_count calculated_host_listings_count_entire_homes  \\\n",
       "0                              2                                           2   \n",
       "1                              1                                           1   \n",
       "2                              5                                           5   \n",
       "3                              1                                           1   \n",
       "4                              7                                           6   \n",
       "\n",
       "  calculated_host_listings_count_private_rooms  \\\n",
       "0                                            0   \n",
       "1                                            0   \n",
       "2                                            0   \n",
       "3                                            0   \n",
       "4                                            1   \n",
       "\n",
       "  calculated_host_listings_count_shared_rooms reviews_per_month  \n",
       "0                                           0              0.86  \n",
       "1                                           0              0.01  \n",
       "2                                           0              0.79  \n",
       "3                                           0              2.55  \n",
       "4                                           0              1.25  \n",
       "\n",
       "[5 rows x 74 columns]"
      ]
     },
     "execution_count": 5,
     "metadata": {},
     "output_type": "execute_result"
    }
   ],
   "source": [
    "valencia.head()"
   ]
  },
  {
   "cell_type": "code",
   "execution_count": 7,
   "id": "a170855d",
   "metadata": {},
   "outputs": [
    {
     "data": {
      "text/plain": [
       "(6025, 74)"
      ]
     },
     "execution_count": 7,
     "metadata": {},
     "output_type": "execute_result"
    }
   ],
   "source": [
    "valencia.shape"
   ]
  },
  {
   "cell_type": "code",
   "execution_count": 10,
   "id": "7c690fba",
   "metadata": {},
   "outputs": [
    {
     "data": {
      "text/plain": [
       "0        $66.00\n",
       "1       $100.00\n",
       "2       $142.00\n",
       "3       $107.00\n",
       "4       $253.00\n",
       "         ...   \n",
       "6020     $78.00\n",
       "6021     $36.00\n",
       "6022     $67.00\n",
       "6023     $59.00\n",
       "6024     $25.00\n",
       "Name: price, Length: 6025, dtype: object"
      ]
     },
     "execution_count": 10,
     "metadata": {},
     "output_type": "execute_result"
    }
   ],
   "source": [
    "valencia['price']"
   ]
  },
  {
   "cell_type": "code",
   "execution_count": 14,
   "id": "bfe8ee7a",
   "metadata": {},
   "outputs": [
    {
     "data": {
      "text/plain": [
       "0        4\n",
       "1        3\n",
       "2        6\n",
       "3        6\n",
       "4       15\n",
       "        ..\n",
       "6020     6\n",
       "6021     2\n",
       "6022     1\n",
       "6023     1\n",
       "6024     2\n",
       "Name: accommodates, Length: 6025, dtype: int64"
      ]
     },
     "execution_count": 14,
     "metadata": {},
     "output_type": "execute_result"
    }
   ],
   "source": [
    "valencia['accommodates']"
   ]
  },
  {
   "cell_type": "code",
   "execution_count": 16,
   "id": "92aad9ff",
   "metadata": {},
   "outputs": [
    {
     "data": {
      "text/plain": [
       "id                                                                           48154\n",
       "listing_url                                     https://www.airbnb.com/rooms/48154\n",
       "scrape_id                                                           20220320051241\n",
       "last_scraped                                                            2022-03-21\n",
       "name                                                      beautiful apartment wifi\n",
       "                                                               ...                \n",
       "calculated_host_listings_count                                                   2\n",
       "calculated_host_listings_count_entire_homes                                      2\n",
       "calculated_host_listings_count_private_rooms                                     0\n",
       "calculated_host_listings_count_shared_rooms                                      0\n",
       "reviews_per_month                                                             0.86\n",
       "Name: 0, Length: 74, dtype: object"
      ]
     },
     "execution_count": 16,
     "metadata": {},
     "output_type": "execute_result"
    }
   ],
   "source": [
    "valencia.iloc[0]"
   ]
  },
  {
   "cell_type": "markdown",
   "id": "fae02691",
   "metadata": {},
   "source": [
    "KNN: \n",
    "\n",
    "- Encontrar alojamientos similares (por el momento vamos a suponer que son similares por el número de inquilinos)\n",
    "- Calcularemos el precio medio de estos alojamientos (de los k primeros)\n",
    "- Este será nuestro precio."
   ]
  },
  {
   "cell_type": "markdown",
   "id": "98a56fe3",
   "metadata": {},
   "source": [
    "Nuestro alojamiento tiene capacidad para tres personas.\n",
    "\n",
    "- Calcular la distancia euclidiana entre nuestra capacidad y el primer alojamiento del dataframe\n"
   ]
  },
  {
   "cell_type": "code",
   "execution_count": 22,
   "id": "f7ef3c90",
   "metadata": {},
   "outputs": [],
   "source": [
    "import numpy as np\n",
    "\n",
    "nuestra_capacidad = 3\n",
    "valencia.iloc[0]['accommodates']\n",
    "distancia_con_el_primero = np.abs(nuestra_capacidad - valencia.iloc[0]['accommodates'])"
   ]
  },
  {
   "cell_type": "code",
   "execution_count": 25,
   "id": "a284eb1d",
   "metadata": {},
   "outputs": [
    {
     "data": {
      "text/plain": [
       "1"
      ]
     },
     "execution_count": 25,
     "metadata": {},
     "output_type": "execute_result"
    }
   ],
   "source": [
    "distancia_con_el_primero"
   ]
  },
  {
   "cell_type": "code",
   "execution_count": 27,
   "id": "163821a4",
   "metadata": {},
   "outputs": [],
   "source": [
    "todas_las_distancias = valencia['accommodates'].apply(\n",
    "    lambda x: np.abs(x-nuestra_capacidad)\n",
    ")"
   ]
  },
  {
   "cell_type": "code",
   "execution_count": 30,
   "id": "9c4a7335",
   "metadata": {},
   "outputs": [
    {
     "data": {
      "text/plain": [
       "0        1\n",
       "1        0\n",
       "2        3\n",
       "3        3\n",
       "4       12\n",
       "        ..\n",
       "6020     3\n",
       "6021     1\n",
       "6022     2\n",
       "6023     2\n",
       "6024     1\n",
       "Name: accommodates, Length: 6025, dtype: int64"
      ]
     },
     "execution_count": 30,
     "metadata": {},
     "output_type": "execute_result"
    }
   ],
   "source": [
    "todas_las_distancias"
   ]
  },
  {
   "cell_type": "code",
   "execution_count": 32,
   "id": "446a7b7d",
   "metadata": {},
   "outputs": [],
   "source": [
    "valencia['distancia'] = todas_las_distancias"
   ]
  },
  {
   "cell_type": "code",
   "execution_count": 35,
   "id": "f1880904",
   "metadata": {},
   "outputs": [
    {
     "data": {
      "text/plain": [
       "1     3247\n",
       "2     1207\n",
       "3      688\n",
       "0      496\n",
       "5      195\n",
       "4      103\n",
       "7       26\n",
       "6       17\n",
       "9       15\n",
       "8       12\n",
       "13       8\n",
       "11       7\n",
       "10       3\n",
       "12       1\n",
       "Name: distancia, dtype: int64"
      ]
     },
     "execution_count": 35,
     "metadata": {},
     "output_type": "execute_result"
    }
   ],
   "source": [
    "valencia['distancia'].value_counts()"
   ]
  },
  {
   "cell_type": "code",
   "execution_count": 40,
   "id": "aa2a593e",
   "metadata": {},
   "outputs": [
    {
     "data": {
      "text/html": [
       "<div>\n",
       "<style scoped>\n",
       "    .dataframe tbody tr th:only-of-type {\n",
       "        vertical-align: middle;\n",
       "    }\n",
       "\n",
       "    .dataframe tbody tr th {\n",
       "        vertical-align: top;\n",
       "    }\n",
       "\n",
       "    .dataframe thead th {\n",
       "        text-align: right;\n",
       "    }\n",
       "</style>\n",
       "<table border=\"1\" class=\"dataframe\">\n",
       "  <thead>\n",
       "    <tr style=\"text-align: right;\">\n",
       "      <th></th>\n",
       "      <th>distancia</th>\n",
       "      <th>accommodates</th>\n",
       "      <th>name</th>\n",
       "      <th>price</th>\n",
       "    </tr>\n",
       "  </thead>\n",
       "  <tbody>\n",
       "    <tr>\n",
       "      <th>5010</th>\n",
       "      <td>0</td>\n",
       "      <td>3</td>\n",
       "      <td>casa típica marinera en el corazón del cabanyal</td>\n",
       "      <td>$75.00</td>\n",
       "    </tr>\n",
       "    <tr>\n",
       "      <th>3254</th>\n",
       "      <td>0</td>\n",
       "      <td>3</td>\n",
       "      <td>Triple Room Valencia Center</td>\n",
       "      <td>$50.00</td>\n",
       "    </tr>\n",
       "    <tr>\n",
       "      <th>5002</th>\n",
       "      <td>0</td>\n",
       "      <td>3</td>\n",
       "      <td>HABITACIÓN lV CENTRO 3  PLAZAS</td>\n",
       "      <td>$41.00</td>\n",
       "    </tr>\n",
       "    <tr>\n",
       "      <th>696</th>\n",
       "      <td>0</td>\n",
       "      <td>3</td>\n",
       "      <td>Apartment in Carmen</td>\n",
       "      <td>$41.00</td>\n",
       "    </tr>\n",
       "    <tr>\n",
       "      <th>1919</th>\n",
       "      <td>0</td>\n",
       "      <td>3</td>\n",
       "      <td>Habitación I♡Travel</td>\n",
       "      <td>$30.00</td>\n",
       "    </tr>\n",
       "  </tbody>\n",
       "</table>\n",
       "</div>"
      ],
      "text/plain": [
       "      distancia  accommodates  \\\n",
       "5010          0             3   \n",
       "3254          0             3   \n",
       "5002          0             3   \n",
       "696           0             3   \n",
       "1919          0             3   \n",
       "\n",
       "                                                 name   price  \n",
       "5010  casa típica marinera en el corazón del cabanyal  $75.00  \n",
       "3254                      Triple Room Valencia Center  $50.00  \n",
       "5002                   HABITACIÓN lV CENTRO 3  PLAZAS  $41.00  \n",
       "696                               Apartment in Carmen  $41.00  \n",
       "1919                              Habitación I♡Travel  $30.00  "
      ]
     },
     "execution_count": 40,
     "metadata": {},
     "output_type": "execute_result"
    }
   ],
   "source": [
    "valencia.sort_values('distancia')[['distancia', 'accommodates', 'name', 'price']].head(5)"
   ]
  },
  {
   "cell_type": "markdown",
   "id": "448fc5d8",
   "metadata": {},
   "source": [
    "Hemos introducido un sesgo al recoger los datos, porque ya venían 'ordenados' de cierta forma. \n",
    "\n",
    "\n",
    "Primero hay que barajar todos los elementos\n",
    "\n",
    "Esto se hace con `np.random.permutation`"
   ]
  },
  {
   "cell_type": "code",
   "execution_count": null,
   "id": "4e54559a",
   "metadata": {},
   "outputs": [],
   "source": [
    "# es una buena práctica introducir la semilla, para que los resultados siempre sean los mismos\n",
    "np.random.seed(1)"
   ]
  },
  {
   "cell_type": "code",
   "execution_count": null,
   "id": "c2c7bcb1",
   "metadata": {},
   "outputs": [],
   "source": []
  }
 ],
 "metadata": {
  "kernelspec": {
   "display_name": "Python 3 (ipykernel)",
   "language": "python",
   "name": "python3"
  },
  "language_info": {
   "codemirror_mode": {
    "name": "ipython",
    "version": 3
   },
   "file_extension": ".py",
   "mimetype": "text/x-python",
   "name": "python",
   "nbconvert_exporter": "python",
   "pygments_lexer": "ipython3",
   "version": "3.10.5"
  }
 },
 "nbformat": 4,
 "nbformat_minor": 5
}
