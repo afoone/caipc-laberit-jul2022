{
 "cells": [
  {
   "cell_type": "markdown",
   "id": "e58d6743",
   "metadata": {},
   "source": [
    "Algebra lineal:\n",
    "- Escalares ( numero)\n",
    "- Vector: es una serie de números ... puntos en un espacio n-dimensional (n es el rango de un vector)\n",
    "- Matrices: vectores bidimensionales\n",
    "- Tensores: generalización de una matriz en n dimensiones\n",
    "\n",
    "\n"
   ]
  },
  {
   "cell_type": "code",
   "execution_count": 2,
   "id": "bce639fb",
   "metadata": {},
   "outputs": [],
   "source": [
    "import numpy as np\n",
    "import numpy.linalg as linalg\n",
    "import scipy.linalg \n",
    "# sympy - > matemática símbolica \n",
    "# CVXOPT, pulp - programación lineal"
   ]
  },
  {
   "cell_type": "code",
   "execution_count": 4,
   "id": "b5bf041c",
   "metadata": {},
   "outputs": [
    {
     "data": {
      "text/plain": [
       "[2, 4, 6]"
      ]
     },
     "execution_count": 4,
     "metadata": {},
     "output_type": "execute_result"
    }
   ],
   "source": [
    "# vectores\n",
    "v1 = [2,4,6]\n",
    "v1"
   ]
  },
  {
   "cell_type": "code",
   "execution_count": 5,
   "id": "747bba84",
   "metadata": {},
   "outputs": [
    {
     "data": {
      "text/plain": [
       "array([1., 1., 1.])"
      ]
     },
     "execution_count": 5,
     "metadata": {},
     "output_type": "execute_result"
    }
   ],
   "source": [
    "#  con numpy\n",
    "np.ones(3)"
   ]
  },
  {
   "cell_type": "code",
   "execution_count": 7,
   "id": "2d60376e",
   "metadata": {},
   "outputs": [
    {
     "data": {
      "text/plain": [
       "array([1, 2])"
      ]
     },
     "execution_count": 7,
     "metadata": {},
     "output_type": "execute_result"
    }
   ],
   "source": [
    "np.arange(1,3)"
   ]
  },
  {
   "cell_type": "markdown",
   "id": "decab953",
   "metadata": {},
   "source": [
    "Supongamos que tenemos que elegir entre dos ofertas de trabajo diferentes. La primera oferta de trabajo tiene un salario semanal base de 1000 dólares y paga 30 dólares por hora. Podemos representar esta oferta como **y=1000+30x**, donde y representa los dólares ganados esa semana y x representa las horas trabajadas esa semana. La segunda oferta de trabajo tiene un salario semanal base de 100 dólares y paga 50 dólares por hora. Podemos representar esta oferta como **y=100+50x**, donde y también representa los dólares ganados esa semana y xx también representa las horas trabajadas esa semana."
   ]
  },
  {
   "cell_type": "code",
   "execution_count": 14,
   "id": "5f74843c",
   "metadata": {},
   "outputs": [
    {
     "data": {
      "image/png": "[encoded data removed]",
      "text/plain": [
       "<Figure size 432x288 with 1 Axes>"
      ]
     },
     "metadata": {
      "needs_background": "light"
     },
     "output_type": "display_data"
    }
   ],
   "source": [
    "import matplotlib.pyplot as plt\n",
    "\n",
    "x=np.linspace(1,80, 40)\n",
    "y1 = 1000 + 30*x\n",
    "y2 = 100 + 50 * x\n",
    "plt.plot(x, y1, c='green')\n",
    "plt.plot(x, y2, c='yellow')\n",
    "plt.show()\n"
   ]
  },
  {
   "cell_type": "markdown",
   "id": "299aa658",
   "metadata": {},
   "source": [
    "```\n",
    "x - 2y = 1\n",
    "3x + 2y = 11\n",
    "```\n"
   ]
  },
  {
   "cell_type": "markdown",
   "id": "9e3f3233",
   "metadata": {},
   "source": [
    "A = v"
   ]
  },
  {
   "cell_type": "code",
   "execution_count": 15,
   "id": "4659854c",
   "metadata": {},
   "outputs": [
    {
     "data": {
      "text/plain": [
       "array([[ 1, -2],\n",
       "       [ 3,  2]])"
      ]
     },
     "execution_count": 15,
     "metadata": {},
     "output_type": "execute_result"
    }
   ],
   "source": [
    "A = np.array(\n",
    "    [\n",
    "        [1, -2],\n",
    "        [3, 2]\n",
    "    ]\n",
    ")\n",
    "A"
   ]
  },
  {
   "cell_type": "code",
   "execution_count": 17,
   "id": "50451b23",
   "metadata": {},
   "outputs": [],
   "source": [
    "v  = np.array([1, 11])"
   ]
  },
  {
   "cell_type": "code",
   "execution_count": 18,
   "id": "c68d2306",
   "metadata": {},
   "outputs": [
    {
     "data": {
      "text/plain": [
       "array([3., 1.])"
      ]
     },
     "execution_count": 18,
     "metadata": {},
     "output_type": "execute_result"
    }
   ],
   "source": [
    "np.linalg.solve(A, v)"
   ]
  },
  {
   "cell_type": "code",
   "execution_count": null,
   "id": "c48589ca",
   "metadata": {},
   "outputs": [],
   "source": []
  },
  {
   "cell_type": "code",
   "execution_count": null,
   "id": "9431671f",
   "metadata": {},
   "outputs": [],
   "source": []
  },
  {
   "cell_type": "code",
   "execution_count": null,
   "id": "49a1f855",
   "metadata": {},
   "outputs": [],
   "source": []
  },
  {
   "cell_type": "code",
   "execution_count": null,
   "id": "06ed52f2",
   "metadata": {},
   "outputs": [],
   "source": []
  },
  {
   "cell_type": "code",
   "execution_count": null,
   "id": "156ffbed",
   "metadata": {},
   "outputs": [],
   "source": []
  }
 ],
 "metadata": {
  "kernelspec": {
   "display_name": "Python 3 (ipykernel)",
   "language": "python",
   "name": "python3"
  },
  "language_info": {
   "codemirror_mode": {
    "name": "ipython",
    "version": 3
   },
   "file_extension": ".py",
   "mimetype": "text/x-python",
   "name": "python",
   "nbconvert_exporter": "python",
   "pygments_lexer": "ipython3",
   "version": "3.10.5"
  }
 },
 "nbformat": 4,
 "nbformat_minor": 5
}
